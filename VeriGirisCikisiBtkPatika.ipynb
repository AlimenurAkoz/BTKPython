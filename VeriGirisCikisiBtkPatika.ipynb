{
 "cells": [
  {
   "cell_type": "code",
   "execution_count": 1,
   "id": "601015a8-fadf-4243-adf3-68a63aea76a0",
   "metadata": {},
   "outputs": [
    {
     "name": "stdin",
     "output_type": "stream",
     "text": [
      "İsminiz:  Ayşe\n"
     ]
    }
   ],
   "source": [
    "isim = input(\"İsminiz: \")\n"
   ]
  },
  {
   "cell_type": "code",
   "execution_count": 2,
   "id": "b112ca39-5bb6-4afa-837a-d50740c900f5",
   "metadata": {},
   "outputs": [
    {
     "name": "stdout",
     "output_type": "stream",
     "text": [
      "İsim:  Ayşe\n"
     ]
    }
   ],
   "source": [
    "print(\"İsim: \", isim)"
   ]
  },
  {
   "cell_type": "code",
   "execution_count": 6,
   "id": "76ea5203-fd96-4582-89d9-1bd5c70cb2c6",
   "metadata": {},
   "outputs": [
    {
     "data": {
      "text/plain": [
       "str"
      ]
     },
     "execution_count": 6,
     "metadata": {},
     "output_type": "execute_result"
    }
   ],
   "source": [
    "type(isim)"
   ]
  },
  {
   "cell_type": "code",
   "execution_count": 43,
   "id": "d0d6707d-fbcd-4e09-8178-621743114e47",
   "metadata": {},
   "outputs": [
    {
     "name": "stdin",
     "output_type": "stream",
     "text": [
      "Yaşınızı giriniz:  20\n"
     ]
    }
   ],
   "source": [
    "yas = int(input(\"Yaşınızı giriniz: \"))"
   ]
  },
  {
   "cell_type": "code",
   "execution_count": 48,
   "id": "ca574a78-37d1-44a6-b55d-02b23c73083e",
   "metadata": {},
   "outputs": [
    {
     "name": "stdout",
     "output_type": "stream",
     "text": [
      "Yaş:  20\n"
     ]
    }
   ],
   "source": [
    "print(\"Yaş: \", yas)"
   ]
  },
  {
   "cell_type": "code",
   "execution_count": 49,
   "id": "fdf8ebed-9a98-4e72-92b6-1cda2dfc8431",
   "metadata": {},
   "outputs": [
    {
     "data": {
      "text/plain": [
       "int"
      ]
     },
     "execution_count": 49,
     "metadata": {},
     "output_type": "execute_result"
    }
   ],
   "source": [
    "type(yas)"
   ]
  },
  {
   "cell_type": "code",
   "execution_count": 50,
   "id": "e902e0da-bfa3-482e-b60e-789b2819b11c",
   "metadata": {},
   "outputs": [
    {
     "name": "stdin",
     "output_type": "stream",
     "text": [
      "Kaça Gidiyorsunuz:  5\n"
     ]
    }
   ],
   "source": [
    "sinif = float(input(\"Kaça Gidiyorsunuz: \"))"
   ]
  },
  {
   "cell_type": "code",
   "execution_count": 51,
   "id": "f85134c7-0aaf-4f9c-b41e-b2a2ca069caa",
   "metadata": {},
   "outputs": [
    {
     "name": "stdout",
     "output_type": "stream",
     "text": [
      "Sınıf:  5.0\n"
     ]
    }
   ],
   "source": [
    "print(\"Sınıf: \", sinif)"
   ]
  },
  {
   "cell_type": "code",
   "execution_count": 52,
   "id": "3747b931-2b18-45ac-b74b-3efdb96b6e78",
   "metadata": {},
   "outputs": [
    {
     "data": {
      "text/plain": [
       "float"
      ]
     },
     "execution_count": 52,
     "metadata": {},
     "output_type": "execute_result"
    }
   ],
   "source": [
    "type(sinif)"
   ]
  },
  {
   "cell_type": "code",
   "execution_count": 53,
   "id": "5187a427-44c4-4c08-83ba-0dd2b48a5fc7",
   "metadata": {},
   "outputs": [
    {
     "ename": "SyntaxError",
     "evalue": "unterminated string literal (detected at line 1) (2671186202.py, line 1)",
     "output_type": "error",
     "traceback": [
      "\u001b[1;36m  Cell \u001b[1;32mIn[53], line 1\u001b[1;36m\u001b[0m\n\u001b[1;33m    hata = input(\"Ad')\u001b[0m\n\u001b[1;37m                 ^\u001b[0m\n\u001b[1;31mSyntaxError\u001b[0m\u001b[1;31m:\u001b[0m unterminated string literal (detected at line 1)\n"
     ]
    }
   ],
   "source": [
    "hata = input(\"Ad')"
   ]
  },
  {
   "cell_type": "code",
   "execution_count": 55,
   "id": "df0042e6-32a8-4759-b557-1dc7f6115492",
   "metadata": {},
   "outputs": [
    {
     "name": "stdin",
     "output_type": "stream",
     "text": [
      "Ad BTK\n"
     ]
    }
   ],
   "source": [
    "hata = input(\"Ad\")"
   ]
  },
  {
   "cell_type": "code",
   "execution_count": 56,
   "id": "c633af4d-84c4-4376-9939-9dadcd95771a",
   "metadata": {},
   "outputs": [
    {
     "name": "stdout",
     "output_type": "stream",
     "text": [
      "BTK\n"
     ]
    }
   ],
   "source": [
    "print(hata)"
   ]
  },
  {
   "cell_type": "code",
   "execution_count": 57,
   "id": "11dcdc57-005d-4b3c-bf27-c4eb1c973dd0",
   "metadata": {},
   "outputs": [
    {
     "name": "stdout",
     "output_type": "stream",
     "text": [
      "BTK\n",
      "b t k\n"
     ]
    }
   ],
   "source": [
    "print(\"BTK\")\n",
    "print('b','t','k')"
   ]
  },
  {
   "cell_type": "code",
   "execution_count": 58,
   "id": "3c6d3740-4c05-4a57-80bc-03dce730ea9c",
   "metadata": {},
   "outputs": [
    {
     "name": "stdout",
     "output_type": "stream",
     "text": [
      "b,t,k\n"
     ]
    }
   ],
   "source": [
    "#sep --> Çıktı mesajındaki karakterler arasına ayraç koyar.\n",
    "print('b', 't', 'k', sep=',')"
   ]
  },
  {
   "cell_type": "code",
   "execution_count": 59,
   "id": "7cf984f7-a0b2-470f-8b4e-fe756566971a",
   "metadata": {},
   "outputs": [
    {
     "name": "stdout",
     "output_type": "stream",
     "text": [
      "b*t*k\n"
     ]
    }
   ],
   "source": [
    "print('b', 't', 'k', sep='*')"
   ]
  },
  {
   "cell_type": "code",
   "execution_count": 61,
   "id": "394843fb-440c-455b-909d-c760424995cf",
   "metadata": {},
   "outputs": [
    {
     "name": "stdout",
     "output_type": "stream",
     "text": [
      "10\n",
      "70\n",
      "BTKBTKBTK\n"
     ]
    }
   ],
   "source": [
    "x = 10\n",
    "print(x)\n",
    "a = 7\n",
    "print(a*x)#matematiksel işlem\n",
    "print(\"BTK\"*3)#String'in kaç kez yazılacağı."
   ]
  },
  {
   "cell_type": "code",
   "execution_count": 62,
   "id": "b81d27a8-5758-40f4-82bb-ad3d1d196cd1",
   "metadata": {},
   "outputs": [
    {
     "name": "stdout",
     "output_type": "stream",
     "text": [
      "Yaşınız nedir?\n"
     ]
    },
    {
     "name": "stdin",
     "output_type": "stream",
     "text": [
      " 2\n"
     ]
    }
   ],
   "source": [
    "print(\"Yaşınız nedir?\")\n",
    "yas = input()    #2 kodu beraber çalıştırdık."
   ]
  },
  {
   "cell_type": "code",
   "execution_count": 66,
   "id": "b1003ac7-c2c1-4c31-9f60-b796869d2236",
   "metadata": {},
   "outputs": [
    {
     "name": "stdout",
     "output_type": "stream",
     "text": [
      "Yaşınız nedir? "
     ]
    },
    {
     "name": "stdin",
     "output_type": "stream",
     "text": [
      " 20\n"
     ]
    }
   ],
   "source": [
    "print(\"Yaşınız nedir?\", end=(' '))#end işlemi içerisindekini alt satıra \n",
    "yas = input()                 #geçirmez yanından devam ettirir"
   ]
  },
  {
   "cell_type": "code",
   "execution_count": 65,
   "id": "5d464d4f-32d1-48e0-9953-a0f27d10a1f2",
   "metadata": {},
   "outputs": [
    {
     "name": "stdout",
     "output_type": "stream",
     "text": [
      "Yaşınız nedir?..: "
     ]
    },
    {
     "name": "stdin",
     "output_type": "stream",
     "text": [
      " 20\n"
     ]
    }
   ],
   "source": [
    "print(\"Yaşınız nedir?\", end=('..: '))#end işlemi alt satıra geçirmez yanından\n",
    "yas = input()"
   ]
  },
  {
   "cell_type": "code",
   "execution_count": 67,
   "id": "c0870193-942e-4efb-babb-930743e69ff2",
   "metadata": {},
   "outputs": [
    {
     "name": "stdout",
     "output_type": "stream",
     "text": [
      "BTK\n",
      "Akademi\n",
      "BTK\tAkademi\n",
      "\\\n"
     ]
    }
   ],
   "source": [
    "print(\"BTK\\nAkademi\")#\\n alt satıra geçirir.\n",
    "print(\"BTK\\tAkademi\")#\\t br tab boşluk bırakır.\n",
    "print(\"\\\\\")#tek \\'da hata verir yazmaz iki tanesi tek \\ yazdırır."
   ]
  },
  {
   "cell_type": "code",
   "execution_count": 68,
   "id": "8c13794d-0c90-4b8d-9c12-757315f4206c",
   "metadata": {},
   "outputs": [
    {
     "name": "stdout",
     "output_type": "stream",
     "text": [
      "A =  5\n",
      "a = 5\n",
      "A = 5\n",
      "A = 5\n"
     ]
    }
   ],
   "source": [
    "A = 5\n",
    "print(\"A = \", A)\n",
    "print(\"a = {0}\".format(A))\n",
    "print(f\"A = {A}\")\n",
    "print('A = ' + str(A))"
   ]
  },
  {
   "cell_type": "code",
   "execution_count": 14,
   "id": "42e6457a-8eea-4425-b191-3af2238f9a2e",
   "metadata": {},
   "outputs": [
    {
     "data": {
      "text/plain": [
       "'54'"
      ]
     },
     "execution_count": 14,
     "metadata": {},
     "output_type": "execute_result"
    }
   ],
   "source": [
    "#burdan sonrası patika ders notlarım(STRİNG)\n",
    "\"5\" + \"4\""
   ]
  },
  {
   "cell_type": "code",
   "execution_count": 2,
   "id": "f039a667-34d1-4fb1-8264-51f50faf6c94",
   "metadata": {},
   "outputs": [
    {
     "data": {
      "text/plain": [
       "'HeyNasılsın'"
      ]
     },
     "execution_count": 2,
     "metadata": {},
     "output_type": "execute_result"
    }
   ],
   "source": [
    "\"Hey\" + \"Nasılsın\""
   ]
  },
  {
   "cell_type": "code",
   "execution_count": 3,
   "id": "c8a20238-4b94-4cae-bb6d-d6711614c51a",
   "metadata": {},
   "outputs": [
    {
     "data": {
      "text/plain": [
       "'Hey Nasılsın'"
      ]
     },
     "execution_count": 3,
     "metadata": {},
     "output_type": "execute_result"
    }
   ],
   "source": [
    "\"Hey\" +\" \" + \"Nasılsın\""
   ]
  },
  {
   "cell_type": "code",
   "execution_count": 4,
   "id": "bf6f4e00-d6f1-4de6-9d9c-59c8a2b37398",
   "metadata": {},
   "outputs": [
    {
     "data": {
      "text/plain": [
       "'HeyNasılsın'"
      ]
     },
     "execution_count": 4,
     "metadata": {},
     "output_type": "execute_result"
    }
   ],
   "source": [
    "\"Hey\" +\"\" + \"Nasılsın\""
   ]
  },
  {
   "cell_type": "code",
   "execution_count": 5,
   "id": "6d930bec-eda4-4d7b-9fbf-11c354384e19",
   "metadata": {},
   "outputs": [
    {
     "data": {
      "text/plain": [
       "'Merhaba Alime'"
      ]
     },
     "execution_count": 5,
     "metadata": {},
     "output_type": "execute_result"
    }
   ],
   "source": [
    "mesaj = \"Merhaba\"\n",
    "isim = \"Alime\"\n",
    "mesaj + \" \" + isim #print olmadığı için çıktıda tırnak('') var."
   ]
  },
  {
   "cell_type": "code",
   "execution_count": 6,
   "id": "6869c6cf-6253-4333-87ba-404e296aa19b",
   "metadata": {},
   "outputs": [
    {
     "name": "stdout",
     "output_type": "stream",
     "text": [
      "Merhaba Alime\n"
     ]
    }
   ],
   "source": [
    "karsılama = mesaj + \" \" + isim\n",
    "print(karsılama)#print olduğu için çıktıda tırnak('') yok."
   ]
  },
  {
   "cell_type": "code",
   "execution_count": 7,
   "id": "0c13505d-c437-4d69-9eaf-d97386a1b276",
   "metadata": {},
   "outputs": [
    {
     "data": {
      "text/plain": [
       "'HeyHeyHeyHey'"
      ]
     },
     "execution_count": 7,
     "metadata": {},
     "output_type": "execute_result"
    }
   ],
   "source": [
    "4* \"Hey\""
   ]
  },
  {
   "cell_type": "code",
   "execution_count": 8,
   "id": "d56ed0d2-f80f-4743-b55e-be6190c1c867",
   "metadata": {},
   "outputs": [
    {
     "data": {
      "text/plain": [
       "'10000000000'"
      ]
     },
     "execution_count": 8,
     "metadata": {},
     "output_type": "execute_result"
    }
   ],
   "source": [
    "\"1\" + \"0\"*10"
   ]
  },
  {
   "cell_type": "code",
   "execution_count": 9,
   "id": "bf294a58-bedd-4e25-a246-018e9b1008e2",
   "metadata": {},
   "outputs": [
    {
     "data": {
      "text/plain": [
       "str"
      ]
     },
     "execution_count": 9,
     "metadata": {},
     "output_type": "execute_result"
    }
   ],
   "source": [
    "type(\"1\" + \"0\"*10)"
   ]
  },
  {
   "cell_type": "code",
   "execution_count": 11,
   "id": "53d2bfa6-3449-4471-b358-0c787904b373",
   "metadata": {},
   "outputs": [
    {
     "data": {
      "text/plain": [
       "2"
      ]
     },
     "execution_count": 11,
     "metadata": {},
     "output_type": "execute_result"
    }
   ],
   "source": [
    "len(\"42\")"
   ]
  },
  {
   "cell_type": "code",
   "execution_count": 12,
   "id": "df38b597-9aac-4b6f-99d5-1a232ccfa23a",
   "metadata": {},
   "outputs": [
    {
     "data": {
      "text/plain": [
       "4"
      ]
     },
     "execution_count": 12,
     "metadata": {},
     "output_type": "execute_result"
    }
   ],
   "source": [
    "len(\"hey!\")"
   ]
  },
  {
   "cell_type": "code",
   "execution_count": 13,
   "id": "d9a56afc-f241-4be3-b7ad-954336fbc403",
   "metadata": {},
   "outputs": [
    {
     "data": {
      "text/plain": [
       "1"
      ]
     },
     "execution_count": 13,
     "metadata": {},
     "output_type": "execute_result"
    }
   ],
   "source": [
    "len(\" \")"
   ]
  },
  {
   "cell_type": "code",
   "execution_count": 15,
   "id": "2b33a7a1-f70e-4a38-8fb7-b8ae79d32697",
   "metadata": {},
   "outputs": [
    {
     "data": {
      "text/plain": [
       "'e'"
      ]
     },
     "execution_count": 15,
     "metadata": {},
     "output_type": "execute_result"
    }
   ],
   "source": [
    "isim = \"Deniz\"\n",
    "isim[1]"
   ]
  },
  {
   "cell_type": "code",
   "execution_count": 16,
   "id": "f29b0119-350a-43c2-9e6f-9ee886f74a2a",
   "metadata": {},
   "outputs": [
    {
     "data": {
      "text/plain": [
       "'e'"
      ]
     },
     "execution_count": 16,
     "metadata": {},
     "output_type": "execute_result"
    }
   ],
   "source": [
    "\"Deniz\"[1]"
   ]
  },
  {
   "cell_type": "code",
   "execution_count": 17,
   "id": "a61fd6f4-1116-4a6c-8834-e6de725305c0",
   "metadata": {},
   "outputs": [
    {
     "data": {
      "text/plain": [
       "'z'"
      ]
     },
     "execution_count": 17,
     "metadata": {},
     "output_type": "execute_result"
    }
   ],
   "source": [
    "isim[-1] #son elemanı getirir."
   ]
  },
  {
   "cell_type": "code",
   "execution_count": 18,
   "id": "7bdec277-bb88-4506-a3df-7269ce88af5c",
   "metadata": {},
   "outputs": [
    {
     "data": {
      "text/plain": [
       "'i'"
      ]
     },
     "execution_count": 18,
     "metadata": {},
     "output_type": "execute_result"
    }
   ],
   "source": [
    "isim[-2] #sondan 2. elemanı getirir.\n"
   ]
  },
  {
   "cell_type": "code",
   "execution_count": 21,
   "id": "0f8a61fe-1e95-4e1a-9134-c64fb6f778d3",
   "metadata": {},
   "outputs": [
    {
     "data": {
      "text/plain": [
       "'Den'"
      ]
     },
     "execution_count": 21,
     "metadata": {},
     "output_type": "execute_result"
    }
   ],
   "source": [
    "#slicing/dilimleme\n",
    "#[başlangıç index: bitiş index]\n",
    "isim[0:3]#bitiş değerini dahil etmez"
   ]
  },
  {
   "cell_type": "code",
   "execution_count": 26,
   "id": "fecfc3c8-e628-4a66-b917-d92952a8f4e0",
   "metadata": {},
   "outputs": [
    {
     "data": {
      "text/plain": [
       "'Den'"
      ]
     },
     "execution_count": 26,
     "metadata": {},
     "output_type": "execute_result"
    }
   ],
   "source": [
    "isim[:3]#başlangıç değerini boş bırakınca 0 dan başlatır."
   ]
  },
  {
   "cell_type": "code",
   "execution_count": 24,
   "id": "932912d7-86e6-44c6-a046-045c01817eb6",
   "metadata": {},
   "outputs": [
    {
     "data": {
      "text/plain": [
       "'Deniz'"
      ]
     },
     "execution_count": 24,
     "metadata": {},
     "output_type": "execute_result"
    }
   ],
   "source": [
    "isim[0:]#bitişi boş bırakınca hepsini yazdırır."
   ]
  },
  {
   "cell_type": "code",
   "execution_count": 25,
   "id": "7fa68e97-12d0-4e60-aa81-c380b21bfd64",
   "metadata": {},
   "outputs": [
    {
     "data": {
      "text/plain": [
       "'Deniz'"
      ]
     },
     "execution_count": 25,
     "metadata": {},
     "output_type": "execute_result"
    }
   ],
   "source": [
    "isim[:]"
   ]
  },
  {
   "cell_type": "code",
   "execution_count": 27,
   "id": "be1796ac-9c6a-4750-8834-dd887d1db6fa",
   "metadata": {},
   "outputs": [
    {
     "data": {
      "text/plain": [
       "'Deniz'"
      ]
     },
     "execution_count": 27,
     "metadata": {},
     "output_type": "execute_result"
    }
   ],
   "source": [
    "isim[0:50]"
   ]
  },
  {
   "cell_type": "code",
   "execution_count": 28,
   "id": "a0ef59a5-31e2-4c49-b5ea-4b7c485e9fc2",
   "metadata": {},
   "outputs": [
    {
     "data": {
      "text/plain": [
       "'Dnz'"
      ]
     },
     "execution_count": 28,
     "metadata": {},
     "output_type": "execute_result"
    }
   ],
   "source": [
    "#[başlangıç:bitiş:adım]\n",
    "isim[0:10:2]"
   ]
  },
  {
   "cell_type": "code",
   "execution_count": 29,
   "id": "db36b91e-8445-42de-967f-6143083e80c9",
   "metadata": {},
   "outputs": [
    {
     "data": {
      "text/plain": [
       "'Dn'"
      ]
     },
     "execution_count": 29,
     "metadata": {},
     "output_type": "execute_result"
    }
   ],
   "source": [
    "isim[0:3:2]"
   ]
  },
  {
   "cell_type": "code",
   "execution_count": 30,
   "id": "47631f2c-a4cb-4805-aea0-1fa8aa938fa4",
   "metadata": {},
   "outputs": [
    {
     "data": {
      "text/plain": [
       "'zi'"
      ]
     },
     "execution_count": 30,
     "metadata": {},
     "output_type": "execute_result"
    }
   ],
   "source": [
    "isim[10:2:-1]"
   ]
  },
  {
   "cell_type": "code",
   "execution_count": 32,
   "id": "ddf0923a-a6b9-40f6-992a-f3ae3d2ddb1d",
   "metadata": {},
   "outputs": [
    {
     "data": {
      "text/plain": [
       "'zineD'"
      ]
     },
     "execution_count": 32,
     "metadata": {},
     "output_type": "execute_result"
    }
   ],
   "source": [
    "isim[10::-1]"
   ]
  },
  {
   "cell_type": "code",
   "execution_count": 33,
   "id": "265a99f0-9ff4-474c-8db1-50139b74e770",
   "metadata": {},
   "outputs": [
    {
     "data": {
      "text/plain": [
       "'zineD'"
      ]
     },
     "execution_count": 33,
     "metadata": {},
     "output_type": "execute_result"
    }
   ],
   "source": [
    "isim[::-1]"
   ]
  },
  {
   "cell_type": "code",
   "execution_count": 34,
   "id": "ce99c89b-22de-48e3-992e-ac63937a5a74",
   "metadata": {},
   "outputs": [
    {
     "data": {
      "text/plain": [
       "'znD'"
      ]
     },
     "execution_count": 34,
     "metadata": {},
     "output_type": "execute_result"
    }
   ],
   "source": [
    "isim[::-2]"
   ]
  },
  {
   "cell_type": "code",
   "execution_count": 36,
   "id": "ce535db2-8ba7-4a6a-b349-040e5f1d5982",
   "metadata": {},
   "outputs": [
    {
     "data": {
      "text/plain": [
       "5"
      ]
     },
     "execution_count": 36,
     "metadata": {},
     "output_type": "execute_result"
    }
   ],
   "source": [
    "#casting/tip değişitrme\n",
    "int(5.7)#floatı int e dönüştürme"
   ]
  },
  {
   "cell_type": "code",
   "execution_count": 37,
   "id": "9f7aa0ae-cfee-470c-915d-c22e5968a4f8",
   "metadata": {},
   "outputs": [
    {
     "data": {
      "text/plain": [
       "5"
      ]
     },
     "execution_count": 37,
     "metadata": {},
     "output_type": "execute_result"
    }
   ],
   "source": [
    "a = \"5\"\n",
    "b = \"8.2\"\n",
    "int(a)"
   ]
  },
  {
   "cell_type": "code",
   "execution_count": 39,
   "id": "18788e72-e67d-4a88-965a-81aa7cc09c77",
   "metadata": {},
   "outputs": [
    {
     "data": {
      "text/plain": [
       "8.2"
      ]
     },
     "execution_count": 39,
     "metadata": {},
     "output_type": "execute_result"
    }
   ],
   "source": [
    "float(b)"
   ]
  },
  {
   "cell_type": "code",
   "execution_count": 1,
   "id": "ebd0f4a9-70fd-4240-b542-c7a60c94ef93",
   "metadata": {},
   "outputs": [
    {
     "ename": "NameError",
     "evalue": "name 'b' is not defined",
     "output_type": "error",
     "traceback": [
      "\u001b[1;31m---------------------------------------------------------------------------\u001b[0m",
      "\u001b[1;31mNameError\u001b[0m                                 Traceback (most recent call last)",
      "Cell \u001b[1;32mIn[1], line 1\u001b[0m\n\u001b[1;32m----> 1\u001b[0m \u001b[38;5;28mint\u001b[39m(\u001b[38;5;28mfloat\u001b[39m(\u001b[43mb\u001b[49m))\n",
      "\u001b[1;31mNameError\u001b[0m: name 'b' is not defined"
     ]
    }
   ],
   "source": [
    "int(float(b))"
   ]
  },
  {
   "cell_type": "code",
   "execution_count": 2,
   "id": "016c4590-6d81-4627-b958-23b02c01381f",
   "metadata": {},
   "outputs": [
    {
     "data": {
      "text/plain": [
       "7"
      ]
     },
     "execution_count": 2,
     "metadata": {},
     "output_type": "execute_result"
    }
   ],
   "source": [
    "c = \"7.5\"\n",
    "int(float(c))"
   ]
  },
  {
   "cell_type": "code",
   "execution_count": 3,
   "id": "2269de9d-6c13-4b74-bc35-07a3eb462da1",
   "metadata": {},
   "outputs": [
    {
     "name": "stdin",
     "output_type": "stream",
     "text": [
      "Bir sayı giriniz: 5\n"
     ]
    },
    {
     "data": {
      "text/plain": [
       "5"
      ]
     },
     "execution_count": 3,
     "metadata": {},
     "output_type": "execute_result"
    }
   ],
   "source": [
    "int(input(\"Bir sayı giriniz:\"))"
   ]
  },
  {
   "cell_type": "code",
   "execution_count": 4,
   "id": "e4fee995-7ab0-4d5f-a0c4-789850a248e0",
   "metadata": {},
   "outputs": [
    {
     "name": "stdin",
     "output_type": "stream",
     "text": [
      "Bir sayı giriniz.: 5.4\n"
     ]
    },
    {
     "ename": "ValueError",
     "evalue": "invalid literal for int() with base 10: '5.4'",
     "output_type": "error",
     "traceback": [
      "\u001b[1;31m---------------------------------------------------------------------------\u001b[0m",
      "\u001b[1;31mValueError\u001b[0m                                Traceback (most recent call last)",
      "Cell \u001b[1;32mIn[4], line 1\u001b[0m\n\u001b[1;32m----> 1\u001b[0m \u001b[38;5;28;43mint\u001b[39;49m\u001b[43m(\u001b[49m\u001b[38;5;28;43minput\u001b[39;49m\u001b[43m(\u001b[49m\u001b[38;5;124;43m\"\u001b[39;49m\u001b[38;5;124;43mBir sayı giriniz.:\u001b[39;49m\u001b[38;5;124;43m\"\u001b[39;49m\u001b[43m)\u001b[49m\u001b[43m)\u001b[49m\n",
      "\u001b[1;31mValueError\u001b[0m: invalid literal for int() with base 10: '5.4'"
     ]
    }
   ],
   "source": [
    "int(input(\"Bir sayı giriniz.:\"))"
   ]
  },
  {
   "cell_type": "code",
   "execution_count": 5,
   "id": "f7784aa7-73ed-40fa-b17d-b4191629e01a",
   "metadata": {},
   "outputs": [
    {
     "name": "stdin",
     "output_type": "stream",
     "text": [
      "Kesirli bir sayı giriniz: 8.7\n"
     ]
    },
    {
     "data": {
      "text/plain": [
       "8"
      ]
     },
     "execution_count": 5,
     "metadata": {},
     "output_type": "execute_result"
    }
   ],
   "source": [
    "int(float(input(\"Kesirli bir sayı giriniz:\")))"
   ]
  },
  {
   "cell_type": "code",
   "execution_count": 6,
   "id": "7528b839-5a0a-4ed5-beb3-ac7a9df75fc6",
   "metadata": {},
   "outputs": [
    {
     "data": {
      "text/plain": [
       "False"
      ]
     },
     "execution_count": 6,
     "metadata": {},
     "output_type": "execute_result"
    }
   ],
   "source": [
    "5==4"
   ]
  },
  {
   "cell_type": "code",
   "execution_count": 7,
   "id": "cf435425-e60c-4c52-b947-4de13c17833b",
   "metadata": {},
   "outputs": [
    {
     "data": {
      "text/plain": [
       "False"
      ]
     },
     "execution_count": 7,
     "metadata": {},
     "output_type": "execute_result"
    }
   ],
   "source": [
    "a = 10\n",
    "b = 20\n",
    "a==b"
   ]
  },
  {
   "cell_type": "code",
   "execution_count": 9,
   "id": "2fe490dc-c490-47d9-9c31-98cb3755e846",
   "metadata": {},
   "outputs": [
    {
     "data": {
      "text/plain": [
       "True"
      ]
     },
     "execution_count": 9,
     "metadata": {},
     "output_type": "execute_result"
    }
   ],
   "source": [
    "c = 10\n",
    "a==c   #floatlarda == kullanmanın farklı bir durumu var."
   ]
  },
  {
   "cell_type": "code",
   "execution_count": 10,
   "id": "ef42600b-f002-4112-a132-e12d6a0f836b",
   "metadata": {},
   "outputs": [
    {
     "data": {
      "text/plain": [
       "True"
      ]
     },
     "execution_count": 10,
     "metadata": {},
     "output_type": "execute_result"
    }
   ],
   "source": [
    "5!=4"
   ]
  },
  {
   "cell_type": "code",
   "execution_count": 11,
   "id": "c87c729e-2aca-4328-961f-0268a0aa47e9",
   "metadata": {},
   "outputs": [
    {
     "data": {
      "text/plain": [
       "False"
      ]
     },
     "execution_count": 11,
     "metadata": {},
     "output_type": "execute_result"
    }
   ],
   "source": [
    "#STRİNGLERDE KARŞILAŞTIRMA\n",
    "\"Elma\" == \"elma\""
   ]
  },
  {
   "cell_type": "code",
   "execution_count": 12,
   "id": "34ffd7e1-53fe-4b1e-82e7-2e42f90bed26",
   "metadata": {},
   "outputs": [
    {
     "data": {
      "text/plain": [
       "True"
      ]
     },
     "execution_count": 12,
     "metadata": {},
     "output_type": "execute_result"
    }
   ],
   "source": [
    "\"Elma\" != \"elma\""
   ]
  },
  {
   "cell_type": "code",
   "execution_count": 13,
   "id": "e4e367b8-5bf6-4871-95df-23bf674f90c1",
   "metadata": {},
   "outputs": [],
   "source": [
    "a = \"elma\"\n",
    "b = \"elma\""
   ]
  },
  {
   "cell_type": "code",
   "execution_count": 14,
   "id": "292b4f87-f323-4e63-bc63-1e7b4f370c76",
   "metadata": {},
   "outputs": [
    {
     "data": {
      "text/plain": [
       "True"
      ]
     },
     "execution_count": 14,
     "metadata": {},
     "output_type": "execute_result"
    }
   ],
   "source": [
    "a==b"
   ]
  },
  {
   "cell_type": "code",
   "execution_count": 19,
   "id": "32c7fc5a-9623-4cfe-a8b8-61fe4a964d31",
   "metadata": {},
   "outputs": [
    {
     "data": {
      "text/plain": [
       "True"
      ]
     },
     "execution_count": 19,
     "metadata": {},
     "output_type": "execute_result"
    }
   ],
   "source": [
    "\"a\"<\"b\"#burada alfabetik önceliğe bakıyor,sırayla bakar."
   ]
  },
  {
   "cell_type": "code",
   "execution_count": 16,
   "id": "e1966290-6697-4d67-8e59-ea6f12dc85ca",
   "metadata": {},
   "outputs": [
    {
     "data": {
      "text/plain": [
       "True"
      ]
     },
     "execution_count": 16,
     "metadata": {},
     "output_type": "execute_result"
    }
   ],
   "source": [
    "\"ab\"<\"b\""
   ]
  },
  {
   "cell_type": "code",
   "execution_count": 18,
   "id": "2ce47eb0-8876-4c1b-813c-84bcd3a170d5",
   "metadata": {},
   "outputs": [
    {
     "data": {
      "text/plain": [
       "False"
      ]
     },
     "execution_count": 18,
     "metadata": {},
     "output_type": "execute_result"
    }
   ],
   "source": [
    "\"kskdkdkslldlks\"<\"a\""
   ]
  },
  {
   "cell_type": "code",
   "execution_count": 23,
   "id": "960c2b13-e91c-4d96-89f2-308fed85406d",
   "metadata": {},
   "outputs": [
    {
     "data": {
      "text/plain": [
       "False"
      ]
     },
     "execution_count": 23,
     "metadata": {},
     "output_type": "execute_result"
    }
   ],
   "source": [
    "#MANTIKSAL OPERATÖRLER\n",
    "#NOT\n",
    "not True"
   ]
  },
  {
   "cell_type": "code",
   "execution_count": 21,
   "id": "60e439c0-0d3b-4e9f-95fa-20a37a499c57",
   "metadata": {},
   "outputs": [
    {
     "data": {
      "text/plain": [
       "True"
      ]
     },
     "execution_count": 21,
     "metadata": {},
     "output_type": "execute_result"
    }
   ],
   "source": [
    "not False"
   ]
  },
  {
   "cell_type": "code",
   "execution_count": 22,
   "id": "ef83cf6d-be59-4eeb-aad3-1b1e6dd91fb8",
   "metadata": {},
   "outputs": [
    {
     "data": {
      "text/plain": [
       "False"
      ]
     },
     "execution_count": 22,
     "metadata": {},
     "output_type": "execute_result"
    }
   ],
   "source": [
    "not 5 < 6"
   ]
  },
  {
   "cell_type": "code",
   "execution_count": 24,
   "id": "aeca7d30-b6f2-4913-b90c-51c6adccc978",
   "metadata": {},
   "outputs": [
    {
     "data": {
      "text/plain": [
       "True"
      ]
     },
     "execution_count": 24,
     "metadata": {},
     "output_type": "execute_result"
    }
   ],
   "source": [
    "#AND\n",
    "True and True"
   ]
  },
  {
   "cell_type": "code",
   "execution_count": 25,
   "id": "48136c1d-3cc5-454c-8388-ff7adc5212d5",
   "metadata": {},
   "outputs": [
    {
     "data": {
      "text/plain": [
       "False"
      ]
     },
     "execution_count": 25,
     "metadata": {},
     "output_type": "execute_result"
    }
   ],
   "source": [
    "False and False"
   ]
  },
  {
   "cell_type": "code",
   "execution_count": 26,
   "id": "4be40648-6452-4e92-83b7-de1338391ead",
   "metadata": {},
   "outputs": [
    {
     "data": {
      "text/plain": [
       "False"
      ]
     },
     "execution_count": 26,
     "metadata": {},
     "output_type": "execute_result"
    }
   ],
   "source": [
    "False and True"
   ]
  },
  {
   "cell_type": "code",
   "execution_count": 27,
   "id": "9ffd49e2-6fc7-4ff8-a2e4-11f00fb2d912",
   "metadata": {},
   "outputs": [],
   "source": [
    "a = 4\n",
    "b = 1\n",
    "c = 8"
   ]
  },
  {
   "cell_type": "code",
   "execution_count": 28,
   "id": "1d18b320-8444-4b2b-8715-a7cfdc625032",
   "metadata": {},
   "outputs": [
    {
     "data": {
      "text/plain": [
       "True"
      ]
     },
     "execution_count": 28,
     "metadata": {},
     "output_type": "execute_result"
    }
   ],
   "source": [
    "(a > b) and (a < c)"
   ]
  },
  {
   "cell_type": "code",
   "execution_count": 29,
   "id": "4d72245d-994a-4ecc-9c97-f34ef08de0cc",
   "metadata": {},
   "outputs": [
    {
     "data": {
      "text/plain": [
       "False"
      ]
     },
     "execution_count": 29,
     "metadata": {},
     "output_type": "execute_result"
    }
   ],
   "source": [
    "(a > c) and (c > b)"
   ]
  },
  {
   "cell_type": "code",
   "execution_count": 30,
   "id": "102abcdc-ecf6-4f9f-a346-aa993bec7b6e",
   "metadata": {},
   "outputs": [
    {
     "data": {
      "text/plain": [
       "True"
      ]
     },
     "execution_count": 30,
     "metadata": {},
     "output_type": "execute_result"
    }
   ],
   "source": [
    "#OR\n",
    "True or True"
   ]
  },
  {
   "cell_type": "code",
   "execution_count": 31,
   "id": "c04e380d-2681-4c20-a8fd-95deb99b7fd6",
   "metadata": {},
   "outputs": [
    {
     "data": {
      "text/plain": [
       "True"
      ]
     },
     "execution_count": 31,
     "metadata": {},
     "output_type": "execute_result"
    }
   ],
   "source": [
    "True or False"
   ]
  },
  {
   "cell_type": "code",
   "execution_count": 32,
   "id": "06330cc5-aed5-43bf-965b-9a40ed0c5fc9",
   "metadata": {},
   "outputs": [
    {
     "data": {
      "text/plain": [
       "False"
      ]
     },
     "execution_count": 32,
     "metadata": {},
     "output_type": "execute_result"
    }
   ],
   "source": [
    "False or False"
   ]
  },
  {
   "cell_type": "code",
   "execution_count": 33,
   "id": "3bbe8e5e-2368-4693-aeb9-1898196459d2",
   "metadata": {},
   "outputs": [
    {
     "data": {
      "text/plain": [
       "True"
      ]
     },
     "execution_count": 33,
     "metadata": {},
     "output_type": "execute_result"
    }
   ],
   "source": [
    "(a > b) or (b > c)"
   ]
  },
  {
   "cell_type": "code",
   "execution_count": 34,
   "id": "3b38d6df-f276-46ed-a165-5b53459fae97",
   "metadata": {},
   "outputs": [
    {
     "data": {
      "text/plain": [
       "False"
      ]
     },
     "execution_count": 34,
     "metadata": {},
     "output_type": "execute_result"
    }
   ],
   "source": [
    "(b > a) or (b > c)"
   ]
  },
  {
   "cell_type": "code",
   "execution_count": 35,
   "id": "2826f5ef-6d10-4d67-a108-06ef8ada9176",
   "metadata": {},
   "outputs": [
    {
     "data": {
      "text/plain": [
       "False"
      ]
     },
     "execution_count": 35,
     "metadata": {},
     "output_type": "execute_result"
    }
   ],
   "source": [
    "#SHORT-CIRCUIT\n",
    "\"\"\"\n",
    "and operatöründe ilk değerin \"false\" olduğu biliniyorsa diğerini kontrol \n",
    "etmeye gerek yok. Çünkü sadece \"true and true\" nun sonucu true'dur. \n",
    "\n",
    "or operatöründe ilk değerin \"true\" olduğu biliniyorsa diğerini kontrol \n",
    "etmeye gerek yok. Çünkü or operatöründe en az 1 tane true olması sonucun true\n",
    "olması için yeterlidir. Sadece \"false or false\" ın sonucu false'dır.\n",
    "\"\"\"\n",
    "\n",
    "(5 < 3) and print(\"hey\")"
   ]
  },
  {
   "cell_type": "code",
   "execution_count": 38,
   "id": "1c9604f0-1f0e-411c-a5a7-e7ba797ac3a9",
   "metadata": {},
   "outputs": [
    {
     "name": "stdout",
     "output_type": "stream",
     "text": [
      "hey\n"
     ]
    }
   ],
   "source": [
    "(5 > 3) and print(\"hey\")"
   ]
  },
  {
   "cell_type": "code",
   "execution_count": 37,
   "id": "f9db79f9-71b9-4de7-8690-e66abe236c62",
   "metadata": {},
   "outputs": [
    {
     "data": {
      "text/plain": [
       "True"
      ]
     },
     "execution_count": 37,
     "metadata": {},
     "output_type": "execute_result"
    }
   ],
   "source": [
    "(5 > 3) or print(\"hey\")"
   ]
  },
  {
   "cell_type": "code",
   "execution_count": 36,
   "id": "73a2d012-8e65-471b-9c6b-affe4dcc6efd",
   "metadata": {},
   "outputs": [
    {
     "name": "stdout",
     "output_type": "stream",
     "text": [
      "hey\n"
     ]
    }
   ],
   "source": [
    "(5 < 3) or print(\"hey\")"
   ]
  },
  {
   "cell_type": "code",
   "execution_count": 41,
   "id": "a7a259b2-f49b-48ff-8f18-f29141a0888d",
   "metadata": {},
   "outputs": [
    {
     "data": {
      "text/plain": [
       "True"
      ]
     },
     "execution_count": 41,
     "metadata": {},
     "output_type": "execute_result"
    }
   ],
   "source": [
    "#SHORT-CIRCUIT OLMAYAN MANTIKSAL OPERATÖRLER\n",
    "\"\"\"short-cırcuıt olduğunda \"and\" için ilk değer \"false\" olduğunda,\n",
    "\"or\" için ilk değer \"true\" olduğunda diğer değere bakmıyordu. \n",
    "Burda ise ilk değer ne olursa olsun diğer değere de bakıyor.&(and) ve |(or)\n",
    "operatörüyle sağlanıyor.\"\"\"\n",
    "\n",
    "(2 == 2) & (3 == 3)"
   ]
  },
  {
   "cell_type": "code",
   "execution_count": 49,
   "id": "1137235a-0c8c-480b-9bd9-05cca3c11704",
   "metadata": {},
   "outputs": [
    {
     "name": "stdout",
     "output_type": "stream",
     "text": [
      "hey\n"
     ]
    },
    {
     "ename": "TypeError",
     "evalue": "unsupported operand type(s) for &: 'bool' and 'NoneType'",
     "output_type": "error",
     "traceback": [
      "\u001b[1;31m---------------------------------------------------------------------------\u001b[0m",
      "\u001b[1;31mTypeError\u001b[0m                                 Traceback (most recent call last)",
      "Cell \u001b[1;32mIn[49], line 1\u001b[0m\n\u001b[1;32m----> 1\u001b[0m \u001b[43m(\u001b[49m\u001b[38;5;241;43m5\u001b[39;49m\u001b[43m \u001b[49m\u001b[38;5;241;43m<\u001b[39;49m\u001b[43m \u001b[49m\u001b[38;5;241;43m3\u001b[39;49m\u001b[43m)\u001b[49m\u001b[43m \u001b[49m\u001b[38;5;241;43m&\u001b[39;49m\u001b[43m \u001b[49m\u001b[38;5;28;43mprint\u001b[39;49m\u001b[43m(\u001b[49m\u001b[38;5;124;43m\"\u001b[39;49m\u001b[38;5;124;43mhey\u001b[39;49m\u001b[38;5;124;43m\"\u001b[39;49m\u001b[43m)\u001b[49m  \n\u001b[0;32m      2\u001b[0m \u001b[38;5;124;03m\"\"\"yazdırsa da hata veriyor çünkü diğer \u001b[39;00m\n\u001b[0;32m      3\u001b[0m \u001b[38;5;124;03mdeğerde true veya false durumu yok.\"\"\"\u001b[39;00m\n",
      "\u001b[1;31mTypeError\u001b[0m: unsupported operand type(s) for &: 'bool' and 'NoneType'"
     ]
    }
   ],
   "source": [
    "(5 < 3) & print(\"hey\")  \n",
    "\"\"\"yazdırsa da hata veriyor çünkü diğer \n",
    "değerde true veya false durumu yok.\"\"\""
   ]
  },
  {
   "cell_type": "code",
   "execution_count": 43,
   "id": "984d1ce1-d893-4019-8edd-324a5579969f",
   "metadata": {},
   "outputs": [
    {
     "data": {
      "text/plain": [
       "True"
      ]
     },
     "execution_count": 43,
     "metadata": {},
     "output_type": "execute_result"
    }
   ],
   "source": [
    "(2 == 2) | (3 < 3)"
   ]
  },
  {
   "cell_type": "code",
   "execution_count": 44,
   "id": "9ab56468-1493-44a6-80e0-30d9f3d5ceaa",
   "metadata": {},
   "outputs": [
    {
     "name": "stdout",
     "output_type": "stream",
     "text": [
      "hey\n"
     ]
    },
    {
     "ename": "TypeError",
     "evalue": "unsupported operand type(s) for |: 'bool' and 'NoneType'",
     "output_type": "error",
     "traceback": [
      "\u001b[1;31m---------------------------------------------------------------------------\u001b[0m",
      "\u001b[1;31mTypeError\u001b[0m                                 Traceback (most recent call last)",
      "Cell \u001b[1;32mIn[44], line 1\u001b[0m\n\u001b[1;32m----> 1\u001b[0m \u001b[43m(\u001b[49m\u001b[38;5;241;43m5\u001b[39;49m\u001b[43m \u001b[49m\u001b[38;5;241;43m>\u001b[39;49m\u001b[43m \u001b[49m\u001b[38;5;241;43m3\u001b[39;49m\u001b[43m)\u001b[49m\u001b[43m \u001b[49m\u001b[38;5;241;43m|\u001b[39;49m\u001b[43m \u001b[49m\u001b[38;5;28;43mprint\u001b[39;49m\u001b[43m(\u001b[49m\u001b[38;5;124;43m\"\u001b[39;49m\u001b[38;5;124;43mhey\u001b[39;49m\u001b[38;5;124;43m\"\u001b[39;49m\u001b[43m)\u001b[49m\n",
      "\u001b[1;31mTypeError\u001b[0m: unsupported operand type(s) for |: 'bool' and 'NoneType'"
     ]
    }
   ],
   "source": [
    "(5 > 3) | print(\"hey\")"
   ]
  },
  {
   "cell_type": "code",
   "execution_count": 45,
   "id": "a92de116-427e-4ae8-a296-a519ed5e5126",
   "metadata": {},
   "outputs": [
    {
     "data": {
      "text/plain": [
       "True"
      ]
     },
     "execution_count": 45,
     "metadata": {},
     "output_type": "execute_result"
    }
   ],
   "source": [
    "(5 > 3) or print(\"hey\")"
   ]
  },
  {
   "cell_type": "code",
   "execution_count": 50,
   "id": "363647a1-9fd8-42cc-8fe6-78b79425c2e5",
   "metadata": {},
   "outputs": [
    {
     "name": "stdout",
     "output_type": "stream",
     "text": [
      "merhaba\n"
     ]
    },
    {
     "ename": "TypeError",
     "evalue": "unsupported operand type(s) for &: 'bool' and 'NoneType'",
     "output_type": "error",
     "traceback": [
      "\u001b[1;31m---------------------------------------------------------------------------\u001b[0m",
      "\u001b[1;31mTypeError\u001b[0m                                 Traceback (most recent call last)",
      "Cell \u001b[1;32mIn[50], line 1\u001b[0m\n\u001b[1;32m----> 1\u001b[0m \u001b[43m(\u001b[49m\u001b[38;5;241;43m2\u001b[39;49m\u001b[38;5;241;43m==\u001b[39;49m\u001b[38;5;241;43m2\u001b[39;49m\u001b[43m)\u001b[49m\u001b[43m \u001b[49m\u001b[38;5;241;43m&\u001b[39;49m\u001b[43m \u001b[49m\u001b[38;5;28;43mprint\u001b[39;49m\u001b[43m(\u001b[49m\u001b[38;5;124;43m\"\u001b[39;49m\u001b[38;5;124;43mmerhaba\u001b[39;49m\u001b[38;5;124;43m\"\u001b[39;49m\u001b[43m)\u001b[49m\n",
      "\u001b[1;31mTypeError\u001b[0m: unsupported operand type(s) for &: 'bool' and 'NoneType'"
     ]
    }
   ],
   "source": [
    "(2==2) & print(\"merhaba\")"
   ]
  },
  {
   "cell_type": "code",
   "execution_count": null,
   "id": "69e2e0c7-79a5-47ab-955f-d3b27ca6b946",
   "metadata": {},
   "outputs": [],
   "source": []
  }
 ],
 "metadata": {
  "kernelspec": {
   "display_name": "Python 3 (ipykernel)",
   "language": "python",
   "name": "python3"
  },
  "language_info": {
   "codemirror_mode": {
    "name": "ipython",
    "version": 3
   },
   "file_extension": ".py",
   "mimetype": "text/x-python",
   "name": "python",
   "nbconvert_exporter": "python",
   "pygments_lexer": "ipython3",
   "version": "3.12.5"
  }
 },
 "nbformat": 4,
 "nbformat_minor": 5
}

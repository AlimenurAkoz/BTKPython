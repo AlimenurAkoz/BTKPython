{
 "cells": [
  {
   "cell_type": "code",
   "execution_count": null,
   "id": "1d527616-698d-48df-986c-285e07193273",
   "metadata": {},
   "outputs": [],
   "source": [
    "class Araba(marka):\n",
    "    model=marka\n",
    "    def metot(self):\n",
    "        self.marka=\"mercedes\""
   ]
  },
  {
   "cell_type": "code",
   "execution_count": null,
   "id": "c3f6bfa8-ef6d-4c97-bfcf-3eb0d9f93c6a",
   "metadata": {},
   "outputs": [],
   "source": [
    "def a():\n",
    "    pass\n",
    "\n",
    "class araba:\n",
    "    pass"
   ]
  },
  {
   "cell_type": "code",
   "execution_count": null,
   "id": "b2ab0b95-5805-437d-9574-a970f9e10f09",
   "metadata": {},
   "outputs": [],
   "source": [
    "class hayvan():\n",
    "    pass\n",
    "\n",
    "class araba():\n",
    "    pass\n",
    "\n",
    "#nesne oluşturma\n",
    "At=hayvan()\n",
    "Taksi=araba()"
   ]
  },
  {
   "cell_type": "code",
   "execution_count": 4,
   "id": "ce4b81f2-fe33-4353-b156-d081128eca78",
   "metadata": {},
   "outputs": [
    {
     "name": "stdout",
     "output_type": "stream",
     "text": [
      "2020\n"
     ]
    }
   ],
   "source": [
    "class Araba():\n",
    "    def __init__(self,model,marka,renk):#metot\n",
    "        self.model=model\n",
    "        self.marka=marka\n",
    "        self.renk=renk\n",
    "#__init__(self,) --> başşlangıç değerlerin girildiği metottur. içinde return kullanılamaz\n",
    "Taksi=Araba(2020,\"FİAT\",\"yeşil\")\n",
    "print(Taksi.model)"
   ]
  },
  {
   "cell_type": "code",
   "execution_count": 5,
   "id": "107f13c5-2de5-43ea-8c75-268af98088c9",
   "metadata": {},
   "outputs": [
    {
     "name": "stdout",
     "output_type": "stream",
     "text": [
      "2013\n"
     ]
    }
   ],
   "source": [
    "Taksi.model=2013\n",
    "print(Taksi.model)"
   ]
  },
  {
   "cell_type": "code",
   "execution_count": 7,
   "id": "06d13860-aa4a-4d5d-abb1-9e25d954a322",
   "metadata": {},
   "outputs": [
    {
     "data": {
      "text/plain": [
       "['__class__',\n",
       " '__delattr__',\n",
       " '__dict__',\n",
       " '__dir__',\n",
       " '__doc__',\n",
       " '__eq__',\n",
       " '__format__',\n",
       " '__ge__',\n",
       " '__getattribute__',\n",
       " '__getstate__',\n",
       " '__gt__',\n",
       " '__hash__',\n",
       " '__init__',\n",
       " '__init_subclass__',\n",
       " '__le__',\n",
       " '__lt__',\n",
       " '__module__',\n",
       " '__ne__',\n",
       " '__new__',\n",
       " '__reduce__',\n",
       " '__reduce_ex__',\n",
       " '__repr__',\n",
       " '__setattr__',\n",
       " '__sizeof__',\n",
       " '__str__',\n",
       " '__subclasshook__',\n",
       " '__weakref__',\n",
       " 'marka',\n",
       " 'model',\n",
       " 'renk']"
      ]
     },
     "execution_count": 7,
     "metadata": {},
     "output_type": "execute_result"
    }
   ],
   "source": [
    "dir(Taksi)#içindekinin fonksiyon ve özelliklerini verir."
   ]
  },
  {
   "cell_type": "code",
   "execution_count": 14,
   "id": "b4d44424-6e1c-4257-bb71-629a075d2c57",
   "metadata": {},
   "outputs": [
    {
     "name": "stdout",
     "output_type": "stream",
     "text": [
      "Araba modeli: 2020 \n",
      " Araba fiyatı: 120000\n"
     ]
    },
    {
     "data": {
      "text/plain": [
       "datetime.datetime(2025, 3, 8, 14, 6, 39, 603502)"
      ]
     },
     "execution_count": 14,
     "metadata": {},
     "output_type": "execute_result"
    }
   ],
   "source": [
    "#kalıtım\n",
    "import datetime\n",
    "class araba:#üst sınıf\n",
    "    def __init__(self,model,fiyat):\n",
    "        self.model=model\n",
    "        self.fiyat=fiyat\n",
    "    def arabaBilgisi(self):\n",
    "        print(\"Araba modeli:\",self.model,\"\\n\",\"Araba fiyatı:\",self.fiyat)\n",
    "        return(datetime.datetime.now())\n",
    "class kamyon(araba):#alt sınıf\n",
    "    def __init__(self,model,fiyat,renk):\n",
    "        araba.__init__(self,model,fiyat)\n",
    "        #self.model=model\n",
    "        #self.fiyat=fiyat\n",
    "        self.renk=renk\n",
    "\n",
    "k1=kamyon(2020,120000,\"kırmızı\")\n",
    "k1.arabaBilgisi()"
   ]
  },
  {
   "cell_type": "code",
   "execution_count": null,
   "id": "424167c9-71b3-4df5-89bc-4d07271f27fa",
   "metadata": {},
   "outputs": [],
   "source": [
    "#modül\n",
    "#önceden yapılan projeye ulaşma\n",
    "#import projeAdi\n",
    "\n",
    "#diğer projedeki fonksiyonu çağırma\n",
    "#from projeAdi import fonsiyon (ya da import*)"
   ]
  },
  {
   "cell_type": "code",
   "execution_count": 15,
   "id": "8ff66185-2544-4170-84ce-0f9235ce0656",
   "metadata": {},
   "outputs": [
    {
     "name": "stdout",
     "output_type": "stream",
     "text": [
      "10.0\n"
     ]
    }
   ],
   "source": [
    "import math as m\n",
    "print(m.sqrt(100))"
   ]
  },
  {
   "cell_type": "code",
   "execution_count": 17,
   "id": "3eeb4fb0-4366-4359-9fbb-98950496681c",
   "metadata": {},
   "outputs": [
    {
     "name": "stdout",
     "output_type": "stream",
     "text": [
      "10.0\n"
     ]
    }
   ],
   "source": [
    "import math\n",
    "print(math.sqrt(100))"
   ]
  },
  {
   "cell_type": "code",
   "execution_count": 2,
   "id": "0764be26-359b-49ee-becd-0d93058504b6",
   "metadata": {},
   "outputs": [
    {
     "data": {
      "text/plain": [
       "True"
      ]
     },
     "execution_count": 2,
     "metadata": {},
     "output_type": "execute_result"
    }
   ],
   "source": [
    "__name__ == '__main__'#true döndürüyorsa ana programda kullanılmış oluyor"
   ]
  },
  {
   "cell_type": "code",
   "execution_count": null,
   "id": "b5c56e6b-245c-4ded-8044-03d3888931e1",
   "metadata": {},
   "outputs": [],
   "source": [
    "#python un kurulu olduğu dosya konumundaki dosyalardan import edilebilir.\n",
    "#bu durumda __name__ == '__main__' false döndürür"
   ]
  }
 ],
 "metadata": {
  "kernelspec": {
   "display_name": "Python 3 (ipykernel)",
   "language": "python",
   "name": "python3"
  },
  "language_info": {
   "codemirror_mode": {
    "name": "ipython",
    "version": 3
   },
   "file_extension": ".py",
   "mimetype": "text/x-python",
   "name": "python",
   "nbconvert_exporter": "python",
   "pygments_lexer": "ipython3",
   "version": "3.12.5"
  }
 },
 "nbformat": 4,
 "nbformat_minor": 5
}

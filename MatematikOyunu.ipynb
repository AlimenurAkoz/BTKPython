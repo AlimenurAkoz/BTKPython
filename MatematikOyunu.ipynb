{
 "cells": [
  {
   "cell_type": "code",
   "execution_count": null,
   "id": "83bdd734-30ca-43b3-9d8b-63b4e1db34f9",
   "metadata": {},
   "outputs": [
    {
     "name": "stdout",
     "output_type": "stream",
     "text": [
      "10 soruluk bir çarpım tablosu testi\n"
     ]
    }
   ],
   "source": [
    "import random\n",
    "print(\"10 soruluk bir çarpım tablosu testi\")\n",
    "skor = 0\n",
    "for a in range(10):\n",
    "    x=random.randint(1,10)\n",
    "    y=random.randint(1,10)\n",
    "    soru=\"{}*{}=\".format(x,y)\n",
    "    dCvp=x*y#doğru cevap\n",
    "    cvp=input(soru)\n",
    "    if int(cvp)==dCvp:\n",
    "        skor+=1\n",
    "\n",
    "print(\"Doğru sayısı\",skor)\n",
    "if skor>8:\n",
    "    print(\"Pekiyi\")\n",
    "elif skor>6:\n",
    "    print(\"İyi\")\n",
    "elif skor>4:\n",
    "    print(\"Orta\")\n",
    "else:\n",
    "    print(\"kötü\")"
   ]
  },
  {
   "cell_type": "code",
   "execution_count": null,
   "id": "15175bb2-cd74-4333-8ea0-10aaa4baa3e0",
   "metadata": {},
   "outputs": [],
   "source": []
  }
 ],
 "metadata": {
  "kernelspec": {
   "display_name": "Python 3 (ipykernel)",
   "language": "python",
   "name": "python3"
  },
  "language_info": {
   "codemirror_mode": {
    "name": "ipython",
    "version": 3
   },
   "file_extension": ".py",
   "mimetype": "text/x-python",
   "name": "python",
   "nbconvert_exporter": "python",
   "pygments_lexer": "ipython3",
   "version": "3.12.5"
  }
 },
 "nbformat": 4,
 "nbformat_minor": 5
}

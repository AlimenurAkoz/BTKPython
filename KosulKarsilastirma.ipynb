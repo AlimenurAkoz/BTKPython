{
 "cells": [
  {
   "cell_type": "code",
   "execution_count": 1,
   "id": "eb7aff56-2627-469d-a8af-af75fa19b766",
   "metadata": {},
   "outputs": [
    {
     "data": {
      "text/plain": [
       "False"
      ]
     },
     "execution_count": 1,
     "metadata": {},
     "output_type": "execute_result"
    }
   ],
   "source": [
    "8>3\n",
    "8<3"
   ]
  },
  {
   "cell_type": "code",
   "execution_count": 2,
   "id": "0d29c6ff-3361-4e9e-9bc3-8f03417f95ab",
   "metadata": {},
   "outputs": [
    {
     "data": {
      "text/plain": [
       "True"
      ]
     },
     "execution_count": 2,
     "metadata": {},
     "output_type": "execute_result"
    }
   ],
   "source": [
    "8>=3"
   ]
  },
  {
   "cell_type": "code",
   "execution_count": 3,
   "id": "40ca390d-31d7-4fde-b8db-ed6a33a594a5",
   "metadata": {},
   "outputs": [
    {
     "data": {
      "text/plain": [
       "True"
      ]
     },
     "execution_count": 3,
     "metadata": {},
     "output_type": "execute_result"
    }
   ],
   "source": [
    "3<=3"
   ]
  },
  {
   "cell_type": "code",
   "execution_count": 4,
   "id": "a1e4bbd1-1ae9-4d46-a6db-e5ed28849f91",
   "metadata": {},
   "outputs": [
    {
     "data": {
      "text/plain": [
       "True"
      ]
     },
     "execution_count": 4,
     "metadata": {},
     "output_type": "execute_result"
    }
   ],
   "source": [
    "3==3"
   ]
  },
  {
   "cell_type": "code",
   "execution_count": 5,
   "id": "94dc19e0-3b9b-4265-8907-de2a25a785eb",
   "metadata": {},
   "outputs": [
    {
     "data": {
      "text/plain": [
       "False"
      ]
     },
     "execution_count": 5,
     "metadata": {},
     "output_type": "execute_result"
    }
   ],
   "source": [
    "3!=3\n"
   ]
  },
  {
   "cell_type": "code",
   "execution_count": 6,
   "id": "e7751e67-9d08-4dea-bbba-50b56b2dc42e",
   "metadata": {},
   "outputs": [
    {
     "data": {
      "text/plain": [
       "True"
      ]
     },
     "execution_count": 6,
     "metadata": {},
     "output_type": "execute_result"
    }
   ],
   "source": [
    "3!=4"
   ]
  },
  {
   "cell_type": "code",
   "execution_count": 7,
   "id": "84baf00f-9b72-45a5-a654-c50898d04647",
   "metadata": {},
   "outputs": [
    {
     "data": {
      "text/plain": [
       "False"
      ]
     },
     "execution_count": 7,
     "metadata": {},
     "output_type": "execute_result"
    }
   ],
   "source": [
    "a=5\n",
    "b=4\n",
    "a==b"
   ]
  },
  {
   "cell_type": "code",
   "execution_count": 1,
   "id": "dd25278f-9dbd-456e-b69e-c8800c0a2582",
   "metadata": {},
   "outputs": [
    {
     "data": {
      "text/plain": [
       "False"
      ]
     },
     "execution_count": 1,
     "metadata": {},
     "output_type": "execute_result"
    }
   ],
   "source": [
    "(3<5)and(5>8)"
   ]
  },
  {
   "cell_type": "code",
   "execution_count": 2,
   "id": "6f587348-f691-49a2-838a-06476d54eab9",
   "metadata": {},
   "outputs": [
    {
     "data": {
      "text/plain": [
       "True"
      ]
     },
     "execution_count": 2,
     "metadata": {},
     "output_type": "execute_result"
    }
   ],
   "source": [
    "((2<5)and(8>3))or(2!=5)"
   ]
  },
  {
   "cell_type": "code",
   "execution_count": 3,
   "id": "2e658f20-b3bc-4d8d-90a5-1112f8cbcb4f",
   "metadata": {},
   "outputs": [
    {
     "data": {
      "text/plain": [
       "True"
      ]
     },
     "execution_count": 3,
     "metadata": {},
     "output_type": "execute_result"
    }
   ],
   "source": [
    "not(3>7)"
   ]
  },
  {
   "cell_type": "code",
   "execution_count": 4,
   "id": "46964d1a-e56f-46c3-b6f7-8ef3362b010f",
   "metadata": {},
   "outputs": [
    {
     "name": "stdout",
     "output_type": "stream",
     "text": [
      "eşittir\n"
     ]
    }
   ],
   "source": [
    "#IF \n",
    "if 5==5:\n",
    "    print(\"eşittir\")\n",
    "    "
   ]
  },
  {
   "cell_type": "code",
   "execution_count": null,
   "id": "f3e8c918-977d-4f02-a3f5-90ae637253f8",
   "metadata": {},
   "outputs": [],
   "source": []
  }
 ],
 "metadata": {
  "kernelspec": {
   "display_name": "Python 3 (ipykernel)",
   "language": "python",
   "name": "python3"
  },
  "language_info": {
   "codemirror_mode": {
    "name": "ipython",
    "version": 3
   },
   "file_extension": ".py",
   "mimetype": "text/x-python",
   "name": "python",
   "nbconvert_exporter": "python",
   "pygments_lexer": "ipython3",
   "version": "3.12.5"
  }
 },
 "nbformat": 4,
 "nbformat_minor": 5
}

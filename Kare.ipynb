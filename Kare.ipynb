{
 "cells": [
  {
   "cell_type": "code",
   "execution_count": 1,
   "id": "ee689032-a813-4d5d-b2b2-6ea893212580",
   "metadata": {},
   "outputs": [],
   "source": [
    "from turtle import * #böyle yapınca modül ismini tekrar kullanmaya gerek kalmaz\n",
    "fd(200)\n",
    "rt(90)\n",
    "fd(200)\n",
    "rt(90)\n",
    "fd(200)\n",
    "rt(90)\n",
    "fd(200)"
   ]
  },
  {
   "cell_type": "code",
   "execution_count": null,
   "id": "0896d4d9-560a-4bea-88fb-55ac118f9d90",
   "metadata": {},
   "outputs": [],
   "source": []
  }
 ],
 "metadata": {
  "kernelspec": {
   "display_name": "Python 3 (ipykernel)",
   "language": "python",
   "name": "python3"
  },
  "language_info": {
   "codemirror_mode": {
    "name": "ipython",
    "version": 3
   },
   "file_extension": ".py",
   "mimetype": "text/x-python",
   "name": "python",
   "nbconvert_exporter": "python",
   "pygments_lexer": "ipython3",
   "version": "3.12.5"
  }
 },
 "nbformat": 4,
 "nbformat_minor": 5
}

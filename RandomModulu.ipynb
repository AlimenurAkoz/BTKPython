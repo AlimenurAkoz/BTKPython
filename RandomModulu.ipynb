{
 "cells": [
  {
   "cell_type": "code",
   "execution_count": 1,
   "id": "57248cfb-4cf3-40db-9415-79fd132e9118",
   "metadata": {},
   "outputs": [
    {
     "data": {
      "text/plain": [
       "0.19086846426459803"
      ]
     },
     "execution_count": 1,
     "metadata": {},
     "output_type": "execute_result"
    }
   ],
   "source": [
    "import random\n",
    "random.random()#1 ile 0 arasında rastgele sayı üretir"
   ]
  },
  {
   "cell_type": "code",
   "execution_count": 2,
   "id": "98976b0c-df59-4a61-97b6-445380ca894d",
   "metadata": {},
   "outputs": [
    {
     "data": {
      "text/plain": [
       "2"
      ]
     },
     "execution_count": 2,
     "metadata": {},
     "output_type": "execute_result"
    }
   ],
   "source": [
    "random.randint(2,9)#girdiğimiz 2 sayı arasından random değer verir"
   ]
  },
  {
   "cell_type": "code",
   "execution_count": 4,
   "id": "3d4a9c0a-5d78-4357-a98d-cc683e7680e7",
   "metadata": {},
   "outputs": [
    {
     "data": {
      "text/plain": [
       "11"
      ]
     },
     "execution_count": 4,
     "metadata": {},
     "output_type": "execute_result"
    }
   ],
   "source": [
    "random.randrange(1,13,2)#1 ile 13 arasında 2'şerli atlayarak random ver"
   ]
  },
  {
   "cell_type": "code",
   "execution_count": 5,
   "id": "8daa09a8-c547-425b-92cf-1c1281a7456a",
   "metadata": {},
   "outputs": [
    {
     "data": {
      "text/plain": [
       "10.973158977468367"
      ]
     },
     "execution_count": 5,
     "metadata": {},
     "output_type": "execute_result"
    }
   ],
   "source": [
    "random.uniform(10,11)#daha hassas"
   ]
  },
  {
   "cell_type": "code",
   "execution_count": 7,
   "id": "94b49dc4-b566-458e-a906-06f6ed5e6f73",
   "metadata": {},
   "outputs": [
    {
     "data": {
      "text/plain": [
       "'a'"
      ]
     },
     "execution_count": 7,
     "metadata": {},
     "output_type": "execute_result"
    }
   ],
   "source": [
    "random.choice(['2','a','b', '3', '8', 't'])#bir listeden rastgele eleman seçer"
   ]
  },
  {
   "cell_type": "code",
   "execution_count": 8,
   "id": "e389bf1d-70f8-4f1a-b386-a40ab713787d",
   "metadata": {},
   "outputs": [
    {
     "name": "stdout",
     "output_type": "stream",
     "text": [
      "['enver', 'talat', 'cemal', 'kemal']\n"
     ]
    }
   ],
   "source": [
    "Liste = [\"kemal\",\"talat\",\"enver\",\"cemal\"]\n",
    "random.shuffle(Liste)#listeyi random sıralar\n",
    "print(Liste)"
   ]
  },
  {
   "cell_type": "code",
   "execution_count": 9,
   "id": "5c386677-6b4e-4dfd-ab2d-02befd1e0d6d",
   "metadata": {},
   "outputs": [
    {
     "data": {
      "text/plain": [
       "['cemal', 'enver']"
      ]
     },
     "execution_count": 9,
     "metadata": {},
     "output_type": "execute_result"
    }
   ],
   "source": [
    "random.sample(Liste,2)#listeden rastgele istenlen sayıda eleman getirir."
   ]
  },
  {
   "cell_type": "code",
   "execution_count": null,
   "id": "545afaf0-781a-4ecb-926a-18e54727944e",
   "metadata": {},
   "outputs": [],
   "source": []
  }
 ],
 "metadata": {
  "kernelspec": {
   "display_name": "Python 3 (ipykernel)",
   "language": "python",
   "name": "python3"
  },
  "language_info": {
   "codemirror_mode": {
    "name": "ipython",
    "version": 3
   },
   "file_extension": ".py",
   "mimetype": "text/x-python",
   "name": "python",
   "nbconvert_exporter": "python",
   "pygments_lexer": "ipython3",
   "version": "3.12.5"
  }
 },
 "nbformat": 4,
 "nbformat_minor": 5
}

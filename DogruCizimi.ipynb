{
 "cells": [
  {
   "cell_type": "code",
   "execution_count": 1,
   "id": "19295153-cbd3-4701-8967-7a19e6f005d0",
   "metadata": {},
   "outputs": [],
   "source": [
    "import turtle\n",
    "turtle.forward(100)#ileri götürür\n",
    "turtle.right(90)#90 derece açıyla sağa döndürür\n",
    "turtle.fd(100)#ileri götürür\n",
    "turtle.right(90)#turtle.rt\n",
    "turtle.backward(50)#geri götürür\n",
    "turtle.left(90)#90 derece sola döndürür/turtle.lt\n",
    "turtle.bk(50)#geri götürür"
   ]
  }
 ],
 "metadata": {
  "kernelspec": {
   "display_name": "Python 3 (ipykernel)",
   "language": "python",
   "name": "python3"
  },
  "language_info": {
   "codemirror_mode": {
    "name": "ipython",
    "version": 3
   },
   "file_extension": ".py",
   "mimetype": "text/x-python",
   "name": "python",
   "nbconvert_exporter": "python",
   "pygments_lexer": "ipython3",
   "version": "3.12.5"
  }
 },
 "nbformat": 4,
 "nbformat_minor": 5
}

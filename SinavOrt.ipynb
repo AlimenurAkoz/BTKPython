{
 "cells": [
  {
   "cell_type": "code",
   "execution_count": 5,
   "id": "0d863c42-35c0-46b3-a47b-815185256606",
   "metadata": {},
   "outputs": [
    {
     "name": "stdout",
     "output_type": "stream",
     "text": [
      "İlk sınav notunuzu giriniz:\n"
     ]
    },
    {
     "name": "stdin",
     "output_type": "stream",
     "text": [
      " 50\n"
     ]
    },
    {
     "name": "stdout",
     "output_type": "stream",
     "text": [
      "Son sınav notunuzu giriniz\n"
     ]
    },
    {
     "name": "stdin",
     "output_type": "stream",
     "text": [
      " 90\n"
     ]
    },
    {
     "name": "stdout",
     "output_type": "stream",
     "text": [
      "Ortalamanız =  70.0\n"
     ]
    }
   ],
   "source": [
    "ort = 0\n",
    "\n",
    "print(\"İlk sınav notunuzu giriniz:\")\n",
    "not1 = int(input())\n",
    "\n",
    "print(\"Son sınav notunuzu giriniz\")\n",
    "not2 = int(input())\n",
    "\n",
    "ort = (not1 + not2)/2\n",
    "print(\"Ortalamanız = \",ort)"
   ]
  },
  {
   "cell_type": "code",
   "execution_count": 6,
   "id": "f0c20fcb-08b7-44d3-8200-e87c27094b87",
   "metadata": {},
   "outputs": [
    {
     "name": "stdin",
     "output_type": "stream",
     "text": [
      "1.sınav 50\n",
      "2.sınav 90\n"
     ]
    },
    {
     "name": "stdout",
     "output_type": "stream",
     "text": [
      "Ortalamanız =  70.0\n"
     ]
    }
   ],
   "source": [
    "#YA DA\n",
    "ort = 0\n",
    "\n",
    "not1 = int(input(\"1.sınav\"))\n",
    "not2 = int(input(\"2.sınav\"))\n",
    "\n",
    "ort = (not1 + not2)/2\n",
    "print(\"Ortalamanız = \",ort)"
   ]
  },
  {
   "cell_type": "code",
   "execution_count": null,
   "id": "0eeee3f0-72a2-4217-b27d-5ed8f9cea8dd",
   "metadata": {},
   "outputs": [],
   "source": []
  }
 ],
 "metadata": {
  "kernelspec": {
   "display_name": "Python 3 (ipykernel)",
   "language": "python",
   "name": "python3"
  },
  "language_info": {
   "codemirror_mode": {
    "name": "ipython",
    "version": 3
   },
   "file_extension": ".py",
   "mimetype": "text/x-python",
   "name": "python",
   "nbconvert_exporter": "python",
   "pygments_lexer": "ipython3",
   "version": "3.12.5"
  }
 },
 "nbformat": 4,
 "nbformat_minor": 5
}

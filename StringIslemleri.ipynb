{
 "cells": [
  {
   "cell_type": "code",
   "execution_count": 7,
   "id": "87e61d89-f970-4d71-8023-3ab60d82a317",
   "metadata": {},
   "outputs": [
    {
     "data": {
      "text/plain": [
       "'K'"
      ]
     },
     "execution_count": 7,
     "metadata": {},
     "output_type": "execute_result"
    }
   ],
   "source": [
    "#index\n",
    "isim = \"BTK akademi\"\n",
    "isim[2]"
   ]
  },
  {
   "cell_type": "code",
   "execution_count": 8,
   "id": "2286c34b-7b5a-4b1d-856e-98be76175a26",
   "metadata": {},
   "outputs": [
    {
     "data": {
      "text/plain": [
       "'a'"
      ]
     },
     "execution_count": 8,
     "metadata": {},
     "output_type": "execute_result"
    }
   ],
   "source": [
    "isim[6]"
   ]
  },
  {
   "cell_type": "code",
   "execution_count": 9,
   "id": "767c1deb-8176-4fcc-a696-4006593d24bd",
   "metadata": {},
   "outputs": [
    {
     "data": {
      "text/plain": [
       "'BTK akademi Python'"
      ]
     },
     "execution_count": 9,
     "metadata": {},
     "output_type": "execute_result"
    }
   ],
   "source": [
    "#ekleme\n",
    "isim + \" Python\""
   ]
  },
  {
   "cell_type": "code",
   "execution_count": 10,
   "id": "95bf6c39-5498-4294-ae44-2d72e69f144c",
   "metadata": {},
   "outputs": [
    {
     "data": {
      "text/plain": [
       "'BTK Akademi'"
      ]
     },
     "execution_count": 10,
     "metadata": {},
     "output_type": "execute_result"
    }
   ],
   "source": [
    "a = \"BTK\"\n",
    "b = \"Akademi\"\n",
    "c = a + \" \" + b\n",
    "c"
   ]
  },
  {
   "cell_type": "code",
   "execution_count": 11,
   "id": "33b4bde4-a81e-47fc-a3dc-eb24a144b378",
   "metadata": {},
   "outputs": [
    {
     "data": {
      "text/plain": [
       "'PYTHON'"
      ]
     },
     "execution_count": 11,
     "metadata": {},
     "output_type": "execute_result"
    }
   ],
   "source": [
    "#bölme\n",
    "S=\"PYTHON\"\n",
    "S[:]"
   ]
  },
  {
   "cell_type": "code",
   "execution_count": 12,
   "id": "cf3c9e9d-1bcc-4939-b0df-8950869fd12a",
   "metadata": {},
   "outputs": [
    {
     "data": {
      "text/plain": [
       "'HON'"
      ]
     },
     "execution_count": 12,
     "metadata": {},
     "output_type": "execute_result"
    }
   ],
   "source": [
    "S[3:]"
   ]
  },
  {
   "cell_type": "code",
   "execution_count": 13,
   "id": "ac210c95-ae08-4825-a5ae-73d6ae40cac3",
   "metadata": {},
   "outputs": [
    {
     "data": {
      "text/plain": [
       "'PY'"
      ]
     },
     "execution_count": 13,
     "metadata": {},
     "output_type": "execute_result"
    }
   ],
   "source": [
    "S[:2]"
   ]
  },
  {
   "cell_type": "code",
   "execution_count": 14,
   "id": "b8babccd-6dfe-46fe-af11-f1a72da22b1a",
   "metadata": {},
   "outputs": [
    {
     "data": {
      "text/plain": [
       "'YTHO'"
      ]
     },
     "execution_count": 14,
     "metadata": {},
     "output_type": "execute_result"
    }
   ],
   "source": [
    "S[1:5]"
   ]
  },
  {
   "cell_type": "code",
   "execution_count": 16,
   "id": "00a13aa9-916e-47ec-8b55-a90ea9e3946f",
   "metadata": {},
   "outputs": [
    {
     "data": {
      "text/plain": [
       "'YHN'"
      ]
     },
     "execution_count": 16,
     "metadata": {},
     "output_type": "execute_result"
    }
   ],
   "source": [
    "S[1::2]#ikişer ikişer atlar"
   ]
  },
  {
   "cell_type": "code",
   "execution_count": 17,
   "id": "feebe4cf-e0ad-486b-b780-2dffffd4b8cb",
   "metadata": {},
   "outputs": [
    {
     "data": {
      "text/plain": [
       "'YO'"
      ]
     },
     "execution_count": 17,
     "metadata": {},
     "output_type": "execute_result"
    }
   ],
   "source": [
    "S[1:6:3]"
   ]
  },
  {
   "cell_type": "code",
   "execution_count": 18,
   "id": "7339bc0c-ac13-43d5-9195-1262a0975188",
   "metadata": {},
   "outputs": [
    {
     "data": {
      "text/plain": [
       "'NOHTYP'"
      ]
     },
     "execution_count": 18,
     "metadata": {},
     "output_type": "execute_result"
    }
   ],
   "source": [
    "S[::-1]"
   ]
  },
  {
   "cell_type": "code",
   "execution_count": 20,
   "id": "a12577e4-3b0d-45aa-a16b-13bc376203f5",
   "metadata": {},
   "outputs": [
    {
     "data": {
      "text/plain": [
       "'BTK Tkademi'"
      ]
     },
     "execution_count": 20,
     "metadata": {},
     "output_type": "execute_result"
    }
   ],
   "source": [
    "S=\"BTK Akademi\"\n",
    "S2=S[:4] + 'T' + S[5:]\n",
    "S2"
   ]
  },
  {
   "cell_type": "code",
   "execution_count": 21,
   "id": "7241766d-b7b9-4d3d-a0d1-3b07fefe66bf",
   "metadata": {},
   "outputs": [
    {
     "name": "stdout",
     "output_type": "stream",
     "text": [
      "Kadıköy-İstanbul\n"
     ]
    }
   ],
   "source": [
    "#güncelleme/değiştirme\n",
    "#1.yol\n",
    "Adres='Sultangazi-İstanbul'\n",
    "Adres2='Kadıköy'+Adres[10:]\n",
    "print(Adres2)"
   ]
  },
  {
   "cell_type": "code",
   "execution_count": 25,
   "id": "15e4ff5e-0464-46d9-b5ba-249ce46d057d",
   "metadata": {},
   "outputs": [
    {
     "data": {
      "text/plain": [
       "'Kadıköy-İstanbul'"
      ]
     },
     "execution_count": 25,
     "metadata": {},
     "output_type": "execute_result"
    }
   ],
   "source": [
    "#2.yol\n",
    "Adres='Sultangazi-İstanbul'\n",
    "Adres=Adres.replace(\"Sultangazi\",\"Kadıköy\")\n",
    "Adres"
   ]
  },
  {
   "cell_type": "code",
   "execution_count": 3,
   "id": "9da672d2-e4e6-4589-9845-1012444f84a7",
   "metadata": {},
   "outputs": [
    {
     "name": "stdout",
     "output_type": "stream",
     "text": [
      "Python\n",
      "Pytho\n",
      "Pyth\n",
      "Pyt\n",
      "Py\n",
      "P\n"
     ]
    }
   ],
   "source": [
    "yazi='Python'\n",
    "print(yazi)\n",
    "for x in range(1,6):\n",
    "    print(yazi[:-x])"
   ]
  },
  {
   "cell_type": "code",
   "execution_count": 5,
   "id": "2a666cc0-c809-4a52-acc2-388f65325db9",
   "metadata": {},
   "outputs": [
    {
     "name": "stdout",
     "output_type": "stream",
     "text": [
      "P\n",
      "Py\n",
      "Pyt\n",
      "Pyth\n",
      "Pytho\n",
      "Python\n"
     ]
    }
   ],
   "source": [
    "yazi='Python'\n",
    "for x in range(5,0,-1):\n",
    "    print(yazi[:-x])\n",
    "print(yazi)    "
   ]
  },
  {
   "cell_type": "code",
   "execution_count": 6,
   "id": "2fbe28c1-536e-4efa-980d-1ac6c9a9a2aa",
   "metadata": {},
   "outputs": [
    {
     "data": {
      "text/plain": [
       "['çok', 'yorgunum', 'beni', 'bekleme', 'kaptan']"
      ]
     },
     "execution_count": 6,
     "metadata": {},
     "output_type": "execute_result"
    }
   ],
   "source": [
    "#Stringi ayırma\n",
    "cumle='çok_yorgunum_beni_bekleme_kaptan'\n",
    "cumle.split('_')"
   ]
  },
  {
   "cell_type": "code",
   "execution_count": 7,
   "id": "b317677d-3d39-451c-aebe-277152398a48",
   "metadata": {},
   "outputs": [
    {
     "data": {
      "text/plain": [
       "['123', '456', '789', '012']"
      ]
     },
     "execution_count": 7,
     "metadata": {},
     "output_type": "execute_result"
    }
   ],
   "source": [
    "metin=\"123 456 789 012\"\n",
    "metin.split()"
   ]
  },
  {
   "cell_type": "code",
   "execution_count": 8,
   "id": "0c7be4fa-1326-41c8-9193-65c562eb6b1c",
   "metadata": {},
   "outputs": [
    {
     "data": {
      "text/plain": [
       "['çok_yorgunum_beni_bekleme_kaptan']"
      ]
     },
     "execution_count": 8,
     "metadata": {},
     "output_type": "execute_result"
    }
   ],
   "source": [
    "cumle.split()"
   ]
  },
  {
   "cell_type": "code",
   "execution_count": 9,
   "id": "c91dce83-6425-46f1-85eb-680a5094c181",
   "metadata": {},
   "outputs": [
    {
     "data": {
      "text/plain": [
       "['Beni', 'bekleme', 'kaptan']"
      ]
     },
     "execution_count": 9,
     "metadata": {},
     "output_type": "execute_result"
    }
   ],
   "source": [
    "cumle2='Beni bekleme kaptan'\n",
    "cumle2.split()"
   ]
  },
  {
   "cell_type": "code",
   "execution_count": 11,
   "id": "ebf05f51-a9a3-4ec2-9fff-550ff42b684b",
   "metadata": {},
   "outputs": [
    {
     "data": {
      "text/plain": [
       "19"
      ]
     },
     "execution_count": 11,
     "metadata": {},
     "output_type": "execute_result"
    }
   ],
   "source": [
    "#Stringin karakter sayısını bulma\n",
    "cumle='Merhaba nasılsınız?'\n",
    "len(cumle)#her karakteri sayıyor boşlıklar dahil"
   ]
  },
  {
   "cell_type": "code",
   "execution_count": 12,
   "id": "654baa4c-d309-4e52-b94d-fc8f40be5935",
   "metadata": {},
   "outputs": [
    {
     "data": {
      "text/plain": [
       "3"
      ]
     },
     "execution_count": 12,
     "metadata": {},
     "output_type": "execute_result"
    }
   ],
   "source": [
    "cumle.count('a')#belirli karakteri sayar"
   ]
  },
  {
   "cell_type": "code",
   "execution_count": 13,
   "id": "d93c7487-7f41-4ff2-bb02-a0086e2afc0e",
   "metadata": {},
   "outputs": [
    {
     "data": {
      "text/plain": [
       "1"
      ]
     },
     "execution_count": 13,
     "metadata": {},
     "output_type": "execute_result"
    }
   ],
   "source": [
    "cumle2='Nasılsınız?'\n",
    "cumle2.count('N')"
   ]
  },
  {
   "cell_type": "code",
   "execution_count": 14,
   "id": "1c6292b9-26b8-4e15-8e20-49f08c93fbd9",
   "metadata": {},
   "outputs": [
    {
     "data": {
      "text/plain": [
       "1"
      ]
     },
     "execution_count": 14,
     "metadata": {},
     "output_type": "execute_result"
    }
   ],
   "source": [
    "cumle2.count('n')"
   ]
  },
  {
   "cell_type": "code",
   "execution_count": 15,
   "id": "b227e3cb-763d-4dcc-899c-6f16a063a1ed",
   "metadata": {},
   "outputs": [
    {
     "data": {
      "text/plain": [
       "False"
      ]
     },
     "execution_count": 15,
     "metadata": {},
     "output_type": "execute_result"
    }
   ],
   "source": [
    "#String Karşılaştırma\n",
    "'talat'=='tarık'"
   ]
  },
  {
   "cell_type": "code",
   "execution_count": 16,
   "id": "519efcf0-44ab-4b52-b2c6-0301afd46a27",
   "metadata": {},
   "outputs": [
    {
     "data": {
      "text/plain": [
       "True"
      ]
     },
     "execution_count": 16,
     "metadata": {},
     "output_type": "execute_result"
    }
   ],
   "source": [
    "'talat' != 'tarık'"
   ]
  },
  {
   "cell_type": "code",
   "execution_count": 28,
   "id": "ae9b561e-b3b6-4976-a3c1-fa97c4af7677",
   "metadata": {},
   "outputs": [
    {
     "name": "stdin",
     "output_type": "stream",
     "text": [
      "Kullanıcı adını giriniz: alime\n",
      "Şifre giriniz: 1234\n"
     ]
    },
    {
     "name": "stdout",
     "output_type": "stream",
     "text": [
      "Hoşgeldiniz:)\n"
     ]
    }
   ],
   "source": [
    "sifre='1234'\n",
    "kullanici='alime'\n",
    "k_giris=input('Kullanıcı adını giriniz:')\n",
    "if k_giris==kullanici:\n",
    "    s_giris=input('Şifre giriniz:')\n",
    "    if s_giris==sifre:\n",
    "        print('Hoşgeldiniz:)')\n",
    "    else:\n",
    "        print('Şifre hatalı!')\n",
    "else:\n",
    "    print('Kullanıcı adı hatalı!')"
   ]
  },
  {
   "cell_type": "code",
   "execution_count": 29,
   "id": "2f6c96e7-7852-42de-8883-e7f0f0be801a",
   "metadata": {},
   "outputs": [
    {
     "data": {
      "text/plain": [
       "'AliileVeli'"
      ]
     },
     "execution_count": 29,
     "metadata": {},
     "output_type": "execute_result"
    }
   ],
   "source": [
    "#String içerisine değişken yerleştirme\n",
    "A='ile'\n",
    "'Ali' + A + 'Veli'"
   ]
  },
  {
   "cell_type": "code",
   "execution_count": 31,
   "id": "0b147450-b620-424c-9c8b-8b3efcffaa99",
   "metadata": {},
   "outputs": [
    {
     "name": "stdout",
     "output_type": "stream",
     "text": [
      "Ali ile Veli\n"
     ]
    }
   ],
   "source": [
    "print('Ali',A,'Veli')"
   ]
  },
  {
   "cell_type": "code",
   "execution_count": 32,
   "id": "131081a6-c81e-4496-9f8a-a93da8b79415",
   "metadata": {},
   "outputs": [
    {
     "name": "stdout",
     "output_type": "stream",
     "text": [
      "AliileVeli\n"
     ]
    }
   ],
   "source": [
    "String='AliVeli'\n",
    "Str2 = String[:3]+A+String[3:]\n",
    "print(Str2)"
   ]
  },
  {
   "cell_type": "code",
   "execution_count": 33,
   "id": "b012cbe4-51bd-4bbe-a0af-60793c55118a",
   "metadata": {},
   "outputs": [
    {
     "data": {
      "text/plain": [
       "'AliileVeli'"
      ]
     },
     "execution_count": 33,
     "metadata": {},
     "output_type": "execute_result"
    }
   ],
   "source": [
    "String='Ali{}Veli'\n",
    "String.format(A)"
   ]
  },
  {
   "cell_type": "code",
   "execution_count": 35,
   "id": "ebb284d4-088b-46cd-a927-a817e0198bf0",
   "metadata": {},
   "outputs": [
    {
     "data": {
      "text/plain": [
       "'ktB'"
      ]
     },
     "execution_count": 35,
     "metadata": {},
     "output_type": "execute_result"
    }
   ],
   "source": [
    "#Stringi ters çevirme\n",
    "str1='Btk'\n",
    "str1[::-1]"
   ]
  },
  {
   "cell_type": "code",
   "execution_count": 45,
   "id": "bfd846f1-71f8-4d3e-a566-e5d9a91a1e57",
   "metadata": {},
   "outputs": [
    {
     "data": {
      "text/plain": [
       "'ila'"
      ]
     },
     "execution_count": 45,
     "metadata": {},
     "output_type": "execute_result"
    }
   ],
   "source": [
    "#ya da\n",
    "str2='ali'\n",
    "''.join(reversed(str2))"
   ]
  },
  {
   "cell_type": "code",
   "execution_count": 46,
   "id": "31f4c948-5a63-4adc-b8b1-6be0d5b00c1d",
   "metadata": {},
   "outputs": [
    {
     "data": {
      "text/plain": [
       "'iklka'"
      ]
     },
     "execution_count": 46,
     "metadata": {},
     "output_type": "execute_result"
    }
   ],
   "source": [
    "'k'.join(reversed(str2))#ters çevirip aralara tırnak içindeki ifadeyi yazdırır"
   ]
  },
  {
   "cell_type": "code",
   "execution_count": 47,
   "id": "04a6fbaa-531e-41ee-91c6-b358629a22dd",
   "metadata": {},
   "outputs": [
    {
     "data": {
      "text/plain": [
       "'ilev'"
      ]
     },
     "execution_count": 47,
     "metadata": {},
     "output_type": "execute_result"
    }
   ],
   "source": [
    "''.join(reversed('veli'))"
   ]
  },
  {
   "cell_type": "code",
   "execution_count": 50,
   "id": "8b948d52-ec38-4d18-8cd7-01502d2913b7",
   "metadata": {},
   "outputs": [
    {
     "data": {
      "text/plain": [
       "'alimenur aköz'"
      ]
     },
     "execution_count": 50,
     "metadata": {},
     "output_type": "execute_result"
    }
   ],
   "source": [
    "#Harfleri büyük/küçük yapma\n",
    "s='Alimenur AKÖZ'\n",
    "s.lower()"
   ]
  },
  {
   "cell_type": "code",
   "execution_count": 52,
   "id": "0503e354-e4e5-405c-a7e0-537d5f389f8c",
   "metadata": {},
   "outputs": [
    {
     "data": {
      "text/plain": [
       "'ALIMENUR AKÖZ'"
      ]
     },
     "execution_count": 52,
     "metadata": {},
     "output_type": "execute_result"
    }
   ],
   "source": [
    "s.upper()"
   ]
  },
  {
   "cell_type": "code",
   "execution_count": 54,
   "id": "f64344ed-593d-4e0e-8ba4-5cbb5cfd476d",
   "metadata": {},
   "outputs": [
    {
     "data": {
      "text/plain": [
       "'aLIMENUR aköz'"
      ]
     },
     "execution_count": 54,
     "metadata": {},
     "output_type": "execute_result"
    }
   ],
   "source": [
    "s.swapcase()#büyükleri küçük küçükleri büyük yapar"
   ]
  },
  {
   "cell_type": "code",
   "execution_count": 55,
   "id": "23d4ca2a-d03d-4834-89cb-ec547b2ddcc7",
   "metadata": {},
   "outputs": [
    {
     "data": {
      "text/plain": [
       "'Alimenur aköz'"
      ]
     },
     "execution_count": 55,
     "metadata": {},
     "output_type": "execute_result"
    }
   ],
   "source": [
    "s.capitalize()#ilk harfi büyük diğerleri küçük"
   ]
  },
  {
   "cell_type": "code",
   "execution_count": 56,
   "id": "954debfe-fdd9-4e34-ab9d-41905c33ba87",
   "metadata": {},
   "outputs": [
    {
     "data": {
      "text/plain": [
       "False"
      ]
     },
     "execution_count": 56,
     "metadata": {},
     "output_type": "execute_result"
    }
   ],
   "source": [
    "#String içerisinde string arama\n",
    "'At' in 'talat'"
   ]
  },
  {
   "cell_type": "code",
   "execution_count": 57,
   "id": "b33f3ee7-0be9-420b-ac55-95609f3fb800",
   "metadata": {},
   "outputs": [
    {
     "data": {
      "text/plain": [
       "True"
      ]
     },
     "execution_count": 57,
     "metadata": {},
     "output_type": "execute_result"
    }
   ],
   "source": [
    "'at' in 'talat'"
   ]
  },
  {
   "cell_type": "code",
   "execution_count": 58,
   "id": "2a5577d4-97b1-4394-8c1e-dd7ebbae2bb6",
   "metadata": {},
   "outputs": [
    {
     "data": {
      "text/plain": [
       "True"
      ]
     },
     "execution_count": 58,
     "metadata": {},
     "output_type": "execute_result"
    }
   ],
   "source": [
    "'as' not in 'selam'"
   ]
  },
  {
   "cell_type": "code",
   "execution_count": 61,
   "id": "930cebe4-8f01-4017-874f-e943ba2e7792",
   "metadata": {},
   "outputs": [
    {
     "name": "stdin",
     "output_type": "stream",
     "text": [
      "İsimleri gir:  Hasan Ali Ayşe\n"
     ]
    },
    {
     "name": "stdout",
     "output_type": "stream",
     "text": [
      "Ali hoşgeldin!\n"
     ]
    }
   ],
   "source": [
    "Str1=input('İsimleri gir: ')\n",
    "if 'Ali' in Str1:\n",
    "    print('Ali hoşgeldin!')\n",
    "else:\n",
    "    print('Ali nerede?')"
   ]
  },
  {
   "cell_type": "code",
   "execution_count": null,
   "id": "26c337ba-1a72-4444-913f-f5883432bf73",
   "metadata": {},
   "outputs": [],
   "source": [
    "#Palindrom uygulaması\n",
    "kelime=input('Kelime giriniz: ')\n",
    "kelime2 = kelime.lower()\n",
    "tersi = kelime[::-1]\n",
    "tersi2 = kelime2[::-1]\n",
    "print(kelime, 'ın tersi: ', tersi)\n",
    "if kelime2 == tersi2:\n",
    "    print(kelime, 'palindromdur.')\n",
    "else:\n",
    "    print(kelime, 'palindrom değildir.')  "
   ]
  }
 ],
 "metadata": {
  "kernelspec": {
   "display_name": "Python 3 (ipykernel)",
   "language": "python",
   "name": "python3"
  },
  "language_info": {
   "codemirror_mode": {
    "name": "ipython",
    "version": 3
   },
   "file_extension": ".py",
   "mimetype": "text/x-python",
   "name": "python",
   "nbconvert_exporter": "python",
   "pygments_lexer": "ipython3",
   "version": "3.12.5"
  }
 },
 "nbformat": 4,
 "nbformat_minor": 5
}

{
 "cells": [
  {
   "cell_type": "code",
   "execution_count": 1,
   "id": "3a6542a8-3d08-46e4-99c8-c656c1e6b896",
   "metadata": {},
   "outputs": [
    {
     "name": "stdin",
     "output_type": "stream",
     "text": [
      "Kare sayısı gir:  6\n"
     ]
    }
   ],
   "source": [
    "from turtle import *\n",
    "#iç içe kare çizimi\n",
    "def kareCizim(mesafe):\n",
    "    for a in range (1,5):\n",
    "        forward(mesafe)\n",
    "        left(90)\n",
    "\n",
    "hideturtle()\n",
    "pensize(2)#kalınlık\n",
    "x=int(input(\"Kare sayısı gir: \"))\n",
    "x+=1\n",
    "for a in range(x):\n",
    "    kareCizim(50*a)"
   ]
  },
  {
   "cell_type": "code",
   "execution_count": 1,
   "id": "92220a08-25a4-4ef9-9915-beb1394d530a",
   "metadata": {},
   "outputs": [],
   "source": [
    "#üçgen çizimi\n",
    "from turtle import *\n",
    "for a in range(1,4):\n",
    "    forward(200)\n",
    "    lt(120)"
   ]
  },
  {
   "cell_type": "code",
   "execution_count": null,
   "id": "d36f70e1-3ea7-418e-bd00-106cefe5dbab",
   "metadata": {},
   "outputs": [],
   "source": []
  }
 ],
 "metadata": {
  "kernelspec": {
   "display_name": "Python 3 (ipykernel)",
   "language": "python",
   "name": "python3"
  },
  "language_info": {
   "codemirror_mode": {
    "name": "ipython",
    "version": 3
   },
   "file_extension": ".py",
   "mimetype": "text/x-python",
   "name": "python",
   "nbconvert_exporter": "python",
   "pygments_lexer": "ipython3",
   "version": "3.12.5"
  }
 },
 "nbformat": 4,
 "nbformat_minor": 5
}

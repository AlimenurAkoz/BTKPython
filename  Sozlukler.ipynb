{
 "cells": [
  {
   "cell_type": "code",
   "execution_count": 4,
   "id": "9fd52ab9-de4f-419c-8e59-25a6581c46d2",
   "metadata": {},
   "outputs": [],
   "source": [
    "Mevsim={'kış':1,'ilkbahar':2,'yaz':3,'sonbahar':4}\n",
    "#anahtar(key):değer(value)"
   ]
  },
  {
   "cell_type": "code",
   "execution_count": 5,
   "id": "adb92688-435c-4595-8786-7f9087791009",
   "metadata": {},
   "outputs": [],
   "source": [
    "TC=dict([('talat',1234),('Ali',8756)])#dictionary"
   ]
  },
  {
   "cell_type": "code",
   "execution_count": 6,
   "id": "54616d0e-65c0-4bc5-9ff8-30b7525433cc",
   "metadata": {},
   "outputs": [
    {
     "name": "stdout",
     "output_type": "stream",
     "text": [
      "{1: 'bir', 2: 'iki'}\n"
     ]
    }
   ],
   "source": [
    "S={}\n",
    "S[1]='bir'\n",
    "S[2]='iki'\n",
    "print(S) #1,2,3,... bunlar anahtardır her anahtar bir kez kullanılır"
   ]
  },
  {
   "cell_type": "code",
   "execution_count": 7,
   "id": "f6dc4777-678d-4874-bffb-bd1555e02801",
   "metadata": {},
   "outputs": [
    {
     "data": {
      "text/plain": [
       "1"
      ]
     },
     "execution_count": 7,
     "metadata": {},
     "output_type": "execute_result"
    }
   ],
   "source": [
    "Mevsim.get('kış')"
   ]
  },
  {
   "cell_type": "code",
   "execution_count": 8,
   "id": "748aa16c-c9cf-458f-bb42-96862c156326",
   "metadata": {},
   "outputs": [
    {
     "data": {
      "text/plain": [
       "'yok'"
      ]
     },
     "execution_count": 8,
     "metadata": {},
     "output_type": "execute_result"
    }
   ],
   "source": [
    "Mevsim.get('1',\"yok\")"
   ]
  },
  {
   "cell_type": "code",
   "execution_count": 9,
   "id": "561c71d5-6c48-40d6-82a0-e47707efbdd4",
   "metadata": {},
   "outputs": [
    {
     "data": {
      "text/plain": [
       "{'kış': 1, 'ilkbahar': 2, 'yaz': 3}"
      ]
     },
     "execution_count": 9,
     "metadata": {},
     "output_type": "execute_result"
    }
   ],
   "source": [
    "Mevsim.pop('sonbahar')\n",
    "Mevsim"
   ]
  },
  {
   "cell_type": "code",
   "execution_count": 10,
   "id": "549fa049-3858-43e8-9807-f5ccb007e651",
   "metadata": {},
   "outputs": [
    {
     "data": {
      "text/plain": [
       "dict_keys(['kış', 'ilkbahar', 'yaz'])"
      ]
     },
     "execution_count": 10,
     "metadata": {},
     "output_type": "execute_result"
    }
   ],
   "source": [
    "Mevsim.keys()#sadece anahtarları verir"
   ]
  },
  {
   "cell_type": "code",
   "execution_count": 11,
   "id": "17aeb82d-0493-4bfe-8fc2-0aa8c3828c68",
   "metadata": {},
   "outputs": [
    {
     "data": {
      "text/plain": [
       "dict_values([1, 2, 3])"
      ]
     },
     "execution_count": 11,
     "metadata": {},
     "output_type": "execute_result"
    }
   ],
   "source": [
    "Mevsim.values()#sadece değerleri verir"
   ]
  },
  {
   "cell_type": "code",
   "execution_count": 12,
   "id": "d5cb0a9f-62de-4a62-a3d3-e42362f9f294",
   "metadata": {},
   "outputs": [
    {
     "data": {
      "text/plain": [
       "3"
      ]
     },
     "execution_count": 12,
     "metadata": {},
     "output_type": "execute_result"
    }
   ],
   "source": [
    "Mevsim['yaz']"
   ]
  },
  {
   "cell_type": "code",
   "execution_count": 13,
   "id": "729b48c5-1412-4e7d-b9ac-0273cc24b9e5",
   "metadata": {},
   "outputs": [
    {
     "data": {
      "text/plain": [
       "dict_items([('kış', 1), ('ilkbahar', 2), ('yaz', 3)])"
      ]
     },
     "execution_count": 13,
     "metadata": {},
     "output_type": "execute_result"
    }
   ],
   "source": [
    "Mevsim.items()"
   ]
  },
  {
   "cell_type": "code",
   "execution_count": 17,
   "id": "2cc68b8d-5fa5-47b2-a2d6-760fa5be7fc8",
   "metadata": {},
   "outputs": [
    {
     "name": "stdin",
     "output_type": "stream",
     "text": [
      "Türkçe gün adı:  salı\n"
     ]
    },
    {
     "name": "stdout",
     "output_type": "stream",
     "text": [
      "İngilzcesi :  tuesday\n"
     ]
    }
   ],
   "source": [
    "#Türkçe ingilizce sözlük\n",
    "gun=input(\"Türkçe gün adı: \")\n",
    "TrEn={'pazartesi':'monday','salı':'tuesday','çarşamba':'wednesday','perşembe':'thursday','cuma':'friday','cumartesi':'saturday','pazar':'sunday'}\n",
    "print(\"İngilzcesi : \",end=\" \")\n",
    "print(TrEn.get(gun,'Bu kelime sözlükte yok!'))"
   ]
  },
  {
   "cell_type": "code",
   "execution_count": 25,
   "id": "be3e144b-4522-44ae-9c25-157d833722f3",
   "metadata": {},
   "outputs": [
    {
     "data": {
      "text/plain": [
       "{'*', 1, 325, 'hg'}"
      ]
     },
     "execution_count": 25,
     "metadata": {},
     "output_type": "execute_result"
    }
   ],
   "source": [
    "#Küme(Set)\n",
    "K={1,'hg', '*',325}\n",
    "K"
   ]
  },
  {
   "cell_type": "code",
   "execution_count": 26,
   "id": "52b71207-9a96-40a2-a1d5-230d8a636b45",
   "metadata": {},
   "outputs": [
    {
     "data": {
      "text/plain": [
       "{'/', '5', '8', 'a', 'd', 'k', 'l', 's'}"
      ]
     },
     "execution_count": 26,
     "metadata": {},
     "output_type": "execute_result"
    }
   ],
   "source": [
    "K=set('llaskda8d/5')\n",
    "K"
   ]
  },
  {
   "cell_type": "code",
   "execution_count": 27,
   "id": "1facef7f-a1da-41b5-aaef-1516e75f0951",
   "metadata": {},
   "outputs": [
    {
     "data": {
      "text/plain": [
       "set"
      ]
     },
     "execution_count": 27,
     "metadata": {},
     "output_type": "execute_result"
    }
   ],
   "source": [
    "type(K)"
   ]
  },
  {
   "cell_type": "code",
   "execution_count": 28,
   "id": "76c97cf3-2171-4378-8e7e-80bdb5cd25f2",
   "metadata": {},
   "outputs": [
    {
     "data": {
      "text/plain": [
       "{1, 2, 3, 4, 5, 6, 7, 8}"
      ]
     },
     "execution_count": 28,
     "metadata": {},
     "output_type": "execute_result"
    }
   ],
   "source": [
    "k1={1,2,3,4,5}\n",
    "k2={4,5,6,7,8}\n",
    "k1|k2 #birleşim"
   ]
  },
  {
   "cell_type": "code",
   "execution_count": 29,
   "id": "6c44f22b-71d5-4ec7-9de1-75b085a58eb5",
   "metadata": {},
   "outputs": [
    {
     "data": {
      "text/plain": [
       "{4, 5}"
      ]
     },
     "execution_count": 29,
     "metadata": {},
     "output_type": "execute_result"
    }
   ],
   "source": [
    "k1&k2 #kesişim"
   ]
  },
  {
   "cell_type": "code",
   "execution_count": 30,
   "id": "8482d5f2-2d26-4e57-bc24-a3d975503389",
   "metadata": {},
   "outputs": [
    {
     "data": {
      "text/plain": [
       "{1, 2, 3}"
      ]
     },
     "execution_count": 30,
     "metadata": {},
     "output_type": "execute_result"
    }
   ],
   "source": [
    "k1-k2 #fark"
   ]
  },
  {
   "cell_type": "code",
   "execution_count": 31,
   "id": "fa3c1f23-f7c7-4562-9b16-e09d764d8d71",
   "metadata": {},
   "outputs": [
    {
     "data": {
      "text/plain": [
       "{6, 7, 8}"
      ]
     },
     "execution_count": 31,
     "metadata": {},
     "output_type": "execute_result"
    }
   ],
   "source": [
    "k2-k1"
   ]
  },
  {
   "cell_type": "code",
   "execution_count": 33,
   "id": "c28e19f4-1ec2-408f-a72e-51b098d8bd0a",
   "metadata": {},
   "outputs": [
    {
     "data": {
      "text/plain": [
       "list"
      ]
     },
     "execution_count": 33,
     "metadata": {},
     "output_type": "execute_result"
    }
   ],
   "source": [
    "#Demet (Tuple)\n",
    "L=[1,'ata',325,'*']\n",
    "type(L)"
   ]
  },
  {
   "cell_type": "code",
   "execution_count": 34,
   "id": "bce2e566-a575-4566-882e-1c9a3e894a0d",
   "metadata": {},
   "outputs": [
    {
     "data": {
      "text/plain": [
       "tuple"
      ]
     },
     "execution_count": 34,
     "metadata": {},
     "output_type": "execute_result"
    }
   ],
   "source": [
    "T=(1,'ata',325,'*')\n",
    "type(T)"
   ]
  },
  {
   "cell_type": "code",
   "execution_count": 35,
   "id": "e3a03a9e-868f-4ae0-9919-c65d81e58d83",
   "metadata": {},
   "outputs": [],
   "source": [
    "#Tuple veri tipi bir kere tanımlanır sonra değiştirilemez. Bu listeden farkıdır.\n",
    "#listeye göre hafızada daha az yer kaplar."
   ]
  }
 ],
 "metadata": {
  "kernelspec": {
   "display_name": "Python 3 (ipykernel)",
   "language": "python",
   "name": "python3"
  },
  "language_info": {
   "codemirror_mode": {
    "name": "ipython",
    "version": 3
   },
   "file_extension": ".py",
   "mimetype": "text/x-python",
   "name": "python",
   "nbconvert_exporter": "python",
   "pygments_lexer": "ipython3",
   "version": "3.12.5"
  }
 },
 "nbformat": 4,
 "nbformat_minor": 5
}

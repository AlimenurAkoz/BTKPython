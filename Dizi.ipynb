{
 "cells": [
  {
   "cell_type": "code",
   "execution_count": 18,
   "id": "ef30ba62-bf0a-45c3-84be-10b053fe9c1f",
   "metadata": {},
   "outputs": [
    {
     "data": {
      "text/plain": [
       "5"
      ]
     },
     "execution_count": 18,
     "metadata": {},
     "output_type": "execute_result"
    }
   ],
   "source": [
    "#Listeler\n",
    "kar_liste=['Ali', 5,'a']\n",
    "bos_liste=[]\n",
    "kar_liste[1]"
   ]
  },
  {
   "cell_type": "code",
   "execution_count": 19,
   "id": "e4efa49d-7055-4542-9e51-394a481c84f9",
   "metadata": {},
   "outputs": [
    {
     "data": {
      "text/plain": [
       "'a'"
      ]
     },
     "execution_count": 19,
     "metadata": {},
     "output_type": "execute_result"
    }
   ],
   "source": [
    "kar_liste[-1]"
   ]
  },
  {
   "cell_type": "code",
   "execution_count": 20,
   "id": "a9980003-6e80-4a02-b6fd-1ecae04c62dd",
   "metadata": {},
   "outputs": [
    {
     "data": {
      "text/plain": [
       "1"
      ]
     },
     "execution_count": 20,
     "metadata": {},
     "output_type": "execute_result"
    }
   ],
   "source": [
    "#bir değerin indexini bulma\n",
    "liste=[1,2,3,'a','2','ali']\n",
    "liste.index(2)"
   ]
  },
  {
   "cell_type": "code",
   "execution_count": 21,
   "id": "53b8d5c8-5687-4a92-a348-88e7180f5f71",
   "metadata": {},
   "outputs": [
    {
     "data": {
      "text/plain": [
       "3"
      ]
     },
     "execution_count": 21,
     "metadata": {},
     "output_type": "execute_result"
    }
   ],
   "source": [
    "liste.index('a')"
   ]
  },
  {
   "cell_type": "code",
   "execution_count": 22,
   "id": "9b7cf91c-b92e-432c-97f0-7dc303b944ef",
   "metadata": {},
   "outputs": [
    {
     "data": {
      "text/plain": [
       "[3, 4, 5, 6, 7, 8]"
      ]
     },
     "execution_count": 22,
     "metadata": {},
     "output_type": "execute_result"
    }
   ],
   "source": [
    "#listede dilimleme\n",
    "l=[1,2,3,4,5,6,7,8]\n",
    "l[2:]"
   ]
  },
  {
   "cell_type": "code",
   "execution_count": 23,
   "id": "6fc421b9-4009-4a4b-ad4a-8449812f5d7d",
   "metadata": {},
   "outputs": [
    {
     "data": {
      "text/plain": [
       "[8, 7, 6, 5, 4, 3, 2, 1]"
      ]
     },
     "execution_count": 23,
     "metadata": {},
     "output_type": "execute_result"
    }
   ],
   "source": [
    "l[::-1]"
   ]
  },
  {
   "cell_type": "code",
   "execution_count": 24,
   "id": "d7b1dc25-239a-4d33-ba8e-0da2e003a04e",
   "metadata": {},
   "outputs": [
    {
     "data": {
      "text/plain": [
       "[1, 4, 7]"
      ]
     },
     "execution_count": 24,
     "metadata": {},
     "output_type": "execute_result"
    }
   ],
   "source": [
    "l[::3]"
   ]
  },
  {
   "cell_type": "code",
   "execution_count": 25,
   "id": "d143bff2-b8ac-43b2-bef1-eabb326c5ba2",
   "metadata": {},
   "outputs": [
    {
     "data": {
      "text/plain": [
       "[8, 6, 4, 2]"
      ]
     },
     "execution_count": 25,
     "metadata": {},
     "output_type": "execute_result"
    }
   ],
   "source": [
    "l[::-2]"
   ]
  },
  {
   "cell_type": "code",
   "execution_count": 26,
   "id": "33540deb-e59a-476f-be39-bfa9513bdb4b",
   "metadata": {},
   "outputs": [
    {
     "name": "stdout",
     "output_type": "stream",
     "text": [
      "[1, 2, 3, 4, 5, 6, 7]\n"
     ]
    }
   ],
   "source": [
    "#listeye eleman ekleme\n",
    "l=[1,2,3,4,5,6]\n",
    "l.append(7)\n",
    "print(l)"
   ]
  },
  {
   "cell_type": "code",
   "execution_count": 27,
   "id": "79983e31-4338-49f4-b4aa-ff9dbc7a3cf2",
   "metadata": {},
   "outputs": [
    {
     "name": "stdout",
     "output_type": "stream",
     "text": [
      "[1, 2, 3, 4, 5, 6, 7, 'btk']\n"
     ]
    }
   ],
   "source": [
    "l.append('btk')\n",
    "print(l)"
   ]
  },
  {
   "cell_type": "code",
   "execution_count": 28,
   "id": "5a97db25-9fc3-45d5-8ec7-c97240853f45",
   "metadata": {},
   "outputs": [
    {
     "name": "stdout",
     "output_type": "stream",
     "text": [
      "[1, 2, 'a', 3, 4, 5, 6, 7, 'btk']\n"
     ]
    }
   ],
   "source": [
    "#araya ekleme\n",
    "l.insert(2,'a')\n",
    "print(l)"
   ]
  },
  {
   "cell_type": "code",
   "execution_count": 30,
   "id": "589995a1-0dbf-4c57-bd53-cde478c2c9ca",
   "metadata": {},
   "outputs": [
    {
     "name": "stdin",
     "output_type": "stream",
     "text": [
      "Sayı gir:  5\n",
      "Sayı gir:  6\n",
      "Sayı gir:  7\n",
      "Sayı gir:  94\n",
      "Sayı gir:  8\n"
     ]
    },
    {
     "name": "stdout",
     "output_type": "stream",
     "text": [
      "L[ 0 ] 5\n",
      "L[ 1 ] 6\n",
      "L[ 2 ] 7\n",
      "L[ 3 ] 94\n",
      "L[ 4 ] 8\n"
     ]
    }
   ],
   "source": [
    "L=[]\n",
    "for i in range(0,5):\n",
    "    sayi=int(input(\"Sayı gir: \"))\n",
    "    L.append(sayi)\n",
    "for i in range(0,5):\n",
    "    print(\"L[\",i,\"]\",L[i])"
   ]
  },
  {
   "cell_type": "code",
   "execution_count": 31,
   "id": "62db8b1d-4f6f-416d-a10e-0b6625fc12d4",
   "metadata": {},
   "outputs": [
    {
     "data": {
      "text/plain": [
       "10"
      ]
     },
     "execution_count": 31,
     "metadata": {},
     "output_type": "execute_result"
    }
   ],
   "source": [
    "#listenin eleman sayısını öğrenme\n",
    "L=[1,2,1,'a','b',3,4,5,'a',8]\n",
    "len(L)"
   ]
  },
  {
   "cell_type": "code",
   "execution_count": 32,
   "id": "7686df26-bd7c-4fed-b050-9a964f962238",
   "metadata": {},
   "outputs": [
    {
     "data": {
      "text/plain": [
       "2"
      ]
     },
     "execution_count": 32,
     "metadata": {},
     "output_type": "execute_result"
    }
   ],
   "source": [
    "L.count(1)"
   ]
  },
  {
   "cell_type": "code",
   "execution_count": 33,
   "id": "58330942-5bc5-42d8-8962-15f5f4c7427e",
   "metadata": {},
   "outputs": [
    {
     "data": {
      "text/plain": [
       "2"
      ]
     },
     "execution_count": 33,
     "metadata": {},
     "output_type": "execute_result"
    }
   ],
   "source": [
    "L.count(\"a\")"
   ]
  },
  {
   "cell_type": "code",
   "execution_count": 1,
   "id": "d8a693a3-db26-4ea2-a980-0492ea783a3b",
   "metadata": {},
   "outputs": [
    {
     "name": "stdout",
     "output_type": "stream",
     "text": [
      "[1, 2, 3, 4, 5, 6, 7, 8]\n"
     ]
    }
   ],
   "source": [
    "#İki listeyi birleştirme\n",
    "L1=[1,2,3,4]\n",
    "L2=[5,6,7,8]\n",
    "L3=L1+L2\n",
    "print(L3)"
   ]
  },
  {
   "cell_type": "code",
   "execution_count": 2,
   "id": "d249fd7b-dd4a-45d4-9101-3dd6282c8051",
   "metadata": {},
   "outputs": [
    {
     "name": "stdout",
     "output_type": "stream",
     "text": [
      "[1, 2, 3, 4, 5, 6, 7, 8]\n"
     ]
    }
   ],
   "source": [
    "L1.extend(L2)\n",
    "print(L1)"
   ]
  },
  {
   "cell_type": "code",
   "execution_count": 3,
   "id": "5acf7a5d-6df0-48e0-96bd-90f2f3c4738c",
   "metadata": {},
   "outputs": [
    {
     "name": "stdout",
     "output_type": "stream",
     "text": [
      "[5, 6, 7, 8]\n"
     ]
    }
   ],
   "source": [
    "print(L2)"
   ]
  },
  {
   "cell_type": "code",
   "execution_count": 4,
   "id": "1503bf12-19d1-4e63-8edc-f70bd058b1ec",
   "metadata": {},
   "outputs": [
    {
     "name": "stdout",
     "output_type": "stream",
     "text": [
      "[5, 6, 7, 8, 1, 2, 3, 4, 5, 6, 7, 8]\n"
     ]
    }
   ],
   "source": [
    "L2.extend(L1)\n",
    "print(L2)"
   ]
  },
  {
   "cell_type": "code",
   "execution_count": 7,
   "id": "7e70c07b-7066-4e36-8c7f-98a244779290",
   "metadata": {},
   "outputs": [
    {
     "data": {
      "text/plain": [
       "[6, 5, 4, 3, 2, 1]"
      ]
     },
     "execution_count": 7,
     "metadata": {},
     "output_type": "execute_result"
    }
   ],
   "source": [
    "#listeyi ters çevirme\n",
    "L=[1,2,3,4,5,6]\n",
    "L[::-1] #L nin kendisini değiştirmiyor"
   ]
  },
  {
   "cell_type": "code",
   "execution_count": 8,
   "id": "8c4eb7a5-b5e1-470d-aab6-04d16693c760",
   "metadata": {},
   "outputs": [
    {
     "data": {
      "text/plain": [
       "[1, 2, 3, 4, 5, 6]"
      ]
     },
     "execution_count": 8,
     "metadata": {},
     "output_type": "execute_result"
    }
   ],
   "source": [
    "L"
   ]
  },
  {
   "cell_type": "code",
   "execution_count": 12,
   "id": "879dda66-8fd6-4bb3-9bd5-ce44cf4fc8c4",
   "metadata": {},
   "outputs": [
    {
     "name": "stdout",
     "output_type": "stream",
     "text": [
      "[1, 2, 3, 4, 5, 6]\n"
     ]
    }
   ],
   "source": [
    "L.reverse()#L nin kendisini de değiştiriyor\n",
    "print(L)"
   ]
  },
  {
   "cell_type": "code",
   "execution_count": 13,
   "id": "e54605ea-dceb-4781-82ae-a0cdd7135238",
   "metadata": {},
   "outputs": [
    {
     "data": {
      "text/plain": [
       "[6, 4, 2]"
      ]
     },
     "execution_count": 13,
     "metadata": {},
     "output_type": "execute_result"
    }
   ],
   "source": [
    "L[::-2]"
   ]
  },
  {
   "cell_type": "code",
   "execution_count": 14,
   "id": "8ec39867-bcf4-40b3-b9ac-38e68e9af5e5",
   "metadata": {},
   "outputs": [
    {
     "data": {
      "text/plain": [
       "[1, 2, 3, 4, 5, 6]"
      ]
     },
     "execution_count": 14,
     "metadata": {},
     "output_type": "execute_result"
    }
   ],
   "source": [
    "L"
   ]
  },
  {
   "cell_type": "code",
   "execution_count": 15,
   "id": "d704f266-8215-4fa9-b3c4-6b0d5aee8112",
   "metadata": {},
   "outputs": [
    {
     "data": {
      "text/plain": [
       "12"
      ]
     },
     "execution_count": 15,
     "metadata": {},
     "output_type": "execute_result"
    }
   ],
   "source": [
    "#Listenin en küçük ve en büyük değerlerini bulma\n",
    "L=[58,24,57,94,12,45,78]\n",
    "min(L)"
   ]
  },
  {
   "cell_type": "code",
   "execution_count": 16,
   "id": "315bf1f9-5176-4572-ae66-34ae68ece1c3",
   "metadata": {},
   "outputs": [
    {
     "data": {
      "text/plain": [
       "94"
      ]
     },
     "execution_count": 16,
     "metadata": {},
     "output_type": "execute_result"
    }
   ],
   "source": [
    "max(L)"
   ]
  },
  {
   "cell_type": "code",
   "execution_count": 23,
   "id": "891a0b23-2736-4270-9bd4-6947cd9c6fe0",
   "metadata": {},
   "outputs": [
    {
     "data": {
      "text/plain": [
       "['B', 't', 'k', 'a', 'k', 'a', 'd', 'e', 'm', 'i']"
      ]
     },
     "execution_count": 23,
     "metadata": {},
     "output_type": "execute_result"
    }
   ],
   "source": [
    "#Stringi listeye dönüştürme\n",
    "kelime='Btkakademi'\n",
    "L=[]\n",
    "L=list(kelime)\n",
    "L"
   ]
  },
  {
   "cell_type": "code",
   "execution_count": 24,
   "id": "c9d9a41c-5239-4978-bca5-21e5789c7411",
   "metadata": {},
   "outputs": [
    {
     "name": "stdout",
     "output_type": "stream",
     "text": [
      "['B', 't', 'k', 'k', 'a', 'd', 'e', 'm', 'i']\n"
     ]
    }
   ],
   "source": [
    "#listeden eleman silme\n",
    "L.remove('a')#her remove da bir tane siler\n",
    "print(L)"
   ]
  },
  {
   "cell_type": "code",
   "execution_count": 25,
   "id": "69e576ad-bbd1-4b6d-8eec-b11d4672fe4b",
   "metadata": {},
   "outputs": [
    {
     "data": {
      "text/plain": [
       "['B', 't', 'k', 'a', 'd', 'e', 'm', 'i']"
      ]
     },
     "execution_count": 25,
     "metadata": {},
     "output_type": "execute_result"
    }
   ],
   "source": [
    "L.pop(2)#indşse göre silme\n",
    "L"
   ]
  },
  {
   "cell_type": "code",
   "execution_count": 26,
   "id": "49636a33-ca40-4f81-9dce-0aa6960c12af",
   "metadata": {},
   "outputs": [
    {
     "data": {
      "text/plain": [
       "[]"
      ]
     },
     "execution_count": 26,
     "metadata": {},
     "output_type": "execute_result"
    }
   ],
   "source": [
    "L.clear()#her şeyi siler,boş liste yapar\n",
    "L"
   ]
  },
  {
   "cell_type": "code",
   "execution_count": 27,
   "id": "563b4788-4c9a-437d-b84c-b247c08bfbc2",
   "metadata": {},
   "outputs": [
    {
     "data": {
      "text/plain": [
       "True"
      ]
     },
     "execution_count": 27,
     "metadata": {},
     "output_type": "execute_result"
    }
   ],
   "source": [
    "#listede arama yapma\n",
    "L=[1,2,3,4,5,6,7,8]\n",
    "1 in L"
   ]
  },
  {
   "cell_type": "code",
   "execution_count": 28,
   "id": "2425b6e1-a104-431c-9615-eb879f899149",
   "metadata": {},
   "outputs": [
    {
     "data": {
      "text/plain": [
       "False"
      ]
     },
     "execution_count": 28,
     "metadata": {},
     "output_type": "execute_result"
    }
   ],
   "source": [
    "25 in L"
   ]
  },
  {
   "cell_type": "code",
   "execution_count": 29,
   "id": "99db4c87-466d-453f-9a06-a446407c8beb",
   "metadata": {},
   "outputs": [
    {
     "data": {
      "text/plain": [
       "4"
      ]
     },
     "execution_count": 29,
     "metadata": {},
     "output_type": "execute_result"
    }
   ],
   "source": [
    "#aranan değerin hangi indiste olduğunu yazdırma\n",
    "L.index(5)"
   ]
  },
  {
   "cell_type": "code",
   "execution_count": 34,
   "id": "34e8e2e7-2761-4c0f-bac2-33d53c3b8b67",
   "metadata": {},
   "outputs": [
    {
     "data": {
      "text/plain": [
       "[12, 54, 54, 87, 85587]"
      ]
     },
     "execution_count": 34,
     "metadata": {},
     "output_type": "execute_result"
    }
   ],
   "source": [
    "#liste elemanlarını sıralama\n",
    "L=[54,12,87,54,85587]\n",
    "L.sort()\n",
    "L"
   ]
  },
  {
   "cell_type": "code",
   "execution_count": 35,
   "id": "b65f4942-919a-4000-bbdc-301671fcbef3",
   "metadata": {},
   "outputs": [
    {
     "data": {
      "text/plain": [
       "[85587, 87, 54, 54, 12]"
      ]
     },
     "execution_count": 35,
     "metadata": {},
     "output_type": "execute_result"
    }
   ],
   "source": [
    "L=L[::-1]\n",
    "L"
   ]
  },
  {
   "cell_type": "code",
   "execution_count": 38,
   "id": "00d0e4f8-b014-4f76-9d7f-e28d2c1c7259",
   "metadata": {},
   "outputs": [
    {
     "name": "stdout",
     "output_type": "stream",
     "text": [
      "1. gün Pazartesi\n",
      "2. gün Salı\n",
      "3. gün Çarşamba\n",
      "4. gün Perşembe\n",
      "5. gün Cuma\n",
      "6. gün Cumartesi\n",
      "7. gün Pazar\n"
     ]
    }
   ],
   "source": [
    "#liste elemanlarını numaralandırma\n",
    "Gun=['Pazartesi','Salı','Çarşamba','Perşembe','Cuma','Cumartesi','Pazar']\n",
    "for i, deger in enumerate(Gun):\n",
    "    print(str(i+1)+\". gün \"+deger)"
   ]
  },
  {
   "cell_type": "code",
   "execution_count": 42,
   "id": "4432eba4-d870-4326-9718-50dfa857efc2",
   "metadata": {},
   "outputs": [
    {
     "name": "stdout",
     "output_type": "stream",
     "text": [
      "[4, 24, 7, 578]\n"
     ]
    }
   ],
   "source": [
    "#listeden yığın(stack) oluşturma\n",
    "L=[]\n",
    "L.append(4)#değer ekleme\n",
    "L.append(24)\n",
    "L.append(7)\n",
    "L.append(578)\n",
    "print(L)"
   ]
  },
  {
   "cell_type": "code",
   "execution_count": 43,
   "id": "82fe8d00-1d63-4664-909b-ecd0c8d1c817",
   "metadata": {},
   "outputs": [
    {
     "data": {
      "text/plain": [
       "578"
      ]
     },
     "execution_count": 43,
     "metadata": {},
     "output_type": "execute_result"
    }
   ],
   "source": [
    "L.pop()#yığındaki son değeri yazdırı ve siler"
   ]
  },
  {
   "cell_type": "code",
   "execution_count": 44,
   "id": "29936488-48f3-485a-9c42-5f5fadfa8654",
   "metadata": {},
   "outputs": [
    {
     "data": {
      "text/plain": [
       "[4, 24, 7]"
      ]
     },
     "execution_count": 44,
     "metadata": {},
     "output_type": "execute_result"
    }
   ],
   "source": [
    "L"
   ]
  },
  {
   "cell_type": "code",
   "execution_count": 45,
   "id": "8d3b48c7-8de1-4595-8491-f001ea008500",
   "metadata": {},
   "outputs": [
    {
     "data": {
      "text/plain": [
       "7"
      ]
     },
     "execution_count": 45,
     "metadata": {},
     "output_type": "execute_result"
    }
   ],
   "source": [
    "L[-1]#son değere erişme"
   ]
  },
  {
   "cell_type": "code",
   "execution_count": 46,
   "id": "35a44589-e1e5-4daa-98dc-ffa7245589d9",
   "metadata": {},
   "outputs": [
    {
     "data": {
      "text/plain": [
       "[4, 24, 7, 214]"
      ]
     },
     "execution_count": 46,
     "metadata": {},
     "output_type": "execute_result"
    }
   ],
   "source": [
    "#listelerden kuyruk(queue) oluşturma\n",
    "L.append(214)\n",
    "L"
   ]
  },
  {
   "cell_type": "code",
   "execution_count": 47,
   "id": "90dccfdf-a98d-4f1c-a093-d7180b912697",
   "metadata": {},
   "outputs": [
    {
     "data": {
      "text/plain": [
       "[24, 7, 214]"
      ]
     },
     "execution_count": 47,
     "metadata": {},
     "output_type": "execute_result"
    }
   ],
   "source": [
    "L.pop(0)\n",
    "L"
   ]
  },
  {
   "cell_type": "code",
   "execution_count": null,
   "id": "aff988ba-a8e0-4061-af75-92f6faa814d6",
   "metadata": {},
   "outputs": [],
   "source": []
  }
 ],
 "metadata": {
  "kernelspec": {
   "display_name": "Python 3 (ipykernel)",
   "language": "python",
   "name": "python3"
  },
  "language_info": {
   "codemirror_mode": {
    "name": "ipython",
    "version": 3
   },
   "file_extension": ".py",
   "mimetype": "text/x-python",
   "name": "python",
   "nbconvert_exporter": "python",
   "pygments_lexer": "ipython3",
   "version": "3.12.5"
  }
 },
 "nbformat": 4,
 "nbformat_minor": 5
}

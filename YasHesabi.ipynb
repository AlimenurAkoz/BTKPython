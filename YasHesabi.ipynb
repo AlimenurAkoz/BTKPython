{
 "cells": [
  {
   "cell_type": "code",
   "execution_count": 3,
   "id": "f9bc9637-9902-478d-abdd-9940968e040f",
   "metadata": {},
   "outputs": [
    {
     "ename": "IndentationError",
     "evalue": "unexpected indent (1687556199.py, line 6)",
     "output_type": "error",
     "traceback": [
      "\u001b[1;36m  Cell \u001b[1;32mIn[3], line 6\u001b[1;36m\u001b[0m\n\u001b[1;33m    if dogumYil > guncelYil\u001b[0m\n\u001b[1;37m    ^\u001b[0m\n\u001b[1;31mIndentationError\u001b[0m\u001b[1;31m:\u001b[0m unexpected indent\n"
     ]
    }
   ],
   "source": [
    "guncelGun = 4\n",
    "guncelAy = 12\n",
    "guncelYil = 2024\n",
    "\n",
    "dogumYil = int(input(\"Doğduğunuz yılı giriniz: \"))\n",
    " if dogumYil > guncelYil\n",
    "    dogumYil = int(input(\"GEÇERSİZ! Geçerli bir yıl giriniz: \"))\n",
    "dogumAy = int(input(\"Doğduğunuz ayı giriniz: \"))\n",
    " if dogumAy > 12 & dogumAy < 0\n",
    "    dogumAy = int(input(\"GEÇERSİZ! Geçerli bir ay giriniz: \"))\n",
    "\n",
    "dogumGun = int(input(\"Doğduğunuz günü giriniz: \"))\n",
    " if dogumAy < 8 & dogumAy % 2 != 0 & dogumGun <= 0 & dogumGun > 31\n",
    "    dogumGun = int(input(\"GEÇERSİZ! Geçerli bir gün giriniz: \"))\n",
    " else if 3 < dogumAy < 8 & dogumAy % 2 = 0 & dogumGun <= 0 & dogumGun > 30\n",
    "    dogumGun = int(input(\"GEÇERSİZ! Geçerli bir gün giriniz: \"))\n",
    " if dogumAy >= 8 & dogumAy % 2 = 0 & dogumGun <= 0 & dogumGun > 31\n",
    "    dogumGun = int(input(\"GEÇERSİZ! Geçerli bir gün giriniz: \"))\n",
    " if else dogumGun > 8 & dogumGun % 2 != 0 & dogumGun <= 0 & dogumGun > 30\n",
    "    dogumGun = int(input(\"GEÇERSİZ! Geçerli bir gün giriniz: \"))\n",
    " if dogumAy = 2 & dogumYil % 4 = 0 & dogumGun > 29 & dogumGun <= 0\n",
    "    dogumGun = int(input(\"GEÇERSİZ! Geçerli bir gün giriniz: \"))\n",
    " if else dogumAy = 2 & dogumYil % 4 != 0 & dogumGun > 28 & dogumGun <= 0\n",
    "    dogumGun = int(input(\"GEÇERSİZ! Geçerli bir gün giriniz: \"))"
   ]
  },
  {
   "cell_type": "code",
   "execution_count": null,
   "id": "2aa5fd4d-8850-47fe-b066-90f97da96a20",
   "metadata": {},
   "outputs": [],
   "source": []
  }
 ],
 "metadata": {
  "kernelspec": {
   "display_name": "Python 3 (ipykernel)",
   "language": "python",
   "name": "python3"
  },
  "language_info": {
   "codemirror_mode": {
    "name": "ipython",
    "version": 3
   },
   "file_extension": ".py",
   "mimetype": "text/x-python",
   "name": "python",
   "nbconvert_exporter": "python",
   "pygments_lexer": "ipython3",
   "version": "3.12.5"
  }
 },
 "nbformat": 4,
 "nbformat_minor": 5
}

{
 "cells": [
  {
   "cell_type": "code",
   "execution_count": null,
   "id": "28555955-6e75-444c-a0eb-e3ae395144fb",
   "metadata": {},
   "outputs": [],
   "source": [
    "from turtle import*\n",
    "N=int(numinput(\"poligon\", \"kenar sayısı\"))#numinput kullanıcıdan float değer alır\n",
    "renk=textinput(\"renk\",\"iç rengi\")\n",
    "\n",
    "pensize(4)\n",
    "circle(100,360,N)\n",
    "\n",
    "begin_fill()\n",
    "fillcolor(renk)\n",
    "circle(100,360,N)\n",
    "end_fill()"
   ]
  },
  {
   "cell_type": "code",
   "execution_count": null,
   "id": "ea2c244d-2600-4312-ab43-9af289dd689f",
   "metadata": {},
   "outputs": [],
   "source": []
  }
 ],
 "metadata": {
  "kernelspec": {
   "display_name": "Python 3 (ipykernel)",
   "language": "python",
   "name": "python3"
  },
  "language_info": {
   "codemirror_mode": {
    "name": "ipython",
    "version": 3
   },
   "file_extension": ".py",
   "mimetype": "text/x-python",
   "name": "python",
   "nbconvert_exporter": "python",
   "pygments_lexer": "ipython3",
   "version": "3.12.5"
  }
 },
 "nbformat": 4,
 "nbformat_minor": 5
}

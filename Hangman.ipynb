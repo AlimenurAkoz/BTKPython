{
 "cells": [
  {
   "cell_type": "code",
   "execution_count": 1,
   "id": "4104c122-826b-48b4-9395-836facb569cc",
   "metadata": {},
   "outputs": [
    {
     "name": "stderr",
     "output_type": "stream",
     "text": [
      "<>:4: SyntaxWarning: invalid escape sequence '\\ '\n",
      "<>:9: SyntaxWarning: invalid escape sequence '\\ '\n",
      "<>:14: SyntaxWarning: invalid escape sequence '\\ '\n",
      "<>:4: SyntaxWarning: invalid escape sequence '\\ '\n",
      "<>:9: SyntaxWarning: invalid escape sequence '\\ '\n",
      "<>:14: SyntaxWarning: invalid escape sequence '\\ '\n",
      "C:\\Users\\alime\\AppData\\Local\\Temp\\ipykernel_5600\\338920353.py:4: SyntaxWarning: invalid escape sequence '\\ '\n",
      "  adam=['''\n",
      "C:\\Users\\alime\\AppData\\Local\\Temp\\ipykernel_5600\\338920353.py:9: SyntaxWarning: invalid escape sequence '\\ '\n",
      "  ---''','''\n",
      "C:\\Users\\alime\\AppData\\Local\\Temp\\ipykernel_5600\\338920353.py:14: SyntaxWarning: invalid escape sequence '\\ '\n",
      "  ---''','''\n"
     ]
    },
    {
     "name": "stdout",
     "output_type": "stream",
     "text": [
      "Kelime:  ______\n",
      "\n",
      "    +----+\n",
      "         |\n",
      "         |\n",
      "         |\n",
      "        ---\n"
     ]
    },
    {
     "name": "stdin",
     "output_type": "stream",
     "text": [
      " a\n"
     ]
    },
    {
     "name": "stdout",
     "output_type": "stream",
     "text": [
      "Yanlış Harf\n",
      "Kelime:  ______\n",
      "\n",
      "    +----+\n",
      "    o    |\n",
      "         |\n",
      "         |\n",
      "        ---\n"
     ]
    },
    {
     "name": "stdin",
     "output_type": "stream",
     "text": [
      " k\n"
     ]
    },
    {
     "name": "stdout",
     "output_type": "stream",
     "text": [
      "Yanlış Harf\n",
      "Kelime:  ______\n",
      "\n",
      "    +----+\n",
      "    o    |\n",
      "    |    |\n",
      "         |\n",
      "        ---\n"
     ]
    },
    {
     "name": "stdin",
     "output_type": "stream",
     "text": [
      " t\n"
     ]
    },
    {
     "name": "stdout",
     "output_type": "stream",
     "text": [
      "Yanlış Harf\n",
      "Kelime:  ______\n",
      "\n",
      "    +----+\n",
      "    o    |\n",
      "   /|    |\n",
      "         |\n",
      "        ---\n"
     ]
    },
    {
     "name": "stdin",
     "output_type": "stream",
     "text": [
      " w\n"
     ]
    },
    {
     "name": "stdout",
     "output_type": "stream",
     "text": [
      "Yanlış Harf\n",
      "Kelime:  ______\n",
      "\n",
      "    +----+\n",
      "    o    |\n",
      "   /|\\   |\n",
      "         |\n",
      "        ---\n"
     ]
    },
    {
     "name": "stdin",
     "output_type": "stream",
     "text": [
      " \n"
     ]
    },
    {
     "name": "stdout",
     "output_type": "stream",
     "text": [
      "Doğru harf\n",
      "Kelime:  ______\n",
      "\n",
      "    +----+\n",
      "    o    |\n",
      "   /|\\   |\n",
      "         |\n",
      "        ---\n"
     ]
    },
    {
     "name": "stdin",
     "output_type": "stream",
     "text": [
      " w\n"
     ]
    },
    {
     "name": "stdout",
     "output_type": "stream",
     "text": [
      "w Zaten girildi\n",
      "Kelime:  ______\n",
      "\n",
      "    +----+\n",
      "    o    |\n",
      "   /|\\   |\n",
      "         |\n",
      "        ---\n"
     ]
    },
    {
     "name": "stdin",
     "output_type": "stream",
     "text": [
      " e\n"
     ]
    },
    {
     "name": "stdout",
     "output_type": "stream",
     "text": [
      "Doğru harf\n",
      "Kelime:  _____e\n",
      "\n",
      "    +----+\n",
      "    o    |\n",
      "   /|\\   |\n",
      "         |\n",
      "        ---\n"
     ]
    },
    {
     "name": "stdin",
     "output_type": "stream",
     "text": [
      " m\n"
     ]
    },
    {
     "name": "stdout",
     "output_type": "stream",
     "text": [
      "Yanlış Harf\n",
      "Kelime:  _____e\n",
      "\n",
      "    +----+\n",
      "    o    |\n",
      "   /|\\   |\n",
      "   /     |\n",
      "        ---\n"
     ]
    },
    {
     "name": "stdin",
     "output_type": "stream",
     "text": [
      " i\n"
     ]
    },
    {
     "name": "stdout",
     "output_type": "stream",
     "text": [
      "Doğru harf\n",
      "Kelime:  ___i_e\n",
      "\n",
      "    +----+\n",
      "    o    |\n",
      "   /|\\   |\n",
      "   /     |\n",
      "        ---\n"
     ]
    },
    {
     "name": "stdin",
     "output_type": "stream",
     "text": [
      " h\n"
     ]
    },
    {
     "name": "stdout",
     "output_type": "stream",
     "text": [
      "Doğru harf\n",
      "Kelime:  _h_i_e\n",
      "\n",
      "    +----+\n",
      "    o    |\n",
      "   /|\\   |\n",
      "   /     |\n",
      "        ---\n"
     ]
    },
    {
     "name": "stdin",
     "output_type": "stream",
     "text": [
      " while\n"
     ]
    },
    {
     "name": "stdout",
     "output_type": "stream",
     "text": [
      "Yanlış Harf\n",
      "Kelime:  _h_i_e\n",
      "\n",
      "    +----+\n",
      "    o    |\n",
      "   /|\\   |\n",
      "   / \\   |\n",
      "        ---\n"
     ]
    },
    {
     "name": "stdin",
     "output_type": "stream",
     "text": [
      " f\n"
     ]
    },
    {
     "name": "stdout",
     "output_type": "stream",
     "text": [
      "Yanlış Harf\n",
      "Kaybettiniz... Kelime: choice\n"
     ]
    }
   ],
   "source": [
    "import random\n",
    "Liste=[\"python\", \"print\", \"random\", \"while\", \"choice\",\"for\",\"random\", \"math\"]\n",
    "kelime=random.choice(Liste)\n",
    "adam=['''\n",
    "    +----+\n",
    "    o    |\n",
    "   /|\\   |\n",
    "   / \\   |\n",
    "        ---''','''\n",
    "    +----+\n",
    "    o    |\n",
    "   /|\\   |\n",
    "   /     |\n",
    "        ---''','''\n",
    "    +----+\n",
    "    o    |\n",
    "   /|\\   |\n",
    "         |\n",
    "        ---''','''\n",
    "    +----+\n",
    "    o    |\n",
    "   /|    |\n",
    "         |\n",
    "        ---''','''\n",
    "    +----+\n",
    "    o    |\n",
    "    |    |\n",
    "         |\n",
    "        ---''','''\n",
    "    +----+\n",
    "    o    |\n",
    "         |\n",
    "         |\n",
    "        ---''','''\n",
    "    +----+\n",
    "         |\n",
    "         |\n",
    "         |\n",
    "        ---''']\n",
    "\n",
    "dogruHarf=[]\n",
    "yanlısHarf=[]\n",
    "hak=len(adam)\n",
    "while hak>0:\n",
    "    out=\"\"\n",
    "    for h in kelime:\n",
    "        if h in dogruHarf:\n",
    "            out+=h\n",
    "        else:\n",
    "            out+=\"_\"\n",
    "\n",
    "    if out==kelime:\n",
    "        break\n",
    "    print(\"Kelime: \",out)\n",
    "    print(adam[hak-1])\n",
    "    girHarf=input()\n",
    "    if girHarf in dogruHarf or girHarf in yanlısHarf:\n",
    "        print(girHarf, \"Zaten girildi\")\n",
    "    elif girHarf in kelime:\n",
    "        print(\"Doğru harf\")\n",
    "        dogruHarf.append(girHarf)\n",
    "    else:\n",
    "        print(\"Yanlış Harf\")\n",
    "        hak-=1\n",
    "        yanlısHarf.append(girHarf)\n",
    "\n",
    "if hak!=0:\n",
    "    print(\"Tebrikler kazandınız... Kelime:\", kelime)\n",
    "else:\n",
    "    print(\"Kaybettiniz... Kelime:\", kelime)\n",
    "        "
   ]
  },
  {
   "cell_type": "code",
   "execution_count": null,
   "id": "e35183c1-9e90-4dc8-b4f9-5b233e887261",
   "metadata": {},
   "outputs": [],
   "source": []
  }
 ],
 "metadata": {
  "kernelspec": {
   "display_name": "Python 3 (ipykernel)",
   "language": "python",
   "name": "python3"
  },
  "language_info": {
   "codemirror_mode": {
    "name": "ipython",
    "version": 3
   },
   "file_extension": ".py",
   "mimetype": "text/x-python",
   "name": "python",
   "nbconvert_exporter": "python",
   "pygments_lexer": "ipython3",
   "version": "3.12.5"
  }
 },
 "nbformat": 4,
 "nbformat_minor": 5
}

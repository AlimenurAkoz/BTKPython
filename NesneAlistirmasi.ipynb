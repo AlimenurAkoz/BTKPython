{
 "cells": [
  {
   "cell_type": "code",
   "execution_count": 20,
   "id": "b69c05ea-6b10-478d-949b-1340b96ec161",
   "metadata": {},
   "outputs": [],
   "source": [
    "from math import*\n",
    "class kup:\n",
    "    def __init__(self,a):#a,değişken\n",
    "        self.a=a\n",
    "    def yAlan(self):\n",
    "        return(6*pow(self.a,2))\n",
    "    def hacim(self):\n",
    "        return(pow(self.a,3))\n",
    "\n",
    "class kure:\n",
    "    def __init__(self,r):\n",
    "        self.r=r\n",
    "    def yAlan(self):\n",
    "        return(4*pi*pow(self.r,2))\n",
    "    def hacim(self):\n",
    "        return((4/3)*pi*pow(self.r,3))\n",
    "\n",
    "class silindir:\n",
    "    def __init__(self,r,h):\n",
    "        self.r=r\n",
    "        self.h=h\n",
    "    def yAlan(self):\n",
    "        return(2*pi*pow(self.r,2))+(2*pi*self.r*self.h)\n",
    "    def hacim(self):\n",
    "        return(pi*pow(self.r,2)*self.h)\n",
    "#nesne oluşturma:\n",
    "futbolTopu=kure(10)\n",
    "pinponTopu=kure(3)\n",
    "kupSeker=kup(2)\n",
    "koli=kup(50)\n",
    "merdane=silindir(3,30)\n",
    "tencere=silindir(15,20)"
   ]
  },
  {
   "cell_type": "code",
   "execution_count": 21,
   "id": "2b3b2ad9-66ae-4f94-b3f0-a7880ff7a705",
   "metadata": {},
   "outputs": [
    {
     "data": {
      "text/plain": [
       "1256.6370614359173"
      ]
     },
     "execution_count": 21,
     "metadata": {},
     "output_type": "execute_result"
    }
   ],
   "source": [
    "futbolTopu.yAlan()"
   ]
  },
  {
   "cell_type": "code",
   "execution_count": 22,
   "id": "92b8f15f-8ef2-41e3-8aa7-ed0b2b31baaa",
   "metadata": {},
   "outputs": [
    {
     "data": {
      "text/plain": [
       "125000.0"
      ]
     },
     "execution_count": 22,
     "metadata": {},
     "output_type": "execute_result"
    }
   ],
   "source": [
    "koli.hacim()"
   ]
  },
  {
   "cell_type": "code",
   "execution_count": 23,
   "id": "6751e091-531c-459b-b71a-e51b3bb60993",
   "metadata": {},
   "outputs": [
    {
     "name": "stdout",
     "output_type": "stream",
     "text": [
      "622.0353454107791\n"
     ]
    }
   ],
   "source": [
    "print(merdane.yAlan())"
   ]
  },
  {
   "cell_type": "code",
   "execution_count": null,
   "id": "ec860e94-2388-4688-b828-2215913633f6",
   "metadata": {},
   "outputs": [],
   "source": []
  }
 ],
 "metadata": {
  "kernelspec": {
   "display_name": "Python 3 (ipykernel)",
   "language": "python",
   "name": "python3"
  },
  "language_info": {
   "codemirror_mode": {
    "name": "ipython",
    "version": 3
   },
   "file_extension": ".py",
   "mimetype": "text/x-python",
   "name": "python",
   "nbconvert_exporter": "python",
   "pygments_lexer": "ipython3",
   "version": "3.12.5"
  }
 },
 "nbformat": 4,
 "nbformat_minor": 5
}

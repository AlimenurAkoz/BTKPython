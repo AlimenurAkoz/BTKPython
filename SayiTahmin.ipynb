{
 "cells": [
  {
   "cell_type": "code",
   "execution_count": 8,
   "id": "5e4cfd2c-0e64-4f3b-b663-90176abaecbc",
   "metadata": {},
   "outputs": [
    {
     "name": "stdin",
     "output_type": "stream",
     "text": [
      "Tahminizi giriniz:  6\n"
     ]
    },
    {
     "name": "stdout",
     "output_type": "stream",
     "text": [
      "Yanlış Tahmin :(\n",
      "Kalan hakkınız:  4\n"
     ]
    },
    {
     "name": "stdin",
     "output_type": "stream",
     "text": [
      "Tahminizi giriniz:  4\n"
     ]
    },
    {
     "name": "stdout",
     "output_type": "stream",
     "text": [
      "Yanlış Tahmin :(\n",
      "Kalan hakkınız:  3\n"
     ]
    },
    {
     "name": "stdin",
     "output_type": "stream",
     "text": [
      "Tahminizi giriniz:  2\n"
     ]
    },
    {
     "name": "stdout",
     "output_type": "stream",
     "text": [
      "Kazandınız :)\n",
      "Puanınız:  60\n"
     ]
    }
   ],
   "source": [
    "import random\n",
    "sayi=random.randint(1,6)\n",
    "tahmin=int(input(\"Tahminizi giriniz: \"))\n",
    "hak=5\n",
    "puan=100\n",
    "while hak>0:\n",
    "    if sayi==tahmin:\n",
    "    \n",
    "        print(\"Kazandınız :)\")\n",
    "        print(\"Puanınız: \" , puan)\n",
    "        break\n",
    "    else:\n",
    "        hak-=1\n",
    "        puan-=20\n",
    "        if hak==0:\n",
    "            print(\"Hakkınız bitti,kaybettiniz :(\")\n",
    "            break\n",
    "        else:\n",
    "            print(\"Yanlış Tahmin :(\")\n",
    "            print(\"Kalan hakkınız: \", hak)\n",
    "            tahmin=int(input(\"Tahminizi giriniz: \"))\n",
    "            "
   ]
  }
 ],
 "metadata": {
  "kernelspec": {
   "display_name": "Python 3 (ipykernel)",
   "language": "python",
   "name": "python3"
  },
  "language_info": {
   "codemirror_mode": {
    "name": "ipython",
    "version": 3
   },
   "file_extension": ".py",
   "mimetype": "text/x-python",
   "name": "python",
   "nbconvert_exporter": "python",
   "pygments_lexer": "ipython3",
   "version": "3.12.5"
  }
 },
 "nbformat": 4,
 "nbformat_minor": 5
}

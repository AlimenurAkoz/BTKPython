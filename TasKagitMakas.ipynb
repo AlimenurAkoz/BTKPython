{
 "cells": [
  {
   "cell_type": "code",
   "execution_count": 19,
   "id": "02d79560-8a3a-478e-80da-ce5ec31b6ed8",
   "metadata": {},
   "outputs": [
    {
     "name": "stdin",
     "output_type": "stream",
     "text": [
      "[Taş-Kağıt-Makas] kağıt\n"
     ]
    },
    {
     "name": "stdout",
     "output_type": "stream",
     "text": [
      "Bilgisayar Kağıt seçti\n",
      "Sen Kağıt seçtin\n",
      "Berabere\n"
     ]
    }
   ],
   "source": [
    "import random\n",
    "Liste = [\"Taş\", \"Kağıt\",\"Makas\"]\n",
    "pc=random.choice(Liste)\n",
    "player=input('[Taş-Kağıt-Makas]').capitalize()#büyük/küçükharf hassasiyetini kaldırır.\n",
    "\n",
    "if player not in Liste:\n",
    "    print(\"Liste dışı giriş yaptınız...\")\n",
    "else:\n",
    "    print(\"Bilgisayar\", pc, \"seçti\")\n",
    "    print(\"Sen\", player, \"seçtin\")\n",
    "    if pc==player:\n",
    "        print(\"Berabere\")\n",
    "    if pc ==\"Kağıt\" and player==\"Taş\":\n",
    "        print(\"Kaybettin :(\")\n",
    "    if pc ==\"Taş\" and player==\"Makas\":\n",
    "        print(\"Kaybettin :(\")\n",
    "    if pc ==\"Makas\" and player==\"Kağıt\":\n",
    "        print(\"Kaybettin :(\")\n",
    "    if pc ==\"Kağıt\" and player==\"Makas\":\n",
    "        print(\"Kazandın :)\")\n",
    "    if pc ==\"Taş\" and player==\"Kağıt\":\n",
    "        print(\"Kazandın :)\")\n",
    "    if pc ==\"Makas\" and player==\"Taş\":\n",
    "        print(\"Kazandın :)\")\n",
    "    "
   ]
  },
  {
   "cell_type": "code",
   "execution_count": null,
   "id": "e7ed818d-2019-44a1-a051-c8ed49f33533",
   "metadata": {},
   "outputs": [],
   "source": []
  }
 ],
 "metadata": {
  "kernelspec": {
   "display_name": "Python 3 (ipykernel)",
   "language": "python",
   "name": "python3"
  },
  "language_info": {
   "codemirror_mode": {
    "name": "ipython",
    "version": 3
   },
   "file_extension": ".py",
   "mimetype": "text/x-python",
   "name": "python",
   "nbconvert_exporter": "python",
   "pygments_lexer": "ipython3",
   "version": "3.12.5"
  }
 },
 "nbformat": 4,
 "nbformat_minor": 5
}

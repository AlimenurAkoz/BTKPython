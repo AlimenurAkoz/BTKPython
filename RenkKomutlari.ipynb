{
 "cells": [
  {
   "cell_type": "code",
   "execution_count": 1,
   "id": "556c1844-f455-49e9-9045-bef80a69d4e8",
   "metadata": {},
   "outputs": [],
   "source": [
    "from turtle import *\n",
    "color('red', 'blue')\n",
    "pensize(5)\n",
    "def ucgen():\n",
    "    for x in range(3):\n",
    "        forward(200)\n",
    "        left(120)\n",
    "\n",
    "begin_fill()#doldurma kodu\n",
    "ucgen()\n",
    "end_fill()#doldurmayı bitir"
   ]
  },
  {
   "cell_type": "code",
   "execution_count": 1,
   "id": "d73b1540-ef53-486f-b174-9d56591d4fa5",
   "metadata": {},
   "outputs": [],
   "source": [
    "from turtle import *\n",
    "colormode(255)#255 farklı tonda renkleri tonlar,255 maksimum\n",
    "color(255,0,0)#red,green,blue\n",
    "pensize(5)\n",
    "def ucgen():\n",
    "    for x in range(3):\n",
    "        forward(200)\n",
    "        left(120)\n",
    "\n",
    "begin_fill()\n",
    "ucgen()\n",
    "end_fill()"
   ]
  },
  {
   "cell_type": "code",
   "execution_count": 1,
   "id": "8f253d05-cbda-465d-a45e-b71fff06ea50",
   "metadata": {},
   "outputs": [],
   "source": [
    "from turtle import *\n",
    "colormode(255)#255 farklı tonda renkleri tonlar,255 maksimum\n",
    "color(255,0,255)#red,green,blue\n",
    "pensize(5)\n",
    "def ucgen():\n",
    "    for x in range(3):\n",
    "        forward(200)\n",
    "        left(120)\n",
    "\n",
    "begin_fill()\n",
    "ucgen()\n",
    "end_fill()"
   ]
  },
  {
   "cell_type": "code",
   "execution_count": 1,
   "id": "3348498d-91b9-4628-bd9f-0496dab1ac60",
   "metadata": {},
   "outputs": [],
   "source": [
    "from turtle import *\n",
    "colormode(255)#255 farklı tonda renkleri tonlar,255 maksimum\n",
    "color(220,150,50)#red,green,blue\n",
    "pensize(5)\n",
    "def ucgen():\n",
    "    for x in range(3):\n",
    "        forward(200)\n",
    "        left(120)\n",
    "\n",
    "begin_fill()\n",
    "ucgen()\n",
    "end_fill()"
   ]
  },
  {
   "cell_type": "code",
   "execution_count": 1,
   "id": "a803c5c3-50a1-4376-9682-70fbe725fbf2",
   "metadata": {},
   "outputs": [],
   "source": [
    "#ev çizimi\n",
    "from turtle import *\n",
    "colormode(255)\n",
    "color(0,0,0)#siyah\n",
    "pensize(5)\n",
    "def ucgen():\n",
    "    for x in range(3):\n",
    "        forward(200)\n",
    "        left(120)\n",
    "def kare():\n",
    "    for x in range(4):\n",
    "        forward(200)\n",
    "        right(90)\n",
    "begin_fill()\n",
    "fillcolor('orange')\n",
    "ucgen()\n",
    "end_fill()\n",
    "\n",
    "begin_fill()\n",
    "fillcolor(128,128,128)#grinin kodları\n",
    "kare()\n",
    "end_fill()"
   ]
  },
  {
   "cell_type": "code",
   "execution_count": 1,
   "id": "f60fd61b-ef31-48ba-a486-e47fc33ed69a",
   "metadata": {},
   "outputs": [],
   "source": [
    "#daire\n",
    "from turtle import *\n",
    "pensize(10)\n",
    "begin_fill()\n",
    "fillcolor('red')\n",
    "circle(100)#saat yönünün tersinde çizer/-100 saat yönünde çizer\n",
    "end_fill()"
   ]
  },
  {
   "cell_type": "code",
   "execution_count": 1,
   "id": "cdcc25b5-efee-454e-b7d9-d3099f2e72a8",
   "metadata": {},
   "outputs": [],
   "source": [
    "#japon bayrağı\n",
    "from turtle import *\n",
    "pensize(10)\n",
    "shape('blank')\n",
    "for x in range(2):\n",
    "    forward(150)\n",
    "    right(90)\n",
    "    forward(100)\n",
    "    right(90)\n",
    "\n",
    "pencolor('red')\n",
    "\n",
    "penup()#çizim yapmadan hareket etmesini sağlıyor\n",
    "goto(75,-80)\n",
    "pendown()\n",
    "fillcolor('red')\n",
    "begin_fill()\n",
    "circle(30)\n",
    "end_fill()"
   ]
  },
  {
   "cell_type": "code",
   "execution_count": null,
   "id": "87b7d796-f0cd-43f9-9086-40c698dcf7f0",
   "metadata": {},
   "outputs": [],
   "source": []
  }
 ],
 "metadata": {
  "kernelspec": {
   "display_name": "Python 3 (ipykernel)",
   "language": "python",
   "name": "python3"
  },
  "language_info": {
   "codemirror_mode": {
    "name": "ipython",
    "version": 3
   },
   "file_extension": ".py",
   "mimetype": "text/x-python",
   "name": "python",
   "nbconvert_exporter": "python",
   "pygments_lexer": "ipython3",
   "version": "3.12.5"
  }
 },
 "nbformat": 4,
 "nbformat_minor": 5
}

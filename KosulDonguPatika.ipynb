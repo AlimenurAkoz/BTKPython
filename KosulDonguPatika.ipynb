{
 "cells": [
  {
   "cell_type": "code",
   "execution_count": 6,
   "id": "2c5427bd-6ccf-414f-8775-15519f17a7cb",
   "metadata": {},
   "outputs": [
    {
     "name": "stdin",
     "output_type": "stream",
     "text": [
      "Bir sayı girin:  8\n"
     ]
    },
    {
     "name": "stdout",
     "output_type": "stream",
     "text": [
      "Sayınız çift.\n",
      "Program sonlandı.\n"
     ]
    }
   ],
   "source": [
    "#KOŞULLAR\n",
    "x = int(input(\"Bir sayı girin: \"))\n",
    "if x % 2 == 0:\n",
    "    print(\"Sayınız çift.\")\n",
    "\n",
    "print(\"Program sonlandı.\")"
   ]
  },
  {
   "cell_type": "code",
   "execution_count": 8,
   "id": "b7d48d99-3638-4337-b790-f892a0634d9e",
   "metadata": {},
   "outputs": [
    {
     "name": "stdin",
     "output_type": "stream",
     "text": [
      "Bir sayı girin:  5\n"
     ]
    },
    {
     "name": "stdout",
     "output_type": "stream",
     "text": [
      "Program sonlandı.\n"
     ]
    }
   ],
   "source": [
    "y = int(input(\"Bir sayı girin: \"))\n",
    "if y % 2 == 0:\n",
    "    print(\"Sayınız çift.\")\n",
    "\n",
    "print(\"Program sonlandı.\")"
   ]
  },
  {
   "cell_type": "code",
   "execution_count": 10,
   "id": "098135c6-35f4-486f-8f11-b5978a9a4ee8",
   "metadata": {},
   "outputs": [
    {
     "name": "stdin",
     "output_type": "stream",
     "text": [
      "Bir sayı girin:  9\n"
     ]
    },
    {
     "name": "stdout",
     "output_type": "stream",
     "text": [
      "Sayınız TEK.\n",
      "Program sonlandı.\n"
     ]
    }
   ],
   "source": [
    "x = int(input(\"Bir sayı girin: \"))\n",
    "if x % 2 == 0:\n",
    "    print(\"Sayınız ÇİFT.\")\n",
    "else:\n",
    "    print(\"Sayınız TEK.\")\n",
    "print(\"Program sonlandı.\")"
   ]
  },
  {
   "cell_type": "code",
   "execution_count": 12,
   "id": "2f41706f-40b5-4db0-b0bf-625176938cfe",
   "metadata": {},
   "outputs": [
    {
     "name": "stdin",
     "output_type": "stream",
     "text": [
      "0 ile 100 arasında bir sayı girin:  98\n"
     ]
    },
    {
     "name": "stdout",
     "output_type": "stream",
     "text": [
      "Sayınız 50'den büyük.\n",
      "Program sonlandı.\n"
     ]
    }
   ],
   "source": [
    "x = int(input(\"0 ile 100 arasında bir sayı girin: \"))\n",
    "if x > 50:\n",
    "    print(\"Sayınız 50'den büyük.\")\n",
    "elif x < 50:\n",
    "    print(\"Sayınız 50'den küçük.\")\n",
    "else: \n",
    "    print(\"Sayınız 50.\")\n",
    "\n",
    "print(\"Program sonlandı.\")"
   ]
  },
  {
   "cell_type": "code",
   "execution_count": 13,
   "id": "d0d0b6cd-6544-4606-91fa-9d0ac9458e6b",
   "metadata": {},
   "outputs": [
    {
     "name": "stdin",
     "output_type": "stream",
     "text": [
      "0 ile 100 arasında bir sayı girin:  45\n"
     ]
    },
    {
     "name": "stdout",
     "output_type": "stream",
     "text": [
      "Sayınız 50'den küçük.\n",
      "Program sonlandı.\n"
     ]
    }
   ],
   "source": [
    "x = int(input(\"0 ile 100 arasında bir sayı girin: \"))\n",
    "if x > 50:\n",
    "    print(\"Sayınız 50'den büyük.\")\n",
    "elif x < 50:\n",
    "    print(\"Sayınız 50'den küçük.\")\n",
    "else: \n",
    "    print(\"Sayınız 50.\")\n",
    "\n",
    "print(\"Program sonlandı.\")"
   ]
  },
  {
   "cell_type": "code",
   "execution_count": 14,
   "id": "e7cf4cd7-0163-4c22-821b-39e410c53003",
   "metadata": {},
   "outputs": [
    {
     "name": "stdin",
     "output_type": "stream",
     "text": [
      "0 ile 100 arasında bir sayı girin:  50\n"
     ]
    },
    {
     "name": "stdout",
     "output_type": "stream",
     "text": [
      "Sayınız 50.\n",
      "Program sonlandı.\n"
     ]
    }
   ],
   "source": [
    "x = int(input(\"0 ile 100 arasında bir sayı girin: \"))\n",
    "if x > 50:\n",
    "    print(\"Sayınız 50'den büyük.\")\n",
    "elif x < 50:\n",
    "    print(\"Sayınız 50'den küçük.\")\n",
    "else: \n",
    "    print(\"Sayınız 50.\")\n",
    "\n",
    "print(\"Program sonlandı.\")"
   ]
  },
  {
   "cell_type": "code",
   "execution_count": 15,
   "id": "7fb92119-b7c5-4d88-9cfd-42f910c3e3f5",
   "metadata": {},
   "outputs": [
    {
     "name": "stdin",
     "output_type": "stream",
     "text": [
      "0 ile 100 arasında bir sayı girin:  86\n"
     ]
    },
    {
     "name": "stdout",
     "output_type": "stream",
     "text": [
      "80 <= Sayı < 90\n",
      "Program sonlandı.\n"
     ]
    }
   ],
   "source": [
    "x = int(input(\"0 ile 100 arasında bir sayı girin: \"))\n",
    "if x == 100:\n",
    "    print(\"Sayı = 100\")\n",
    "elif x >= 90:\n",
    "    print(\"90 <= Sayı < 100\")\n",
    "elif x >= 80:\n",
    "    print(\"80 <= Sayı < 90\")\n",
    "else: \n",
    "    print(\"Sayı < 80\")\n",
    "\n",
    "print(\"Program sonlandı.\")"
   ]
  },
  {
   "cell_type": "code",
   "execution_count": 16,
   "id": "c25718a1-0a1c-4e44-ade7-378421c14f2c",
   "metadata": {},
   "outputs": [
    {
     "name": "stdin",
     "output_type": "stream",
     "text": [
      "Bir sayı giriniz:  5\n"
     ]
    },
    {
     "name": "stdout",
     "output_type": "stream",
     "text": [
      "Programınız sona ulaştı.\n"
     ]
    }
   ],
   "source": [
    "x = int(input(\"Bir sayı giriniz: \"))\n",
    "if (x % 3 == 0) and (x % 2 == 0):\n",
    "    print(\"Sayı hem 2 'ye hem de 3'e bölünüyor.\")\n",
    "\n",
    "print(\"Programınız sona ulaştı.\")"
   ]
  },
  {
   "cell_type": "code",
   "execution_count": 17,
   "id": "9e1a9c6f-2f48-4a86-b23c-10f455cd483d",
   "metadata": {},
   "outputs": [
    {
     "name": "stdin",
     "output_type": "stream",
     "text": [
      "Bir sayı giriniz:  6\n"
     ]
    },
    {
     "name": "stdout",
     "output_type": "stream",
     "text": [
      "Sayı hem 2 'ye hem de 3'e bölünüyor.\n",
      "Programınız sona ulaştı.\n"
     ]
    }
   ],
   "source": [
    "x = int(input(\"Bir sayı giriniz: \"))\n",
    "if (x % 3 == 0) and (x % 2 == 0):\n",
    "    print(\"Sayı hem 2 'ye hem de 3'e bölünüyor.\")\n",
    "\n",
    "print(\"Programınız sona ulaştı.\")"
   ]
  },
  {
   "cell_type": "code",
   "execution_count": 19,
   "id": "13747290-ed77-45bd-afa9-f062a8a193b0",
   "metadata": {},
   "outputs": [
    {
     "name": "stdin",
     "output_type": "stream",
     "text": [
      "x'in değeri 2 olsun mu? y/n:  N\n"
     ]
    },
    {
     "name": "stdout",
     "output_type": "stream",
     "text": [
      "0\n"
     ]
    }
   ],
   "source": [
    "#TERNARY CONDITIONALS\n",
    "cevap = input(\"x'in değeri 2 olsun mu? y/n: \")\n",
    "if cevap == \"y\":\n",
    "    x = 2\n",
    "else:\n",
    "    x = 0\n",
    "print(x)"
   ]
  },
  {
   "cell_type": "code",
   "execution_count": 22,
   "id": "b5aee36f-b268-4e08-bcf6-988a0562aebc",
   "metadata": {},
   "outputs": [
    {
     "name": "stdin",
     "output_type": "stream",
     "text": [
      "x'in değeri 2 olsun mu? y/n:  n\n"
     ]
    },
    {
     "name": "stdout",
     "output_type": "stream",
     "text": [
      "0\n"
     ]
    }
   ],
   "source": [
    "#Ternary Conditionals ile yukarıdakini tek satırda yapıyoruz.\n",
    "cevap = input(\"x'in değeri 2 olsun mu? y/n: \")\n",
    "x = 2 if cevap == \"y\" else 0\n",
    "print(x)"
   ]
  },
  {
   "cell_type": "code",
   "execution_count": 24,
   "id": "c9b8fd70-c9f9-4cf4-a228-e7a9f0ee8aff",
   "metadata": {},
   "outputs": [
    {
     "name": "stdin",
     "output_type": "stream",
     "text": [
      "x'in değeri 2 olsun mu? y/n:  n\n"
     ]
    },
    {
     "name": "stdout",
     "output_type": "stream",
     "text": [
      "0\n"
     ]
    }
   ],
   "source": [
    "#ya da\n",
    "cevap = input(\"x'in değeri 2 olsun mu? y/n: \")\n",
    "condition = cevap == \"y\"\n",
    "x = 2 if condition else 0\n",
    "print(x)"
   ]
  },
  {
   "cell_type": "code",
   "execution_count": 2,
   "id": "2041431d-8258-4d2e-bdd7-82d057741772",
   "metadata": {},
   "outputs": [
    {
     "name": "stdin",
     "output_type": "stream",
     "text": [
      "Bir sayı girin:  -5\n"
     ]
    },
    {
     "name": "stdout",
     "output_type": "stream",
     "text": [
      "Sayı negatif, lütfen pozitif sayı girin.\n"
     ]
    },
    {
     "name": "stdin",
     "output_type": "stream",
     "text": [
      "Bir sayı girin:  -8\n"
     ]
    },
    {
     "name": "stdout",
     "output_type": "stream",
     "text": [
      "Sayı negatif, lütfen pozitif sayı girin.\n"
     ]
    },
    {
     "name": "stdin",
     "output_type": "stream",
     "text": [
      "Bir sayı girin:  5\n"
     ]
    },
    {
     "name": "stdout",
     "output_type": "stream",
     "text": [
      "Sayınız pozitif ve  5\n"
     ]
    }
   ],
   "source": [
    "#DÖNGÜLER\n",
    "#WHILE\n",
    "x = int(input(\"Bir sayı girin: \"))\n",
    "\n",
    "while x < 0:\n",
    "    print(\"Sayı negatif, lütfen pozitif sayı girin.\")\n",
    "    x = int(input(\"Bir sayı girin: \"))\n",
    "\n",
    "print(\"Sayınız pozitif ve \", x)"
   ]
  },
  {
   "cell_type": "code",
   "execution_count": 3,
   "id": "0fa206cc-59a0-450b-8b0f-5514602f011d",
   "metadata": {},
   "outputs": [
    {
     "name": "stdout",
     "output_type": "stream",
     "text": [
      "0\n",
      "1\n",
      "2\n"
     ]
    }
   ],
   "source": [
    "x = 0\n",
    "while x < 3:\n",
    "    print(x)\n",
    "    x += 1"
   ]
  },
  {
   "cell_type": "code",
   "execution_count": 5,
   "id": "1bbd22ba-f32a-437c-8008-403ddac58a87",
   "metadata": {},
   "outputs": [
    {
     "name": "stdout",
     "output_type": "stream",
     "text": [
      "5050\n"
     ]
    }
   ],
   "source": [
    "toplam = 0\n",
    "x = 0\n",
    "while x <= 100:\n",
    "    toplam += x\n",
    "    x += 1\n",
    "print(toplam)"
   ]
  },
  {
   "cell_type": "code",
   "execution_count": 6,
   "id": "e8ec16a8-c19d-43ae-9796-9a1ae07d6ae7",
   "metadata": {},
   "outputs": [
    {
     "name": "stdout",
     "output_type": "stream",
     "text": [
      "h\n",
      "e\n",
      "y\n"
     ]
    }
   ],
   "source": [
    "#FOR\n",
    "#for <değişken> in <obje>  --> objenin değerlerini değişkene eşitle ve değişken oymuş gibi işlem yap.\n",
    "for c in \"hey\":\n",
    "    print(c)"
   ]
  },
  {
   "cell_type": "code",
   "execution_count": 7,
   "id": "915273b1-8441-43f9-826c-b156ff06dac9",
   "metadata": {},
   "outputs": [
    {
     "name": "stdout",
     "output_type": "stream",
     "text": [
      "5050\n"
     ]
    }
   ],
   "source": [
    "#0 dan 100 e kadar sayıları toplama(100 dahil)\n",
    "toplam = 0\n",
    "for x in range(101):#range--> içinde yazılan sayıya KADAR olan sayıları alır.\n",
    "    toplam += x\n",
    "print(toplam)"
   ]
  },
  {
   "cell_type": "code",
   "execution_count": 8,
   "id": "fa104deb-1513-4c27-ba06-c2ad561d5e98",
   "metadata": {},
   "outputs": [
    {
     "name": "stdout",
     "output_type": "stream",
     "text": [
      "0\n",
      "1\n",
      "2\n",
      "3\n",
      "4\n"
     ]
    }
   ],
   "source": [
    "for x in range(5):\n",
    "    print(x)"
   ]
  },
  {
   "cell_type": "code",
   "execution_count": 10,
   "id": "c26ad4f3-e23e-4a8e-a359-018baed727ca",
   "metadata": {},
   "outputs": [
    {
     "name": "stdout",
     "output_type": "stream",
     "text": [
      "0\n"
     ]
    }
   ],
   "source": [
    "carpim = 1\n",
    "for x in range(5):\n",
    "    carpim *= x\n",
    "\n",
    "print(carpim)"
   ]
  },
  {
   "cell_type": "code",
   "execution_count": 17,
   "id": "84e2725a-3716-43ec-9566-75f491a836b4",
   "metadata": {},
   "outputs": [
    {
     "name": "stdout",
     "output_type": "stream",
     "text": [
      "3125\n"
     ]
    }
   ],
   "source": [
    "carpim = 1\n",
    "for x in range(5):#burada range, for'un kaç kez kullanılacağını gösteriyor.\n",
    "    carpim *= 5\n",
    "\n",
    "print(carpim)"
   ]
  },
  {
   "cell_type": "code",
   "execution_count": 21,
   "id": "7da03517-75df-44fd-b38f-684f7edda60d",
   "metadata": {},
   "outputs": [
    {
     "name": "stdout",
     "output_type": "stream",
     "text": [
      "3125\n"
     ]
    }
   ],
   "source": [
    "\"\"\"üstteki kodda x'i kod içinde kullanmadığımız \n",
    "için işlevi olmadığı için yerine '_' kullanabiliriz.\"\"\"\n",
    "carpim = 1\n",
    "for _ in range(5):\n",
    "    carpim *= 5\n",
    "\n",
    "print(carpim)"
   ]
  },
  {
   "cell_type": "code",
   "execution_count": 22,
   "id": "dd351e58-cceb-4c5a-a27c-df43c4486eb1",
   "metadata": {},
   "outputs": [
    {
     "name": "stdout",
     "output_type": "stream",
     "text": [
      "h\n",
      "e\n",
      "y\n"
     ]
    }
   ],
   "source": [
    "\"\"\"for vs while\n",
    "while yapısında kaç kere iterasyon yapacağımızı bilmiyoruz, for'da eleman\n",
    "sayısı kadar iterasyon var. (break veya continue ile bölünmezse)\n",
    "for döngüsünü while döngüsünü kullanarak yazabiliriz, ama while döngüsünü \n",
    "for kullanarak yazamayız, çünkü for'da test mekanizması yok.\"\"\"\n",
    "\n",
    "s = \"hey\"\n",
    "for c in s:\n",
    "    print(c)"
   ]
  },
  {
   "cell_type": "code",
   "execution_count": 23,
   "id": "0a75c0dc-a80c-484a-929b-5fc03703ff0d",
   "metadata": {},
   "outputs": [
    {
     "name": "stdout",
     "output_type": "stream",
     "text": [
      "h\n",
      "e\n",
      "y\n"
     ]
    }
   ],
   "source": [
    "n = len(s)\n",
    "index = 0\n",
    "\n",
    "while index < n:\n",
    "        print(s[index])\n",
    "        index += 1"
   ]
  },
  {
   "cell_type": "code",
   "execution_count": 1,
   "id": "4e758487-e0bc-449e-bceb-410b1aec272e",
   "metadata": {},
   "outputs": [
    {
     "name": "stdout",
     "output_type": "stream",
     "text": [
      "0\n",
      "1\n",
      "2\n",
      "4\n",
      "5\n",
      "6\n"
     ]
    }
   ],
   "source": [
    "#break -> döngüyü terk eder.\n",
    "#continue -> döngünün sadece o kısmını atlayıp devam eder.\n",
    "for i in range(10):\n",
    "    if i == 3:\n",
    "        continue\n",
    "    if i == 7:\n",
    "        break\n",
    "    print(i)\n"
   ]
  },
  {
   "cell_type": "code",
   "execution_count": 3,
   "id": "c633e552-ee89-411b-9633-a00ec6c10f18",
   "metadata": {},
   "outputs": [
    {
     "name": "stdout",
     "output_type": "stream",
     "text": [
      "0\n",
      "1\n",
      "2\n",
      "4\n",
      "5\n",
      "6\n"
     ]
    }
   ],
   "source": [
    "\"\"\"\n",
    "i=0\n",
    "while(i<10):\n",
    "    if(i==3 or i==5):\n",
    "      continue\n",
    "    print(\"i: \",i)\n",
    "    i=i+1\n",
    "Burada 0 1 2 yazdırdıktan sonra sonsuz döngüye girer\n",
    "çünkü i < 10 koşulu sağlanmaya devam eder.\n",
    "\"\"\"\n",
    "x = 0\n",
    "print(x)\n",
    "while x < 10:\n",
    "    x += 1\n",
    "    if x == 3:\n",
    "        continue\n",
    "    elif x == 7:\n",
    "        break\n",
    "    else:\n",
    "        print(x)\n",
    "    "
   ]
  },
  {
   "cell_type": "code",
   "execution_count": null,
   "id": "f4afa782-47c2-4327-b41d-c7b0d9d6947a",
   "metadata": {},
   "outputs": [],
   "source": []
  }
 ],
 "metadata": {
  "kernelspec": {
   "display_name": "Python 3 (ipykernel)",
   "language": "python",
   "name": "python3"
  },
  "language_info": {
   "codemirror_mode": {
    "name": "ipython",
    "version": 3
   },
   "file_extension": ".py",
   "mimetype": "text/x-python",
   "name": "python",
   "nbconvert_exporter": "python",
   "pygments_lexer": "ipython3",
   "version": "3.12.5"
  }
 },
 "nbformat": 4,
 "nbformat_minor": 5
}

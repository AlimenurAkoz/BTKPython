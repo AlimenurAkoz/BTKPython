{
 "cells": [
  {
   "cell_type": "code",
   "execution_count": 4,
   "id": "1144cbbd-5820-47b9-81c9-d6dfb1825e7b",
   "metadata": {},
   "outputs": [],
   "source": [
    "from turtle import*\n",
    "title(\"Türk Bayrağı\")\n",
    "setup(width=600,height=400)\n",
    "bgcolor(\"red\")\n",
    "\n",
    "def renkKonum(renk,x,y):\n",
    "    penup()\n",
    "    goto(x,y)\n",
    "    pendown()\n",
    "    color(renk)\n",
    "    begin_fill()\n",
    "\n",
    "def yildiz():\n",
    "    renkKonum(\"white\",80,25)\n",
    "    for i in range(5):\n",
    "        forward(50)\n",
    "        right(144)\n",
    "        forward(50)\n",
    "        right(-72)\n",
    "    end_fill()\n",
    "\n",
    "def hilal(cap):\n",
    "    circle(cap)\n",
    "    end_fill()\n",
    "\n",
    "renkKonum(\"white\",-110,-120)\n",
    "hilal(130)\n",
    "renkKonum(\"red\",-70,-90)\n",
    "hilal(100)\n",
    "\n",
    "yildiz()\n",
    "mainloop()#çizim ortamının kaybolmamasını sağlar\n"
   ]
  }
 ],
 "metadata": {
  "kernelspec": {
   "display_name": "Python 3",
   "language": "python",
   "name": "python3"
  },
  "language_info": {
   "codemirror_mode": {
    "name": "ipython",
    "version": 3
   },
   "file_extension": ".py",
   "mimetype": "text/x-python",
   "name": "python",
   "nbconvert_exporter": "python",
   "pygments_lexer": "ipython3",
   "version": "3.12.5"
  }
 },
 "nbformat": 4,
 "nbformat_minor": 5
}

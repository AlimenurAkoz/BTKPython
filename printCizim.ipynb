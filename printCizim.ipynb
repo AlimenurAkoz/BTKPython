{
 "cells": [
  {
   "cell_type": "code",
   "execution_count": 5,
   "id": "40f46f1b-53f8-4cf4-ac3f-8550acedff6d",
   "metadata": {},
   "outputs": [
    {
     "name": "stdout",
     "output_type": "stream",
     "text": [
      " ___\n",
      "/* *\\\n",
      " \\./\n"
     ]
    }
   ],
   "source": [
    "print(\" ___\\n/* *\\\\\\n \\\\./\")"
   ]
  },
  {
   "cell_type": "code",
   "execution_count": 6,
   "id": "416393d5-8255-4a82-9882-a4b4a5ec7af2",
   "metadata": {},
   "outputs": [
    {
     "name": "stdout",
     "output_type": "stream",
     "text": [
      " /\n",
      "/\\/\n",
      "\\/\\\n",
      " \\\n"
     ]
    }
   ],
   "source": [
    "print(\" /\\n/\\\\/\\n\\\\/\\\\\\n \\\\\")"
   ]
  },
  {
   "cell_type": "code",
   "execution_count": 7,
   "id": "9c707ad1-a79d-4358-85f6-9d3b7018a241",
   "metadata": {},
   "outputs": [
    {
     "name": "stdout",
     "output_type": "stream",
     "text": [
      " /_|\n",
      "(`_)<|\n",
      " \\_|\n"
     ]
    }
   ],
   "source": [
    "print(\" /_|\\n(`_)<|\\n \\\\_|\")"
   ]
  },
  {
   "cell_type": "code",
   "execution_count": null,
   "id": "f401a2eb-3100-47a4-b7ed-a81878366212",
   "metadata": {},
   "outputs": [],
   "source": []
  }
 ],
 "metadata": {
  "kernelspec": {
   "display_name": "Python 3 (ipykernel)",
   "language": "python",
   "name": "python3"
  },
  "language_info": {
   "codemirror_mode": {
    "name": "ipython",
    "version": 3
   },
   "file_extension": ".py",
   "mimetype": "text/x-python",
   "name": "python",
   "nbconvert_exporter": "python",
   "pygments_lexer": "ipython3",
   "version": "3.12.5"
  }
 },
 "nbformat": 4,
 "nbformat_minor": 5
}

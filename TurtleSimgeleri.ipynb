{
 "cells": [
  {
   "cell_type": "code",
   "execution_count": 17,
   "id": "95e56835-eb98-4343-ac41-57afa70b8a53",
   "metadata": {},
   "outputs": [
    {
     "name": "stdout",
     "output_type": "stream",
     "text": [
      "['arrow', 'blank', 'circle', 'classic', 'square', 'triangle', 'turtle']\n"
     ]
    }
   ],
   "source": [
    "import turtle\n",
    "print(turtle.getshapes())"
   ]
  },
  {
   "cell_type": "code",
   "execution_count": 18,
   "id": "a16b93c9-06c9-483a-b12a-6fc7ea49eea1",
   "metadata": {},
   "outputs": [],
   "source": [
    "turtle.shape('turtle')#simgeyi değiştirir"
   ]
  },
  {
   "cell_type": "code",
   "execution_count": 19,
   "id": "5212d3ec-919c-4287-8bb6-c0d9dbd48cad",
   "metadata": {},
   "outputs": [],
   "source": [
    "turtle.hideturtle()#simgeyi kaybeder"
   ]
  },
  {
   "cell_type": "code",
   "execution_count": 20,
   "id": "e1f364aa-3979-49cf-bb80-d1422252a096",
   "metadata": {},
   "outputs": [],
   "source": [
    "turtle.rt(90)\n",
    "turtle.fd(100)\n",
    "turtle.showturtle()"
   ]
  }
 ],
 "metadata": {
  "kernelspec": {
   "display_name": "Python 3 (ipykernel)",
   "language": "python",
   "name": "python3"
  },
  "language_info": {
   "codemirror_mode": {
    "name": "ipython",
    "version": 3
   },
   "file_extension": ".py",
   "mimetype": "text/x-python",
   "name": "python",
   "nbconvert_exporter": "python",
   "pygments_lexer": "ipython3",
   "version": "3.12.5"
  }
 },
 "nbformat": 4,
 "nbformat_minor": 5
}

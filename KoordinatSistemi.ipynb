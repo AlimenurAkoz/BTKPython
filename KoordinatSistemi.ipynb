{
 "cells": [
  {
   "cell_type": "code",
   "execution_count": 13,
   "id": "529eaaf6-4f95-4b56-b827-ef9458ddf885",
   "metadata": {},
   "outputs": [
    {
     "data": {
      "text/plain": [
       "(0.00,0.00)"
      ]
     },
     "execution_count": 13,
     "metadata": {},
     "output_type": "execute_result"
    }
   ],
   "source": [
    "import turtle\n",
    "turtle.position()"
   ]
  },
  {
   "cell_type": "code",
   "execution_count": 14,
   "id": "436e1ac4-91f6-46aa-8e2f-74d440d5dcbb",
   "metadata": {},
   "outputs": [
    {
     "data": {
      "text/plain": [
       "(0.00,0.00)"
      ]
     },
     "execution_count": 14,
     "metadata": {},
     "output_type": "execute_result"
    }
   ],
   "source": [
    "turtle.pos()"
   ]
  },
  {
   "cell_type": "code",
   "execution_count": 15,
   "id": "5e268180-75bf-4b7a-9d71-e0b65151f42e",
   "metadata": {},
   "outputs": [
    {
     "data": {
      "text/plain": [
       "(100.00,100.00)"
      ]
     },
     "execution_count": 15,
     "metadata": {},
     "output_type": "execute_result"
    }
   ],
   "source": [
    "turtle.goto(100,100)#herhangi bir yere konumlandırır\n",
    "turtle.pos()"
   ]
  },
  {
   "cell_type": "code",
   "execution_count": 16,
   "id": "7d3ce96e-18ad-4145-8ede-771d9320bd84",
   "metadata": {},
   "outputs": [
    {
     "data": {
      "text/plain": [
       "(-50.00,-50.00)"
      ]
     },
     "execution_count": 16,
     "metadata": {},
     "output_type": "execute_result"
    }
   ],
   "source": [
    "turtle.setposition(-50,-50)\n",
    "turtle.pos()"
   ]
  },
  {
   "cell_type": "code",
   "execution_count": 17,
   "id": "8b0a10af-1312-40b5-b3d2-2eb1d1eaaaf2",
   "metadata": {},
   "outputs": [
    {
     "data": {
      "text/plain": [
       "(0.00,0.00)"
      ]
     },
     "execution_count": 17,
     "metadata": {},
     "output_type": "execute_result"
    }
   ],
   "source": [
    "turtle.setpos(0,0)\n",
    "turtle.pos()"
   ]
  },
  {
   "cell_type": "code",
   "execution_count": 18,
   "id": "8c0552c5-2683-482c-850e-c6ea6de156a2",
   "metadata": {},
   "outputs": [],
   "source": [
    "turtle.reset()#ilk haline getirir"
   ]
  },
  {
   "cell_type": "code",
   "execution_count": 19,
   "id": "7d886684-d33a-4636-81fc-a41344f1e47b",
   "metadata": {},
   "outputs": [],
   "source": [
    "turtle.home()#bu da ilk haline getirir"
   ]
  },
  {
   "cell_type": "code",
   "execution_count": 20,
   "id": "fb6bc0dd-4ad4-4d1c-a427-406d36036e50",
   "metadata": {},
   "outputs": [],
   "source": [
    "turtle.setpos(0,100)\n",
    "turtle.goto(-200,200)\n",
    "turtle.home()"
   ]
  },
  {
   "cell_type": "code",
   "execution_count": 21,
   "id": "296d7925-db79-4b12-9bc9-9a5a42fdb658",
   "metadata": {},
   "outputs": [
    {
     "data": {
      "text/plain": [
       "(200.00,200.00)"
      ]
     },
     "execution_count": 21,
     "metadata": {},
     "output_type": "execute_result"
    }
   ],
   "source": [
    "turtle.setx(200)\n",
    "turtle.sety(200)\n",
    "turtle.pos()"
   ]
  },
  {
   "cell_type": "code",
   "execution_count": null,
   "id": "0da211e0-661b-4d97-b0be-f6c520f6e2c7",
   "metadata": {},
   "outputs": [],
   "source": []
  }
 ],
 "metadata": {
  "kernelspec": {
   "display_name": "Python 3 (ipykernel)",
   "language": "python",
   "name": "python3"
  },
  "language_info": {
   "codemirror_mode": {
    "name": "ipython",
    "version": 3
   },
   "file_extension": ".py",
   "mimetype": "text/x-python",
   "name": "python",
   "nbconvert_exporter": "python",
   "pygments_lexer": "ipython3",
   "version": "3.12.5"
  }
 },
 "nbformat": 4,
 "nbformat_minor": 5
}

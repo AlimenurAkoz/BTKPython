{
 "cells": [
  {
   "cell_type": "code",
   "execution_count": 3,
   "id": "2012659f-5844-41b6-92de-59d4b30942c3",
   "metadata": {},
   "outputs": [
    {
     "name": "stdin",
     "output_type": "stream",
     "text": [
      "Sayıyı tahmin et 25\n"
     ]
    },
    {
     "name": "stdout",
     "output_type": "stream",
     "text": [
      "doğru bildiniz. \n"
     ]
    }
   ],
   "source": [
    "a = 25\n",
    "b = int(input(\"Sayıyı tahmin et\"))\n",
    "if a == b:\n",
    "    print(\"doğru bildiniz. \")\n",
    "else:\n",
    "    print(\"Tekrar deneyin.\")"
   ]
  },
  {
   "cell_type": "code",
   "execution_count": 8,
   "id": "971be31f-f113-44d4-abc1-357020c9e2f7",
   "metadata": {},
   "outputs": [
    {
     "name": "stdin",
     "output_type": "stream",
     "text": [
      "Notunuzu giriniz:  49.5\n"
     ]
    },
    {
     "name": "stdout",
     "output_type": "stream",
     "text": [
      "başarısız\n"
     ]
    }
   ],
   "source": [
    "Not = float(input(\"Notunuzu giriniz: \"))\n",
    "if Not>=50:\n",
    "    print(\"başarılı\")\n",
    "else:\n",
    "    print(\"başarısız\")"
   ]
  },
  {
   "cell_type": "code",
   "execution_count": 13,
   "id": "288c36b6-f466-4fdb-b0e8-01eff45dcaae",
   "metadata": {},
   "outputs": [
    {
     "name": "stdin",
     "output_type": "stream",
     "text": [
      "Kulanıcı adını girin:  admin\n",
      "Şifreyi girin:  123\n"
     ]
    },
    {
     "name": "stdout",
     "output_type": "stream",
     "text": [
      "Hoşgeldiniz...\n"
     ]
    }
   ],
   "source": [
    "user=input(\"Kulanıcı adını girin: \")\n",
    "password=input(\"Şifreyi girin: \")\n",
    "if (user == \"admin\")and(password==\"123\"):\n",
    "    print(\"Hoşgeldiniz...\")\n",
    "else:\n",
    "    print(\"Yetkisiz giriş!\")"
   ]
  },
  {
   "cell_type": "code",
   "execution_count": 16,
   "id": "572976f9-61e8-4ba3-abb0-049fe085a59d",
   "metadata": {},
   "outputs": [
    {
     "name": "stdin",
     "output_type": "stream",
     "text": [
      "Sayı giriniz:  0\n"
     ]
    },
    {
     "name": "stdout",
     "output_type": "stream",
     "text": [
      "Sayı çifttir.\n"
     ]
    }
   ],
   "source": [
    "#tek mi çift mi\n",
    "sayi = int(input(\"Sayı giriniz: \"))\n",
    "if sayi % 2 == 0:\n",
    "    print(\"Sayı çifttir.\")\n",
    "else:\n",
    "    print(\"Sayı tektir.\")"
   ]
  },
  {
   "cell_type": "code",
   "execution_count": null,
   "id": "c9a042d7-a5b5-4013-9119-bf70d0f5bb55",
   "metadata": {},
   "outputs": [],
   "source": []
  }
 ],
 "metadata": {
  "kernelspec": {
   "display_name": "Python 3 (ipykernel)",
   "language": "python",
   "name": "python3"
  },
  "language_info": {
   "codemirror_mode": {
    "name": "ipython",
    "version": 3
   },
   "file_extension": ".py",
   "mimetype": "text/x-python",
   "name": "python",
   "nbconvert_exporter": "python",
   "pygments_lexer": "ipython3",
   "version": "3.12.5"
  }
 },
 "nbformat": 4,
 "nbformat_minor": 5
}

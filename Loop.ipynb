{
 "cells": [
  {
   "cell_type": "code",
   "execution_count": 1,
   "id": "7819c10d-48ee-4cc4-982f-40e80ce9aa18",
   "metadata": {},
   "outputs": [
    {
     "name": "stdout",
     "output_type": "stream",
     "text": [
      "['ali', 'can', 'ahmet']\n"
     ]
    }
   ],
   "source": [
    "liste=[\"ali\", \"can\", \"ahmet\"]\n",
    "print(liste)"
   ]
  },
  {
   "cell_type": "code",
   "execution_count": 2,
   "id": "8069061e-a38c-4240-ac99-87fbf2dedb24",
   "metadata": {},
   "outputs": [
    {
     "name": "stdout",
     "output_type": "stream",
     "text": [
      "ali\n"
     ]
    }
   ],
   "source": [
    "print(liste[0])"
   ]
  },
  {
   "cell_type": "code",
   "execution_count": 3,
   "id": "fd5c01ac-9223-42e2-930e-df38cb0f8d12",
   "metadata": {},
   "outputs": [
    {
     "name": "stdout",
     "output_type": "stream",
     "text": [
      "[1, 2, 3, 4, 5]\n"
     ]
    }
   ],
   "source": [
    "liste2=[1,2,3,4,5]\n",
    "print(liste2)"
   ]
  },
  {
   "cell_type": "code",
   "execution_count": 4,
   "id": "7cd74ad7-74f9-4240-970a-e3f26f9f6b22",
   "metadata": {},
   "outputs": [
    {
     "name": "stdout",
     "output_type": "stream",
     "text": [
      "python\n"
     ]
    }
   ],
   "source": [
    "liste3=\"python\"\n",
    "print(liste3)"
   ]
  },
  {
   "cell_type": "code",
   "execution_count": 5,
   "id": "1971f623-f5d9-4500-8a11-9a61cf1a6e2f",
   "metadata": {},
   "outputs": [
    {
     "name": "stdout",
     "output_type": "stream",
     "text": [
      "True\n"
     ]
    }
   ],
   "source": [
    "#listenin içinde eleman varlığı kontrolü\n",
    "print(\"ali\" in liste)"
   ]
  },
  {
   "cell_type": "code",
   "execution_count": 6,
   "id": "c89f6378-e310-4c67-8f82-37134d601607",
   "metadata": {},
   "outputs": [
    {
     "name": "stdout",
     "output_type": "stream",
     "text": [
      "False\n"
     ]
    }
   ],
   "source": [
    "print(\"mehmet\" in liste)"
   ]
  },
  {
   "cell_type": "code",
   "execution_count": 7,
   "id": "50b081f5-c671-493e-9be3-2e6cdd45bc57",
   "metadata": {},
   "outputs": [
    {
     "name": "stdout",
     "output_type": "stream",
     "text": [
      "True\n"
     ]
    }
   ],
   "source": [
    "print(\"mehmet\" not in liste)"
   ]
  },
  {
   "cell_type": "code",
   "execution_count": 8,
   "id": "e09116f5-9f57-433d-ab99-021703368a4e",
   "metadata": {},
   "outputs": [
    {
     "name": "stdout",
     "output_type": "stream",
     "text": [
      "False\n"
     ]
    }
   ],
   "source": [
    "print(\"ali\" not in liste)"
   ]
  },
  {
   "cell_type": "code",
   "execution_count": 13,
   "id": "1d161f7e-61aa-4ec5-87c8-98dba5b72b4d",
   "metadata": {},
   "outputs": [
    {
     "name": "stdin",
     "output_type": "stream",
     "text": [
      "İsminizi giriniz:  Ali\n"
     ]
    },
    {
     "name": "stdout",
     "output_type": "stream",
     "text": [
      "5 Numaralı masada rezervasyonunuz var.\n"
     ]
    }
   ],
   "source": [
    "#rezervasyon listesi\n",
    "masaNo = 0\n",
    "liste4=['Ali','Can','Miray','Zeynep']\n",
    "liste5=['Bahar','Talat']\n",
    "isim=input(\"İsminizi giriniz: \")\n",
    "if isim == 'Ali':\n",
    "    masaNo = 5\n",
    "if isim == 'Can':\n",
    "    masaNo = 7\n",
    "if isim == 'Miray':\n",
    "    masaNo = 2\n",
    "if isim == 'Zeynep':\n",
    "    masaNo = 10\n",
    "if isim in liste4:\n",
    "    print(masaNo, \"Numaralı masada rezervasyonunuz var.\")\n",
    "elif isim in liste5:\n",
    "    print(\"Rezervasyonunuz bu akşam değil.\")\n",
    "elif isim not in liste4 and isim not in liste5:\n",
    "    print(\"Rezervasyonunuz yok.\")"
   ]
  },
  {
   "cell_type": "code",
   "execution_count": 18,
   "id": "883ef57f-a35f-400c-9a1e-9a6ec47e9e3f",
   "metadata": {},
   "outputs": [
    {
     "data": {
      "text/plain": [
       "range(0, 6)"
      ]
     },
     "execution_count": 18,
     "metadata": {},
     "output_type": "execute_result"
    }
   ],
   "source": [
    "#range\n",
    "range(0,5) #0,1,2,3,4\n",
    "range(6,11) #6,7,8,9,10\n",
    "range(11,5)  #11,10,9,8,7,6\n",
    "range(1,10,2)  #1,3,5,7,9\n",
    "range(15,3,-4)  #15,11,7\n",
    "range(6)  #0,1,2,3,4,5"
   ]
  },
  {
   "cell_type": "code",
   "execution_count": 19,
   "id": "70520980-66ef-4d83-a52a-bbc323c6265c",
   "metadata": {},
   "outputs": [
    {
     "name": "stdout",
     "output_type": "stream",
     "text": [
      "0\n",
      "1\n",
      "2\n",
      "3\n",
      "4\n"
     ]
    }
   ],
   "source": [
    "for a in range(0,5):\n",
    "    print(a)"
   ]
  },
  {
   "cell_type": "code",
   "execution_count": 21,
   "id": "f7214f5e-ad7c-4c41-8a8f-6989fcdc3004",
   "metadata": {},
   "outputs": [
    {
     "name": "stdout",
     "output_type": "stream",
     "text": [
      "0\n",
      "1\n",
      "2\n",
      "3\n",
      "4\n"
     ]
    }
   ],
   "source": [
    "for a in [0,1,2,3,4]:\n",
    "    print(a)"
   ]
  },
  {
   "cell_type": "code",
   "execution_count": 22,
   "id": "c758fb8f-f441-4c96-a7c4-ec5a3e030acf",
   "metadata": {},
   "outputs": [
    {
     "name": "stdout",
     "output_type": "stream",
     "text": [
      "1\n",
      "3\n",
      "5\n",
      "7\n",
      "9\n"
     ]
    }
   ],
   "source": [
    "for a in range(1,10,2):\n",
    "    print(a)"
   ]
  },
  {
   "cell_type": "code",
   "execution_count": 24,
   "id": "25107bea-130e-449a-affd-86907c32577f",
   "metadata": {},
   "outputs": [
    {
     "name": "stdout",
     "output_type": "stream",
     "text": [
      "1\n",
      "3\n",
      "5\n",
      "7\n",
      "9\n",
      "11\n",
      "13\n",
      "15\n",
      "17\n",
      "19\n",
      "21\n",
      "23\n",
      "25\n",
      "27\n",
      "29\n"
     ]
    }
   ],
   "source": [
    "#FOR DÖNGÜSÜ\n",
    "#1 den 30 a kadar tek sayıları yazdırma\n",
    "for x in range(1,30):\n",
    "    if (x%2 != 0):\n",
    "        print(x)"
   ]
  },
  {
   "cell_type": "code",
   "execution_count": 26,
   "id": "92aaa737-95ad-4aa2-ba6b-a1e1c16a6d49",
   "metadata": {},
   "outputs": [
    {
     "name": "stdout",
     "output_type": "stream",
     "text": [
      "Çıkış için sıfıra bas\n"
     ]
    },
    {
     "name": "stdin",
     "output_type": "stream",
     "text": [
      "Sayı giriniz: 5\n"
     ]
    },
    {
     "name": "stdout",
     "output_type": "stream",
     "text": [
      "25\n"
     ]
    },
    {
     "name": "stdin",
     "output_type": "stream",
     "text": [
      "Sayı giriniz: 2\n"
     ]
    },
    {
     "name": "stdout",
     "output_type": "stream",
     "text": [
      "4\n"
     ]
    },
    {
     "name": "stdin",
     "output_type": "stream",
     "text": [
      "Sayı giriniz: 0\n"
     ]
    },
    {
     "name": "stdout",
     "output_type": "stream",
     "text": [
      "0\n"
     ]
    }
   ],
   "source": [
    "#WHILE DÖNGÜSÜ\n",
    "#Girilen sayı 0dan farklı olduğu sürece girilen sayının karesini al\n",
    "A = 1\n",
    "print(\"Çıkış için sıfıra bas\")\n",
    "while (A!=0):\n",
    "    A = int(input(\"Sayı giriniz:\"))\n",
    "    print(A*A)"
   ]
  },
  {
   "cell_type": "code",
   "execution_count": 2,
   "id": "b45d37b1-3757-4ce3-a876-38449ab15ba6",
   "metadata": {},
   "outputs": [
    {
     "name": "stdout",
     "output_type": "stream",
     "text": [
      "Çıkmak için sıfır girin.\n"
     ]
    },
    {
     "name": "stdin",
     "output_type": "stream",
     "text": [
      "Bir sayı girin: 5\n"
     ]
    },
    {
     "name": "stdout",
     "output_type": "stream",
     "text": [
      "Karesi= 25\n"
     ]
    },
    {
     "name": "stdin",
     "output_type": "stream",
     "text": [
      "Bir sayı girin: 4\n"
     ]
    },
    {
     "name": "stdout",
     "output_type": "stream",
     "text": [
      "Karesi= 16\n"
     ]
    },
    {
     "name": "stdin",
     "output_type": "stream",
     "text": [
      "Bir sayı girin: 0\n"
     ]
    },
    {
     "name": "stdout",
     "output_type": "stream",
     "text": [
      "Karesi= 0\n"
     ]
    }
   ],
   "source": [
    "#break komutu\n",
    "print(\"Çıkmak için sıfır girin.\")\n",
    "while True:\n",
    "    D=int(input(\"Bir sayı girin:\"))\n",
    "    print(\"Karesi=\", D*D)\n",
    "    if(D==0):\n",
    "        break #döngüden çık"
   ]
  },
  {
   "cell_type": "code",
   "execution_count": 5,
   "id": "14a6db3a-f9f6-4a03-8cbc-250ce21dd03b",
   "metadata": {},
   "outputs": [
    {
     "name": "stdout",
     "output_type": "stream",
     "text": [
      "1 2 3 4 5 6 8 9 10 11 12 13 15 16 17 18 19 20 22 23 24 25 26 27 29 30 31 32 33 34 36 37 38 39 40 41 43 44 45 46 47 48 50 51 52 53 54 55 57 58 59 60 61 62 64 65 66 67 68 69 71 72 73 74 75 76 78 79 80 81 82 83 85 86 87 88 89 90 92 93 94 95 96 97 99 "
     ]
    }
   ],
   "source": [
    "#continue komutu\n",
    "#0dan 100e kadar sayıları 7 ve 7nin katları olmadan yazdırma\n",
    "for A in range(100):\n",
    "    if(A%7==0):\n",
    "        continue #devam et komutu\n",
    "    print(A, end=\" \")#end yan yana yazdırmayı sağlıyor"
   ]
  },
  {
   "cell_type": "code",
   "execution_count": 6,
   "id": "67ae2541-155d-4932-95eb-3bc33dc44b99",
   "metadata": {},
   "outputs": [
    {
     "name": "stdout",
     "output_type": "stream",
     "text": [
      "1 * 1 = 1\n",
      "1 * 2 = 2\n",
      "1 * 3 = 3\n",
      "1 * 4 = 4\n",
      "1 * 5 = 5\n",
      "1 * 6 = 6\n",
      "1 * 7 = 7\n",
      "1 * 8 = 8\n",
      "1 * 9 = 9\n",
      "1 * 10 = 10\n",
      "\n",
      "\n",
      "2 * 1 = 2\n",
      "2 * 2 = 4\n",
      "2 * 3 = 6\n",
      "2 * 4 = 8\n",
      "2 * 5 = 10\n",
      "2 * 6 = 12\n",
      "2 * 7 = 14\n",
      "2 * 8 = 16\n",
      "2 * 9 = 18\n",
      "2 * 10 = 20\n",
      "\n",
      "\n",
      "3 * 1 = 3\n",
      "3 * 2 = 6\n",
      "3 * 3 = 9\n",
      "3 * 4 = 12\n",
      "3 * 5 = 15\n",
      "3 * 6 = 18\n",
      "3 * 7 = 21\n",
      "3 * 8 = 24\n",
      "3 * 9 = 27\n",
      "3 * 10 = 30\n",
      "\n",
      "\n",
      "4 * 1 = 4\n",
      "4 * 2 = 8\n",
      "4 * 3 = 12\n",
      "4 * 4 = 16\n",
      "4 * 5 = 20\n",
      "4 * 6 = 24\n",
      "4 * 7 = 28\n",
      "4 * 8 = 32\n",
      "4 * 9 = 36\n",
      "4 * 10 = 40\n",
      "\n",
      "\n",
      "5 * 1 = 5\n",
      "5 * 2 = 10\n",
      "5 * 3 = 15\n",
      "5 * 4 = 20\n",
      "5 * 5 = 25\n",
      "5 * 6 = 30\n",
      "5 * 7 = 35\n",
      "5 * 8 = 40\n",
      "5 * 9 = 45\n",
      "5 * 10 = 50\n",
      "\n",
      "\n",
      "6 * 1 = 6\n",
      "6 * 2 = 12\n",
      "6 * 3 = 18\n",
      "6 * 4 = 24\n",
      "6 * 5 = 30\n",
      "6 * 6 = 36\n",
      "6 * 7 = 42\n",
      "6 * 8 = 48\n",
      "6 * 9 = 54\n",
      "6 * 10 = 60\n",
      "\n",
      "\n",
      "7 * 1 = 7\n",
      "7 * 2 = 14\n",
      "7 * 3 = 21\n",
      "7 * 4 = 28\n",
      "7 * 5 = 35\n",
      "7 * 6 = 42\n",
      "7 * 7 = 49\n",
      "7 * 8 = 56\n",
      "7 * 9 = 63\n",
      "7 * 10 = 70\n",
      "\n",
      "\n",
      "8 * 1 = 8\n",
      "8 * 2 = 16\n",
      "8 * 3 = 24\n",
      "8 * 4 = 32\n",
      "8 * 5 = 40\n",
      "8 * 6 = 48\n",
      "8 * 7 = 56\n",
      "8 * 8 = 64\n",
      "8 * 9 = 72\n",
      "8 * 10 = 80\n",
      "\n",
      "\n",
      "9 * 1 = 9\n",
      "9 * 2 = 18\n",
      "9 * 3 = 27\n",
      "9 * 4 = 36\n",
      "9 * 5 = 45\n",
      "9 * 6 = 54\n",
      "9 * 7 = 63\n",
      "9 * 8 = 72\n",
      "9 * 9 = 81\n",
      "9 * 10 = 90\n",
      "\n",
      "\n",
      "10 * 1 = 10\n",
      "10 * 2 = 20\n",
      "10 * 3 = 30\n",
      "10 * 4 = 40\n",
      "10 * 5 = 50\n",
      "10 * 6 = 60\n",
      "10 * 7 = 70\n",
      "10 * 8 = 80\n",
      "10 * 9 = 90\n",
      "10 * 10 = 100\n",
      "\n",
      "\n"
     ]
    }
   ],
   "source": [
    "#Çarpım Tablosu\n",
    "for A in range(1,11):\n",
    "    for B in range(1,11):\n",
    "        print(A,\"*\",B, \"=\",A*B)\n",
    "    print(\"\\n\")    "
   ]
  },
  {
   "cell_type": "code",
   "execution_count": null,
   "id": "2e611c89-7e07-4d9f-9633-5a6563fd46d5",
   "metadata": {},
   "outputs": [],
   "source": []
  }
 ],
 "metadata": {
  "kernelspec": {
   "display_name": "Python 3 (ipykernel)",
   "language": "python",
   "name": "python3"
  },
  "language_info": {
   "codemirror_mode": {
    "name": "ipython",
    "version": 3
   },
   "file_extension": ".py",
   "mimetype": "text/x-python",
   "name": "python",
   "nbconvert_exporter": "python",
   "pygments_lexer": "ipython3",
   "version": "3.12.5"
  }
 },
 "nbformat": 4,
 "nbformat_minor": 5
}

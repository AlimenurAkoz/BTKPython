{
 "cells": [
  {
   "cell_type": "code",
   "execution_count": 2,
   "id": "2aad87d9-4228-4537-9b2a-5e76f66b0982",
   "metadata": {},
   "outputs": [
    {
     "name": "stdin",
     "output_type": "stream",
     "text": [
      "Yarıçapı gir:  4\n"
     ]
    },
    {
     "name": "stdout",
     "output_type": "stream",
     "text": [
      "Kürenin hacmi:  268.082573106329 m^3\n",
      "Kürenin alanı:  201.06192982974676 m^2\n"
     ]
    }
   ],
   "source": [
    "import math\n",
    "r = int(input(\"Yarıçapı metre cinsinden gir: \"))\n",
    "Hacim = (4/3)*math.pi*pow(r,3)\n",
    "Alan = 4*math.pi*pow(r,2)\n",
    "print(\"Kürenin hacmi: \", Hacim, \"m^3\")\n",
    "print(\"Kürenin alanı: \", Alan, \"m^2\")"
   ]
  },
  {
   "cell_type": "code",
   "execution_count": null,
   "id": "db2da1b3-b4cf-4682-ac02-a030b13cfd11",
   "metadata": {},
   "outputs": [],
   "source": []
  }
 ],
 "metadata": {
  "kernelspec": {
   "display_name": "Python 3 (ipykernel)",
   "language": "python",
   "name": "python3"
  },
  "language_info": {
   "codemirror_mode": {
    "name": "ipython",
    "version": 3
   },
   "file_extension": ".py",
   "mimetype": "text/x-python",
   "name": "python",
   "nbconvert_exporter": "python",
   "pygments_lexer": "ipython3",
   "version": "3.12.5"
  }
 },
 "nbformat": 4,
 "nbformat_minor": 5
}

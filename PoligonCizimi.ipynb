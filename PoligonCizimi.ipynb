{
 "cells": [
  {
   "cell_type": "code",
   "execution_count": 1,
   "id": "2c2a31d4-6547-439d-913f-0ccc8855d1c0",
   "metadata": {},
   "outputs": [
    {
     "name": "stdin",
     "output_type": "stream",
     "text": [
      "Köşe sayısı giriniz:  5\n"
     ]
    }
   ],
   "source": [
    "from turtle import *\n",
    "N=int(input(\"Köşe sayısı giriniz: \"))\n",
    "aci=360/N\n",
    "pensize(2)\n",
    "for x in range(N):\n",
    "    forward(100)\n",
    "    left(aci)\n"
   ]
  },
  {
   "cell_type": "code",
   "execution_count": 1,
   "id": "0b0307b4-44ba-499c-abdc-d4102ec9243b",
   "metadata": {},
   "outputs": [],
   "source": [
    "from turtle import *\n",
    "pensize(5)\n",
    "circle(50,360,5)#beşgen yapar"
   ]
  },
  {
   "cell_type": "code",
   "execution_count": null,
   "id": "78840a9e-a282-4711-bc3a-90320a344644",
   "metadata": {},
   "outputs": [],
   "source": []
  }
 ],
 "metadata": {
  "kernelspec": {
   "display_name": "Python 3 (ipykernel)",
   "language": "python",
   "name": "python3"
  },
  "language_info": {
   "codemirror_mode": {
    "name": "ipython",
    "version": 3
   },
   "file_extension": ".py",
   "mimetype": "text/x-python",
   "name": "python",
   "nbconvert_exporter": "python",
   "pygments_lexer": "ipython3",
   "version": "3.12.5"
  }
 },
 "nbformat": 4,
 "nbformat_minor": 5
}

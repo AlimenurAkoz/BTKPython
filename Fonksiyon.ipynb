{
 "cells": [
  {
   "cell_type": "code",
   "execution_count": 2,
   "id": "2bd24803-d8d9-4ed8-8380-88e28c3bff90",
   "metadata": {},
   "outputs": [
    {
     "name": "stdout",
     "output_type": "stream",
     "text": [
      "Toplama iki veya daha fazla sayının toplanmasıdır.\n",
      "örneğin 5 + 7 = 13\n"
     ]
    }
   ],
   "source": [
    "#FONKSİYONLAR\n",
    "def topla():\n",
    "    print(\"Toplama iki veya daha fazla sayının toplanmasıdır.\")\n",
    "    print(\"örneğin\",5, \"+\", 7,\"=\",13)\n",
    "\n",
    "topla()"
   ]
  },
  {
   "cell_type": "code",
   "execution_count": 4,
   "id": "00d522db-659f-4e64-a1c2-f562f59b5b60",
   "metadata": {},
   "outputs": [
    {
     "name": "stdin",
     "output_type": "stream",
     "text": [
      "İsminiz nedir? Alimenur\n"
     ]
    },
    {
     "name": "stdout",
     "output_type": "stream",
     "text": [
      "Sayın Alimenur restoranımıza hoşgeldiniz!\n"
     ]
    }
   ],
   "source": [
    "#Fonksiyon Parametreleri\n",
    "def selamlama(isim):\n",
    "    print(\"Sayın\", isim, \"restoranımıza hoşgeldiniz!\")\n",
    "        \n",
    "Ad = input(\"İsminiz nedir?\")\n",
    "selamlama(Ad)"
   ]
  },
  {
   "cell_type": "code",
   "execution_count": 5,
   "id": "b2084056-ec41-4fea-8b66-9b189fe1f3f8",
   "metadata": {},
   "outputs": [
    {
     "name": "stdin",
     "output_type": "stream",
     "text": [
      "İsminiz nedir? Alimenur\n"
     ]
    },
    {
     "name": "stdout",
     "output_type": "stream",
     "text": [
      "Sayın Alimenur restoranımıza hoşgeldiniz!\n"
     ]
    },
    {
     "name": "stdin",
     "output_type": "stream",
     "text": [
      "İsminiz nedir? Ayşe\n"
     ]
    },
    {
     "name": "stdout",
     "output_type": "stream",
     "text": [
      "Sayın Ayşe restoranımıza hoşgeldiniz!\n"
     ]
    },
    {
     "name": "stdin",
     "output_type": "stream",
     "text": [
      "İsminiz nedir? dur\n"
     ]
    }
   ],
   "source": [
    "def selamlama(isim):\n",
    "    print(\"Sayın\", isim, \"restoranımıza hoşgeldiniz!\")\n",
    "while True:\n",
    "    Ad = input(\"İsminiz nedir?\")\n",
    "    if(Ad==\"dur\"):\n",
    "        break\n",
    "    selamlama(Ad)"
   ]
  },
  {
   "cell_type": "code",
   "execution_count": 9,
   "id": "8733af58-73a6-41b3-809d-a43bbc2c1eae",
   "metadata": {},
   "outputs": [
    {
     "name": "stdout",
     "output_type": "stream",
     "text": [
      "Sayın Talat restoranımıza hoşgeldiniz!\n",
      "Sayın İsa restoranımıza hoşgeldiniz!\n"
     ]
    }
   ],
   "source": [
    "#Varsayılan değer\n",
    "def selamlama(isim=\"Talat\"):\n",
    "    print(\"Sayın\", isim, \"restoranımıza hoşgeldiniz!\")\n",
    "\n",
    "selamlama()\n",
    "selamlama(\"İsa\")"
   ]
  },
  {
   "cell_type": "code",
   "execution_count": 11,
   "id": "68864ed5-3268-4910-aa48-b6daf3df1196",
   "metadata": {},
   "outputs": [
    {
     "name": "stdin",
     "output_type": "stream",
     "text": [
      "Dikdörtgenin uzun kenarını giriniz: 15\n",
      "Dikdörtgenin kısa kenarını giriniz: 8\n"
     ]
    },
    {
     "name": "stdout",
     "output_type": "stream",
     "text": [
      "Dikdörtgenin alanı:  120 m^2\n",
      "Dikdörtgenin çevresi:  46 m\n"
     ]
    }
   ],
   "source": [
    "#Fonksiyon çıktıları --> return()\n",
    "def alan(u,k):\n",
    "    A=u*k\n",
    "    return A\n",
    "def cevre(u,k):\n",
    "    C=2*(u+k)\n",
    "    return C\n",
    "u=int(input(\"Dikdörtgenin uzun kenarını giriniz:\"))   \n",
    "k=int(input(\"Dikdörtgenin kısa kenarını giriniz:\"))\n",
    "print(\"Dikdörtgenin alanı: \",alan(u,k), \"m^2\")\n",
    "print(\"Dikdörtgenin çevresi: \",cevre(u,k), \"m\")"
   ]
  },
  {
   "cell_type": "code",
   "execution_count": 14,
   "id": "5ea10ab6-9139-4e89-8a4b-2b5fc06d51ff",
   "metadata": {},
   "outputs": [
    {
     "name": "stdout",
     "output_type": "stream",
     "text": [
      "11\n"
     ]
    }
   ],
   "source": [
    "#fonksiyonda Global/yerel\n",
    "def topla():\n",
    "    a=5\n",
    "    b=6\n",
    "    return(a+b)\n",
    "print(topla()) \n",
    "#print(a) #a, fonksiyonun içindeki yerel değişken olduğu için print'te yazdırılmaz"
   ]
  },
  {
   "cell_type": "code",
   "execution_count": 17,
   "id": "2913c220-772c-46b9-912a-1acbb4db0c56",
   "metadata": {},
   "outputs": [
    {
     "name": "stdout",
     "output_type": "stream",
     "text": [
      "11\n",
      "5\n"
     ]
    }
   ],
   "source": [
    "#a yı global yaparsak dışarda da yazdırır\n",
    "#alt program\n",
    "def topla():\n",
    "    global a #global yazınca sayı atayamayız. --> \"global a=5\" şeklinde olamaz\n",
    "    a=5\n",
    "    b=6\n",
    "    return(a+b)\n",
    "    #ana program\n",
    "print(topla()) \n",
    "print(a)"
   ]
  },
  {
   "cell_type": "code",
   "execution_count": 21,
   "id": "4c4b0e24-d9e1-4e64-9434-3840008dc9d6",
   "metadata": {},
   "outputs": [
    {
     "name": "stdout",
     "output_type": "stream",
     "text": [
      "11\n",
      "None\n",
      "None\n",
      "None\n",
      "5\n"
     ]
    }
   ],
   "source": [
    "#İçeriği olmayan fonksiyon\n",
    "#alt program\n",
    "def topla():\n",
    "    global a\n",
    "    a=5\n",
    "    b=6\n",
    "    return(a+b)\n",
    "def carpma():\n",
    "    pass #içi boşken hata verme, None dönder --> 1.yol\n",
    "def bolme():\n",
    "    return #2. yol   \n",
    "def cikarma():\n",
    "    pass\n",
    "#ana program\n",
    "print(topla()) \n",
    "print(carpma())\n",
    "print(bolme()) \n",
    "print(cikarma()) \n",
    "print(a)"
   ]
  },
  {
   "cell_type": "code",
   "execution_count": 23,
   "id": "fdcafa5c-5c9d-4e21-a8a6-e8558c9d79bf",
   "metadata": {},
   "outputs": [
    {
     "name": "stdin",
     "output_type": "stream",
     "text": [
      "Türk Lirası Giriniz: 180\n"
     ]
    },
    {
     "name": "stdout",
     "output_type": "stream",
     "text": [
      "180 Türk Lirası= 10.0 Dolar\n"
     ]
    }
   ],
   "source": [
    "#Fonksiyon kısaltma--> lambda--> tek satırla yapılabilecek işlemler için\n",
    "#def dolar(TL):\n",
    "    #return(TL/18)\n",
    "dolar=lambda TL: TL/18 #dolar metotu tek satırda yazıalbilir\n",
    "TL = int(input(\"Türk Lirası Giriniz:\"))\n",
    "print(TL,\"Türk Lirası=\", dolar(TL), \"Dolar\")\n"
   ]
  },
  {
   "cell_type": "code",
   "execution_count": 24,
   "id": "bb21df48-0625-462a-a03d-e30ba653ed67",
   "metadata": {},
   "outputs": [
    {
     "name": "stdout",
     "output_type": "stream",
     "text": [
      "16\n"
     ]
    }
   ],
   "source": [
    "#Rekürsif Fonksiyon\n",
    "def ustel(a,b):\n",
    "    if b==0:\n",
    "        return 1\n",
    "    else:\n",
    "        return a*ustel(a,b-1)\n",
    "\n",
    "print(ustel(2,4))"
   ]
  },
  {
   "cell_type": "code",
   "execution_count": null,
   "id": "1cecab91-4ef9-4806-96c0-e5b9f584dd1b",
   "metadata": {},
   "outputs": [],
   "source": []
  }
 ],
 "metadata": {
  "kernelspec": {
   "display_name": "Python 3 (ipykernel)",
   "language": "python",
   "name": "python3"
  },
  "language_info": {
   "codemirror_mode": {
    "name": "ipython",
    "version": 3
   },
   "file_extension": ".py",
   "mimetype": "text/x-python",
   "name": "python",
   "nbconvert_exporter": "python",
   "pygments_lexer": "ipython3",
   "version": "3.12.5"
  }
 },
 "nbformat": 4,
 "nbformat_minor": 5
}
